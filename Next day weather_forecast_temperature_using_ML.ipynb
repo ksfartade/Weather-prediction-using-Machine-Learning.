{
 "cells": [
  {
   "cell_type": "markdown",
   "metadata": {
    "id": "kWdWCFYeL1mO"
   },
   "source": [
    "# **Weather parameters forecasting using Machine Learning models, Temperature**"
   ]
  },
  {
   "cell_type": "markdown",
   "metadata": {
    "id": "BDhwXq4xA_3i"
   },
   "source": [
    "# **1. Getting the Dataset**"
   ]
  },
  {
   "cell_type": "code",
   "execution_count": 1,
   "metadata": {
    "id": "l1ljZwkrZZr_"
   },
   "outputs": [
    {
     "data": {
      "text/html": [
       "<div>\n",
       "<style scoped>\n",
       "    .dataframe tbody tr th:only-of-type {\n",
       "        vertical-align: middle;\n",
       "    }\n",
       "\n",
       "    .dataframe tbody tr th {\n",
       "        vertical-align: top;\n",
       "    }\n",
       "\n",
       "    .dataframe thead th {\n",
       "        text-align: right;\n",
       "    }\n",
       "</style>\n",
       "<table border=\"1\" class=\"dataframe\">\n",
       "  <thead>\n",
       "    <tr style=\"text-align: right;\">\n",
       "      <th></th>\n",
       "      <th>Date/time</th>\n",
       "      <th>Airtemp min</th>\n",
       "      <th>Airtemp max</th>\n",
       "      <th>Airtemp mean</th>\n",
       "      <th>Rel.Hum min</th>\n",
       "      <th>Rel.Hum max</th>\n",
       "      <th>Rel.Hum mean</th>\n",
       "      <th>Day length durati</th>\n",
       "      <th>LeafWetness durati</th>\n",
       "    </tr>\n",
       "  </thead>\n",
       "  <tbody>\n",
       "    <tr>\n",
       "      <th>0</th>\n",
       "      <td>2007-01-01</td>\n",
       "      <td>9.2</td>\n",
       "      <td>30.0</td>\n",
       "      <td>18.3</td>\n",
       "      <td>37.0</td>\n",
       "      <td>100</td>\n",
       "      <td>76.0</td>\n",
       "      <td>34800.0</td>\n",
       "      <td>0.0</td>\n",
       "    </tr>\n",
       "    <tr>\n",
       "      <th>1</th>\n",
       "      <td>2007-01-02</td>\n",
       "      <td>8.2</td>\n",
       "      <td>31.1</td>\n",
       "      <td>17.9</td>\n",
       "      <td>34.0</td>\n",
       "      <td>100</td>\n",
       "      <td>75.0</td>\n",
       "      <td>35100.0</td>\n",
       "      <td>0.0</td>\n",
       "    </tr>\n",
       "    <tr>\n",
       "      <th>2</th>\n",
       "      <td>2007-01-03</td>\n",
       "      <td>8.0</td>\n",
       "      <td>31.0</td>\n",
       "      <td>18.0</td>\n",
       "      <td>38.0</td>\n",
       "      <td>100</td>\n",
       "      <td>77.0</td>\n",
       "      <td>34800.0</td>\n",
       "      <td>0.0</td>\n",
       "    </tr>\n",
       "    <tr>\n",
       "      <th>3</th>\n",
       "      <td>2007-01-04</td>\n",
       "      <td>8.9</td>\n",
       "      <td>31.5</td>\n",
       "      <td>18.7</td>\n",
       "      <td>37.0</td>\n",
       "      <td>100</td>\n",
       "      <td>77.0</td>\n",
       "      <td>35400.0</td>\n",
       "      <td>0.0</td>\n",
       "    </tr>\n",
       "    <tr>\n",
       "      <th>4</th>\n",
       "      <td>2007-01-05</td>\n",
       "      <td>9.8</td>\n",
       "      <td>30.7</td>\n",
       "      <td>19.0</td>\n",
       "      <td>37.0</td>\n",
       "      <td>100</td>\n",
       "      <td>75.0</td>\n",
       "      <td>35400.0</td>\n",
       "      <td>0.0</td>\n",
       "    </tr>\n",
       "    <tr>\n",
       "      <th>5</th>\n",
       "      <td>2007-01-06</td>\n",
       "      <td>10.1</td>\n",
       "      <td>30.2</td>\n",
       "      <td>18.6</td>\n",
       "      <td>37.0</td>\n",
       "      <td>100</td>\n",
       "      <td>75.0</td>\n",
       "      <td>34500.0</td>\n",
       "      <td>0.0</td>\n",
       "    </tr>\n",
       "    <tr>\n",
       "      <th>6</th>\n",
       "      <td>2007-01-07</td>\n",
       "      <td>8.6</td>\n",
       "      <td>29.6</td>\n",
       "      <td>18.0</td>\n",
       "      <td>42.0</td>\n",
       "      <td>100</td>\n",
       "      <td>79.0</td>\n",
       "      <td>31500.0</td>\n",
       "      <td>0.0</td>\n",
       "    </tr>\n",
       "    <tr>\n",
       "      <th>7</th>\n",
       "      <td>2007-01-08</td>\n",
       "      <td>9.3</td>\n",
       "      <td>29.4</td>\n",
       "      <td>18.2</td>\n",
       "      <td>46.0</td>\n",
       "      <td>100</td>\n",
       "      <td>80.0</td>\n",
       "      <td>26100.0</td>\n",
       "      <td>0.0</td>\n",
       "    </tr>\n",
       "    <tr>\n",
       "      <th>8</th>\n",
       "      <td>2007-01-09</td>\n",
       "      <td>8.8</td>\n",
       "      <td>30.9</td>\n",
       "      <td>18.6</td>\n",
       "      <td>39.0</td>\n",
       "      <td>100</td>\n",
       "      <td>77.0</td>\n",
       "      <td>22800.0</td>\n",
       "      <td>0.0</td>\n",
       "    </tr>\n",
       "    <tr>\n",
       "      <th>9</th>\n",
       "      <td>2007-01-10</td>\n",
       "      <td>8.5</td>\n",
       "      <td>31.3</td>\n",
       "      <td>18.4</td>\n",
       "      <td>39.0</td>\n",
       "      <td>100</td>\n",
       "      <td>78.0</td>\n",
       "      <td>22500.0</td>\n",
       "      <td>0.0</td>\n",
       "    </tr>\n",
       "    <tr>\n",
       "      <th>10</th>\n",
       "      <td>2007-01-11</td>\n",
       "      <td>9.4</td>\n",
       "      <td>30.0</td>\n",
       "      <td>18.7</td>\n",
       "      <td>42.0</td>\n",
       "      <td>100</td>\n",
       "      <td>79.0</td>\n",
       "      <td>27900.0</td>\n",
       "      <td>0.0</td>\n",
       "    </tr>\n",
       "    <tr>\n",
       "      <th>11</th>\n",
       "      <td>2007-01-12</td>\n",
       "      <td>9.6</td>\n",
       "      <td>32.2</td>\n",
       "      <td>19.4</td>\n",
       "      <td>35.0</td>\n",
       "      <td>100</td>\n",
       "      <td>76.0</td>\n",
       "      <td>35400.0</td>\n",
       "      <td>0.0</td>\n",
       "    </tr>\n",
       "    <tr>\n",
       "      <th>12</th>\n",
       "      <td>2007-01-13</td>\n",
       "      <td>9.9</td>\n",
       "      <td>31.6</td>\n",
       "      <td>19.6</td>\n",
       "      <td>40.0</td>\n",
       "      <td>100</td>\n",
       "      <td>76.0</td>\n",
       "      <td>35400.0</td>\n",
       "      <td>0.0</td>\n",
       "    </tr>\n",
       "    <tr>\n",
       "      <th>13</th>\n",
       "      <td>2007-01-14</td>\n",
       "      <td>9.4</td>\n",
       "      <td>32.5</td>\n",
       "      <td>19.6</td>\n",
       "      <td>38.0</td>\n",
       "      <td>100</td>\n",
       "      <td>77.0</td>\n",
       "      <td>35700.0</td>\n",
       "      <td>0.0</td>\n",
       "    </tr>\n",
       "    <tr>\n",
       "      <th>14</th>\n",
       "      <td>2007-01-15</td>\n",
       "      <td>9.9</td>\n",
       "      <td>33.4</td>\n",
       "      <td>20.2</td>\n",
       "      <td>34.0</td>\n",
       "      <td>100</td>\n",
       "      <td>73.0</td>\n",
       "      <td>35700.0</td>\n",
       "      <td>0.0</td>\n",
       "    </tr>\n",
       "  </tbody>\n",
       "</table>\n",
       "</div>"
      ],
      "text/plain": [
       "    Date/time  Airtemp min  Airtemp max  Airtemp mean  Rel.Hum min  \\\n",
       "0  2007-01-01          9.2         30.0          18.3         37.0   \n",
       "1  2007-01-02          8.2         31.1          17.9         34.0   \n",
       "2  2007-01-03          8.0         31.0          18.0         38.0   \n",
       "3  2007-01-04          8.9         31.5          18.7         37.0   \n",
       "4  2007-01-05          9.8         30.7          19.0         37.0   \n",
       "5  2007-01-06         10.1         30.2          18.6         37.0   \n",
       "6  2007-01-07          8.6         29.6          18.0         42.0   \n",
       "7  2007-01-08          9.3         29.4          18.2         46.0   \n",
       "8  2007-01-09          8.8         30.9          18.6         39.0   \n",
       "9  2007-01-10          8.5         31.3          18.4         39.0   \n",
       "10 2007-01-11          9.4         30.0          18.7         42.0   \n",
       "11 2007-01-12          9.6         32.2          19.4         35.0   \n",
       "12 2007-01-13          9.9         31.6          19.6         40.0   \n",
       "13 2007-01-14          9.4         32.5          19.6         38.0   \n",
       "14 2007-01-15          9.9         33.4          20.2         34.0   \n",
       "\n",
       "    Rel.Hum max  Rel.Hum mean  Day length durati  LeafWetness durati  \n",
       "0           100          76.0            34800.0                 0.0  \n",
       "1           100          75.0            35100.0                 0.0  \n",
       "2           100          77.0            34800.0                 0.0  \n",
       "3           100          77.0            35400.0                 0.0  \n",
       "4           100          75.0            35400.0                 0.0  \n",
       "5           100          75.0            34500.0                 0.0  \n",
       "6           100          79.0            31500.0                 0.0  \n",
       "7           100          80.0            26100.0                 0.0  \n",
       "8           100          77.0            22800.0                 0.0  \n",
       "9           100          78.0            22500.0                 0.0  \n",
       "10          100          79.0            27900.0                 0.0  \n",
       "11          100          76.0            35400.0                 0.0  \n",
       "12          100          76.0            35400.0                 0.0  \n",
       "13          100          77.0            35700.0                 0.0  \n",
       "14          100          73.0            35700.0                 0.0  "
      ]
     },
     "execution_count": 1,
     "metadata": {},
     "output_type": "execute_result"
    }
   ],
   "source": [
    "import numpy as np\n",
    "import pandas as pd\n",
    "import seaborn as sns\n",
    "\n",
    "import matplotlib.pyplot as plt\n",
    "import math\n",
    "weather_data= pd.DataFrame(pd.read_excel(\"everydaydata.xlsx\"))\n",
    "weather_data.head(15)"
   ]
  },
  {
   "cell_type": "markdown",
   "metadata": {
    "id": "6KHC_UiLBVMq"
   },
   "source": [
    "# **2. Plotting the Graphs**"
   ]
  },
  {
   "cell_type": "code",
   "execution_count": 2,
   "metadata": {
    "id": "D-iy04uJ3RGZ"
   },
   "outputs": [
    {
     "data": {
      "text/plain": [
       "<AxesSubplot:ylabel='Frequency'>"
      ]
     },
     "execution_count": 2,
     "metadata": {},
     "output_type": "execute_result"
    },
    {
     "data": {
      "image/png": "[encoded data removed]",
      "text/plain": [
       "<Figure size 432x288 with 1 Axes>"
      ]
     },
     "metadata": {
      "needs_background": "light"
     },
     "output_type": "display_data"
    }
   ],
   "source": [
    "weather_data[\"Airtemp min\"].plot.hist()"
   ]
  },
  {
   "cell_type": "code",
   "execution_count": 3,
   "metadata": {
    "id": "8Tsr-prz2o1a"
   },
   "outputs": [
    {
     "data": {
      "text/plain": [
       "<AxesSubplot:ylabel='Frequency'>"
      ]
     },
     "execution_count": 3,
     "metadata": {},
     "output_type": "execute_result"
    },
    {
     "data": {
      "image/png": "[encoded data removed]",
      "text/plain": [
       "<Figure size 432x288 with 1 Axes>"
      ]
     },
     "metadata": {
      "needs_background": "light"
     },
     "output_type": "display_data"
    }
   ],
   "source": [
    "weather_data[\"Airtemp max\"].plot.hist()"
   ]
  },
  {
   "cell_type": "code",
   "execution_count": 4,
   "metadata": {
    "id": "aF8JqqNVoB7I"
   },
   "outputs": [
    {
     "data": {
      "text/plain": [
       "<AxesSubplot:ylabel='Frequency'>"
      ]
     },
     "execution_count": 4,
     "metadata": {},
     "output_type": "execute_result"
    },
    {
     "data": {
      "image/png": "[encoded data removed]",
      "text/plain": [
       "<Figure size 432x288 with 1 Axes>"
      ]
     },
     "metadata": {
      "needs_background": "light"
     },
     "output_type": "display_data"
    }
   ],
   "source": [
    "weather_data[\"Rel.Hum mean\"].plot.hist()"
   ]
  },
  {
   "cell_type": "markdown",
   "metadata": {
    "id": "JPC8_IG3BtBy"
   },
   "source": [
    "# **3. Finding the Null values**"
   ]
  },
  {
   "cell_type": "code",
   "execution_count": 5,
   "metadata": {
    "id": "NxYqXYWxff2X"
   },
   "outputs": [
    {
     "data": {
      "text/html": [
       "<div>\n",
       "<style scoped>\n",
       "    .dataframe tbody tr th:only-of-type {\n",
       "        vertical-align: middle;\n",
       "    }\n",
       "\n",
       "    .dataframe tbody tr th {\n",
       "        vertical-align: top;\n",
       "    }\n",
       "\n",
       "    .dataframe thead th {\n",
       "        text-align: right;\n",
       "    }\n",
       "</style>\n",
       "<table border=\"1\" class=\"dataframe\">\n",
       "  <thead>\n",
       "    <tr style=\"text-align: right;\">\n",
       "      <th></th>\n",
       "      <th>Date/time</th>\n",
       "      <th>Airtemp min</th>\n",
       "      <th>Airtemp max</th>\n",
       "      <th>Airtemp mean</th>\n",
       "      <th>Rel.Hum min</th>\n",
       "      <th>Rel.Hum max</th>\n",
       "      <th>Rel.Hum mean</th>\n",
       "      <th>Day length durati</th>\n",
       "      <th>LeafWetness durati</th>\n",
       "    </tr>\n",
       "  </thead>\n",
       "  <tbody>\n",
       "    <tr>\n",
       "      <th>0</th>\n",
       "      <td>False</td>\n",
       "      <td>False</td>\n",
       "      <td>False</td>\n",
       "      <td>False</td>\n",
       "      <td>False</td>\n",
       "      <td>False</td>\n",
       "      <td>False</td>\n",
       "      <td>False</td>\n",
       "      <td>False</td>\n",
       "    </tr>\n",
       "    <tr>\n",
       "      <th>1</th>\n",
       "      <td>False</td>\n",
       "      <td>False</td>\n",
       "      <td>False</td>\n",
       "      <td>False</td>\n",
       "      <td>False</td>\n",
       "      <td>False</td>\n",
       "      <td>False</td>\n",
       "      <td>False</td>\n",
       "      <td>False</td>\n",
       "    </tr>\n",
       "    <tr>\n",
       "      <th>2</th>\n",
       "      <td>False</td>\n",
       "      <td>False</td>\n",
       "      <td>False</td>\n",
       "      <td>False</td>\n",
       "      <td>False</td>\n",
       "      <td>False</td>\n",
       "      <td>False</td>\n",
       "      <td>False</td>\n",
       "      <td>False</td>\n",
       "    </tr>\n",
       "    <tr>\n",
       "      <th>3</th>\n",
       "      <td>False</td>\n",
       "      <td>False</td>\n",
       "      <td>False</td>\n",
       "      <td>False</td>\n",
       "      <td>False</td>\n",
       "      <td>False</td>\n",
       "      <td>False</td>\n",
       "      <td>False</td>\n",
       "      <td>False</td>\n",
       "    </tr>\n",
       "    <tr>\n",
       "      <th>4</th>\n",
       "      <td>False</td>\n",
       "      <td>False</td>\n",
       "      <td>False</td>\n",
       "      <td>False</td>\n",
       "      <td>False</td>\n",
       "      <td>False</td>\n",
       "      <td>False</td>\n",
       "      <td>False</td>\n",
       "      <td>False</td>\n",
       "    </tr>\n",
       "    <tr>\n",
       "      <th>...</th>\n",
       "      <td>...</td>\n",
       "      <td>...</td>\n",
       "      <td>...</td>\n",
       "      <td>...</td>\n",
       "      <td>...</td>\n",
       "      <td>...</td>\n",
       "      <td>...</td>\n",
       "      <td>...</td>\n",
       "      <td>...</td>\n",
       "    </tr>\n",
       "    <tr>\n",
       "      <th>2187</th>\n",
       "      <td>False</td>\n",
       "      <td>False</td>\n",
       "      <td>False</td>\n",
       "      <td>False</td>\n",
       "      <td>False</td>\n",
       "      <td>False</td>\n",
       "      <td>False</td>\n",
       "      <td>False</td>\n",
       "      <td>False</td>\n",
       "    </tr>\n",
       "    <tr>\n",
       "      <th>2188</th>\n",
       "      <td>False</td>\n",
       "      <td>False</td>\n",
       "      <td>False</td>\n",
       "      <td>False</td>\n",
       "      <td>False</td>\n",
       "      <td>False</td>\n",
       "      <td>False</td>\n",
       "      <td>False</td>\n",
       "      <td>False</td>\n",
       "    </tr>\n",
       "    <tr>\n",
       "      <th>2189</th>\n",
       "      <td>False</td>\n",
       "      <td>False</td>\n",
       "      <td>False</td>\n",
       "      <td>False</td>\n",
       "      <td>False</td>\n",
       "      <td>False</td>\n",
       "      <td>False</td>\n",
       "      <td>False</td>\n",
       "      <td>False</td>\n",
       "    </tr>\n",
       "    <tr>\n",
       "      <th>2190</th>\n",
       "      <td>False</td>\n",
       "      <td>False</td>\n",
       "      <td>False</td>\n",
       "      <td>False</td>\n",
       "      <td>False</td>\n",
       "      <td>False</td>\n",
       "      <td>False</td>\n",
       "      <td>False</td>\n",
       "      <td>False</td>\n",
       "    </tr>\n",
       "    <tr>\n",
       "      <th>2191</th>\n",
       "      <td>False</td>\n",
       "      <td>False</td>\n",
       "      <td>False</td>\n",
       "      <td>False</td>\n",
       "      <td>False</td>\n",
       "      <td>False</td>\n",
       "      <td>False</td>\n",
       "      <td>False</td>\n",
       "      <td>False</td>\n",
       "    </tr>\n",
       "  </tbody>\n",
       "</table>\n",
       "<p>2192 rows × 9 columns</p>\n",
       "</div>"
      ],
      "text/plain": [
       "      Date/time  Airtemp min  Airtemp max  Airtemp mean  Rel.Hum min  \\\n",
       "0         False        False        False         False        False   \n",
       "1         False        False        False         False        False   \n",
       "2         False        False        False         False        False   \n",
       "3         False        False        False         False        False   \n",
       "4         False        False        False         False        False   \n",
       "...         ...          ...          ...           ...          ...   \n",
       "2187      False        False        False         False        False   \n",
       "2188      False        False        False         False        False   \n",
       "2189      False        False        False         False        False   \n",
       "2190      False        False        False         False        False   \n",
       "2191      False        False        False         False        False   \n",
       "\n",
       "      Rel.Hum max  Rel.Hum mean  Day length durati  LeafWetness durati  \n",
       "0           False         False              False               False  \n",
       "1           False         False              False               False  \n",
       "2           False         False              False               False  \n",
       "3           False         False              False               False  \n",
       "4           False         False              False               False  \n",
       "...           ...           ...                ...                 ...  \n",
       "2187        False         False              False               False  \n",
       "2188        False         False              False               False  \n",
       "2189        False         False              False               False  \n",
       "2190        False         False              False               False  \n",
       "2191        False         False              False               False  \n",
       "\n",
       "[2192 rows x 9 columns]"
      ]
     },
     "execution_count": 5,
     "metadata": {},
     "output_type": "execute_result"
    }
   ],
   "source": [
    "weather_data.isnull()"
   ]
  },
  {
   "cell_type": "code",
   "execution_count": 6,
   "metadata": {
    "id": "5pJtumqWfmRt"
   },
   "outputs": [
    {
     "data": {
      "text/plain": [
       "Date/time             0\n",
       "Airtemp min           0\n",
       "Airtemp max           0\n",
       "Airtemp mean          0\n",
       "Rel.Hum min           0\n",
       "Rel.Hum max           0\n",
       "Rel.Hum mean          0\n",
       "Day length durati     0\n",
       "LeafWetness durati    0\n",
       "dtype: int64"
      ]
     },
     "execution_count": 6,
     "metadata": {},
     "output_type": "execute_result"
    }
   ],
   "source": [
    "weather_data.isnull().sum()"
   ]
  },
  {
   "cell_type": "markdown",
   "metadata": {
    "id": "cePZ8_u6CHWT"
   },
   "source": [
    "# **5. Droping the values**"
   ]
  },
  {
   "cell_type": "code",
   "execution_count": 7,
   "metadata": {
    "id": "oHsS81oOtLM7"
   },
   "outputs": [
    {
     "data": {
      "text/html": [
       "<div>\n",
       "<style scoped>\n",
       "    .dataframe tbody tr th:only-of-type {\n",
       "        vertical-align: middle;\n",
       "    }\n",
       "\n",
       "    .dataframe tbody tr th {\n",
       "        vertical-align: top;\n",
       "    }\n",
       "\n",
       "    .dataframe thead th {\n",
       "        text-align: right;\n",
       "    }\n",
       "</style>\n",
       "<table border=\"1\" class=\"dataframe\">\n",
       "  <thead>\n",
       "    <tr style=\"text-align: right;\">\n",
       "      <th></th>\n",
       "      <th>Airtemp min</th>\n",
       "      <th>Airtemp max</th>\n",
       "      <th>Airtemp mean</th>\n",
       "      <th>Rel.Hum min</th>\n",
       "      <th>Rel.Hum max</th>\n",
       "      <th>Rel.Hum mean</th>\n",
       "      <th>Day length durati</th>\n",
       "      <th>LeafWetness durati</th>\n",
       "    </tr>\n",
       "  </thead>\n",
       "  <tbody>\n",
       "    <tr>\n",
       "      <th>0</th>\n",
       "      <td>9.2</td>\n",
       "      <td>30.0</td>\n",
       "      <td>18.3</td>\n",
       "      <td>37.0</td>\n",
       "      <td>100</td>\n",
       "      <td>76.0</td>\n",
       "      <td>34800.0</td>\n",
       "      <td>0.0</td>\n",
       "    </tr>\n",
       "    <tr>\n",
       "      <th>1</th>\n",
       "      <td>8.2</td>\n",
       "      <td>31.1</td>\n",
       "      <td>17.9</td>\n",
       "      <td>34.0</td>\n",
       "      <td>100</td>\n",
       "      <td>75.0</td>\n",
       "      <td>35100.0</td>\n",
       "      <td>0.0</td>\n",
       "    </tr>\n",
       "    <tr>\n",
       "      <th>2</th>\n",
       "      <td>8.0</td>\n",
       "      <td>31.0</td>\n",
       "      <td>18.0</td>\n",
       "      <td>38.0</td>\n",
       "      <td>100</td>\n",
       "      <td>77.0</td>\n",
       "      <td>34800.0</td>\n",
       "      <td>0.0</td>\n",
       "    </tr>\n",
       "    <tr>\n",
       "      <th>3</th>\n",
       "      <td>8.9</td>\n",
       "      <td>31.5</td>\n",
       "      <td>18.7</td>\n",
       "      <td>37.0</td>\n",
       "      <td>100</td>\n",
       "      <td>77.0</td>\n",
       "      <td>35400.0</td>\n",
       "      <td>0.0</td>\n",
       "    </tr>\n",
       "    <tr>\n",
       "      <th>4</th>\n",
       "      <td>9.8</td>\n",
       "      <td>30.7</td>\n",
       "      <td>19.0</td>\n",
       "      <td>37.0</td>\n",
       "      <td>100</td>\n",
       "      <td>75.0</td>\n",
       "      <td>35400.0</td>\n",
       "      <td>0.0</td>\n",
       "    </tr>\n",
       "  </tbody>\n",
       "</table>\n",
       "</div>"
      ],
      "text/plain": [
       "   Airtemp min  Airtemp max  Airtemp mean  Rel.Hum min  Rel.Hum max  \\\n",
       "0          9.2         30.0          18.3         37.0          100   \n",
       "1          8.2         31.1          17.9         34.0          100   \n",
       "2          8.0         31.0          18.0         38.0          100   \n",
       "3          8.9         31.5          18.7         37.0          100   \n",
       "4          9.8         30.7          19.0         37.0          100   \n",
       "\n",
       "   Rel.Hum mean  Day length durati  LeafWetness durati  \n",
       "0          76.0            34800.0                 0.0  \n",
       "1          75.0            35100.0                 0.0  \n",
       "2          77.0            34800.0                 0.0  \n",
       "3          77.0            35400.0                 0.0  \n",
       "4          75.0            35400.0                 0.0  "
      ]
     },
     "execution_count": 7,
     "metadata": {},
     "output_type": "execute_result"
    }
   ],
   "source": [
    "weather_data.drop(\"Date/time\", axis=1, inplace=True)\n",
    "weather_data.head()"
   ]
  },
  {
   "cell_type": "code",
   "execution_count": 8,
   "metadata": {
    "id": "Rd6vBdka5KdE"
   },
   "outputs": [
    {
     "data": {
      "text/plain": [
       "array([ 9.2,  8.2,  8. , ...,  9.2, 10.9, 18.1])"
      ]
     },
     "execution_count": 8,
     "metadata": {},
     "output_type": "execute_result"
    }
   ],
   "source": [
    "X=weather_data.drop(\"Airtemp min\",axis=1)\n",
    "y=weather_data[\"Airtemp min\"].values\n",
    "y"
   ]
  },
  {
   "cell_type": "code",
   "execution_count": 9,
   "metadata": {},
   "outputs": [
    {
     "data": {
      "text/plain": [
       "array([ 9.2,  8.2,  8. , ...,  9.2, 10.9, 18.1])"
      ]
     },
     "execution_count": 9,
     "metadata": {},
     "output_type": "execute_result"
    }
   ],
   "source": [
    "y"
   ]
  },
  {
   "cell_type": "markdown",
   "metadata": {
    "id": "4AWVIkoZDSmD"
   },
   "source": [
    "# **7. Train and Test**"
   ]
  },
  {
   "cell_type": "code",
   "execution_count": 10,
   "metadata": {
    "id": "w_T64Ttf6OMu"
   },
   "outputs": [],
   "source": [
    "from sklearn.model_selection import train_test_split\n",
    "X_train, X_test, y_train, y_test= train_test_split(X,y,test_size=0.1,random_state=15)"
   ]
  },
  {
   "cell_type": "code",
   "execution_count": 11,
   "metadata": {},
   "outputs": [],
   "source": [
    "from sklearn.preprocessing import MinMaxScaler\n",
    "scaler = MinMaxScaler()\n",
    "X_train = scaler.fit_transform(X_train)   #scale the training data and also learn the scaling parameters.\n",
    "X_test = scaler.transform(X_test)"
   ]
  },
  {
   "cell_type": "code",
   "execution_count": 12,
   "metadata": {},
   "outputs": [
    {
     "data": {
      "text/plain": [
       "array([[4.95535714e-01, 5.80808081e-01, 5.88888889e-01, ...,\n",
       "        8.58974359e-01, 8.64505688e-01, 4.51388889e-01],\n",
       "       [6.78571429e-01, 6.86868687e-01, 2.22222222e-01, ...,\n",
       "        5.00000000e-01, 9.48383119e-01, 0.00000000e+00],\n",
       "       [7.63392857e-01, 6.26262626e-01, 8.88888889e-02, ...,\n",
       "        2.94871795e-01, 8.77409908e-01, 0.00000000e+00],\n",
       "       ...,\n",
       "       [4.68750000e-01, 5.85858586e-01, 6.11111111e-01, ...,\n",
       "        8.46153846e-01, 8.51601467e-01, 2.46527778e-01],\n",
       "       [4.55357143e-01, 5.50505051e-01, 2.66666667e-01, ...,\n",
       "        6.02564103e-01, 1.20080938e-04, 4.43672840e-05],\n",
       "       [5.00000000e-01, 5.55555556e-01, 2.44444444e-01, ...,\n",
       "        6.79487179e-01, 8.70957798e-01, 0.00000000e+00]])"
      ]
     },
     "execution_count": 12,
     "metadata": {},
     "output_type": "execute_result"
    }
   ],
   "source": [
    "X_train"
   ]
  },
  {
   "cell_type": "markdown",
   "metadata": {
    "id": "k1qxis_sXZCC"
   },
   "source": [
    "##  Decision tree and adaboost regressor"
   ]
  },
  {
   "cell_type": "code",
   "execution_count": 13,
   "metadata": {
    "id": "BCgR8xuvXilZ"
   },
   "outputs": [],
   "source": [
    "from sklearn.ensemble import AdaBoostRegressor\n",
    "from sklearn.tree import DecisionTreeRegressor\n",
    "rng = np.random.RandomState(1)        # number of methods for generating random numbers \n",
    "regr_1 = DecisionTreeRegressor(max_depth=4)  # maximum depth of the tree\n",
    "\n",
    "# 299 boosts (300 decision trees) is compared with a single decision tree regressor. As the number of boosts is increased the regressor can fit more detail\n",
    "regr_2 = AdaBoostRegressor(\n",
    "    DecisionTreeRegressor(max_depth=4), n_estimators=300, random_state=rng\n",
    ")\n",
    "\n",
    "regr_1.fit(X_train, y_train)\n",
    "regr_2.fit(X_train, y_train)\n",
    "\n",
    "y_1d = regr_1.predict(X_train)\n",
    "y_2d = regr_1.predict(X_test)\n",
    "\n",
    "y_1ad = regr_1.predict(X_train)\n",
    "y_2ad = regr_2.predict(X_test)"
   ]
  },
  {
   "cell_type": "code",
   "execution_count": 14,
   "metadata": {
    "id": "wEl6zKCTbaO-"
   },
   "outputs": [],
   "source": [
    "from sklearn.metrics import mean_squared_error as mse"
   ]
  },
  {
   "cell_type": "code",
   "execution_count": 15,
   "metadata": {
    "id": "x-wg80FaczPf"
   },
   "outputs": [
    {
     "name": "stdout",
     "output_type": "stream",
     "text": [
      "Mean Squared error on training data --> 2.998211316055292\n",
      "Mean Squared error on test data --> 4.827431700229797\n"
     ]
    }
   ],
   "source": [
    "print(\"Mean Squared error on training data --> {}\\nMean Squared error on test data --> {}\".format(mse(y_train, y_1d), mse(y_test, y_2d)))"
   ]
  },
  {
   "cell_type": "code",
   "execution_count": 16,
   "metadata": {},
   "outputs": [
    {
     "name": "stdout",
     "output_type": "stream",
     "text": [
      "Mean Squared error on training data --> 2.998211316055292\n",
      "Mean Squared error on test data --> 1.8667041793458148\n"
     ]
    }
   ],
   "source": [
    "print(\"Mean Squared error on training data --> {}\\nMean Squared error on test data --> {}\".format(mse(y_train, y_1ad), mse(y_test, y_2ad)))"
   ]
  },
  {
   "cell_type": "code",
   "execution_count": 17,
   "metadata": {
    "id": "DBHDKz0kHdcj"
   },
   "outputs": [
    {
     "name": "stdout",
     "output_type": "stream",
     "text": [
      "root Mean Squared error on training data --> 1.7315343820020705\n",
      " root Mean Squared error on test data --> 2.1971417114582747\n"
     ]
    }
   ],
   "source": [
    "from math import sqrt\n",
    "print(\"root Mean Squared error on training data --> {}\\n root Mean Squared error on test data --> {}\".format(sqrt(mse(y_train, y_1d)), sqrt( mse(y_test, y_2d)) ))"
   ]
  },
  {
   "cell_type": "code",
   "execution_count": 18,
   "metadata": {},
   "outputs": [
    {
     "name": "stdout",
     "output_type": "stream",
     "text": [
      "root Mean Squared error on training data --> 1.7315343820020705\n",
      " root Mean Squared error on test data --> 1.366273830293845\n"
     ]
    }
   ],
   "source": [
    "print(\"root Mean Squared error on training data --> {}\\n root Mean Squared error on test data --> {}\".format(sqrt(mse(y_train, y_1ad)), sqrt( mse(y_test, y_2ad)) ))"
   ]
  },
  {
   "cell_type": "code",
   "execution_count": 19,
   "metadata": {
    "id": "WBe_3JS9brvZ"
   },
   "outputs": [
    {
     "name": "stdout",
     "output_type": "stream",
     "text": [
      "Mean absolute error on training data --> 1.3361704524230282\n",
      "Mean absolute error on test data --> 1.6708328046069931\n"
     ]
    }
   ],
   "source": [
    "from sklearn.metrics import mean_absolute_error as mae\n",
    "print(\"Mean absolute error on training data --> {}\\nMean absolute error on test data --> {}\".format(mae(y_train, y_1d), mae(y_test, y_2d)))"
   ]
  },
  {
   "cell_type": "code",
   "execution_count": 20,
   "metadata": {},
   "outputs": [
    {
     "name": "stdout",
     "output_type": "stream",
     "text": [
      "Mean absolute error on training data --> 1.3361704524230282\n",
      "Mean absolute error on test data --> 1.1118645758773913\n"
     ]
    }
   ],
   "source": [
    "from sklearn.metrics import mean_absolute_error as mae\n",
    "print(\"Mean absolute error on training data --> {}\\nMean absolute error on test data --> {}\".format(mae(y_train, y_1ad), mae(y_test, y_2ad)))"
   ]
  },
  {
   "cell_type": "code",
   "execution_count": 21,
   "metadata": {
    "id": "hx0_mD75ECHu"
   },
   "outputs": [
    {
     "name": "stdout",
     "output_type": "stream",
     "text": [
      "R-Squared: 0.8867026246838929\n"
     ]
    }
   ],
   "source": [
    "# not shows expected or good result\n",
    "import sklearn.metrics as metrics\n",
    "r1_sk = metrics.r2_score(y_train,y_1d)\n",
    "r2_sk = metrics.r2_score(y_test,y_2d)\n",
    "print(\"R-Squared:\", r1_sk)\n",
    "#print(\"coefficient of determination on training data --> {}\\n coefficient of determination on test data --> {}\".format(r1_sk, r2_sk))"
   ]
  },
  {
   "cell_type": "code",
   "execution_count": 22,
   "metadata": {},
   "outputs": [
    {
     "name": "stdout",
     "output_type": "stream",
     "text": [
      "R-Squared: 0.8867026246838929\n"
     ]
    }
   ],
   "source": [
    "r1_sk = metrics.r2_score(y_train,y_1ad)\n",
    "r2_sk = metrics.r2_score(y_test,y_2ad)\n",
    "print(\"R-Squared:\", r1_sk)"
   ]
  },
  {
   "cell_type": "markdown",
   "metadata": {
    "id": "KWURXs8MbetZ"
   },
   "source": [
    "## linear regression"
   ]
  },
  {
   "cell_type": "code",
   "execution_count": 23,
   "metadata": {
    "id": "nGkZJB90ECM5"
   },
   "outputs": [],
   "source": [
    "#LinearRegression fits a linear model with coefficients w = (w1, …, wp) to minimize the residual sum of squares between the observed targets in the dataset, and the targets predicted by the linear approximation.\n",
    "from sklearn.linear_model import LinearRegression as lr\n",
    "lrr = lr().fit(X_train,y_train)"
   ]
  },
  {
   "cell_type": "code",
   "execution_count": 24,
   "metadata": {
    "id": "zfA_jN2WECQD"
   },
   "outputs": [
    {
     "name": "stdout",
     "output_type": "stream",
     "text": [
      "Mean Squared error on training data --> 0.80538262706277\n",
      "Mean Squared error on test data --> 0.7739181884211037\n"
     ]
    }
   ],
   "source": [
    "predlrtest = lrr.predict(X_test)\n",
    "predlrtrain = lrr.predict(X_train)\n",
    "print(\"Mean Squared error on training data --> {}\\nMean Squared error on test data --> {}\".format(mse(y_train, predlrtrain), mse(y_test, predlrtest)))"
   ]
  },
  {
   "cell_type": "code",
   "execution_count": 25,
   "metadata": {
    "id": "z7R2eUiQECTW"
   },
   "outputs": [
    {
     "name": "stdout",
     "output_type": "stream",
     "text": [
      "root Mean Squared error on training data --> 0.8974311266402397\n",
      " root Mean Squared error on test data --> 0.8797262008267707\n"
     ]
    }
   ],
   "source": [
    "print(\"root Mean Squared error on training data --> {}\\n root Mean Squared error on test data --> {}\".format(sqrt(mse(y_train, predlrtrain)), sqrt( mse(y_test, predlrtest)) ))"
   ]
  },
  {
   "cell_type": "code",
   "execution_count": 26,
   "metadata": {
    "id": "tUePrH6ehrtW"
   },
   "outputs": [
    {
     "name": "stdout",
     "output_type": "stream",
     "text": [
      "Mean absolute error on training data --> 0.6517521642602937\n",
      "Mean absolute error on test data --> 0.6791429792875348\n"
     ]
    }
   ],
   "source": [
    "print(\"Mean absolute error on training data --> {}\\nMean absolute error on test data --> {}\".format(mae(y_train, predlrtrain), mae(y_test, predlrtest)))"
   ]
  },
  {
   "cell_type": "code",
   "execution_count": 27,
   "metadata": {},
   "outputs": [
    {
     "name": "stdout",
     "output_type": "stream",
     "text": [
      "R-Squared: 0.9695659417724244\n"
     ]
    }
   ],
   "source": [
    "r1_sk = metrics.r2_score(y_train,predlrtrain)\n",
    "r2_sk = metrics.r2_score(y_test,predlrtest)\n",
    "print(\"R-Squared:\", r1_sk)"
   ]
  },
  {
   "cell_type": "code",
   "execution_count": 28,
   "metadata": {},
   "outputs": [
    {
     "name": "stdout",
     "output_type": "stream",
     "text": [
      "[18.99957518]\n"
     ]
    }
   ],
   "source": [
    "today = X_test[5].reshape(1,-1)\n",
    "todaytemp = lrr.predict(today)\n",
    "print(todaytemp)"
   ]
  },
  {
   "cell_type": "markdown",
   "metadata": {
    "id": "QB81e5rbiDLY"
   },
   "source": [
    "## Ridge regression"
   ]
  },
  {
   "cell_type": "code",
   "execution_count": 29,
   "metadata": {
    "id": "URDZ1ACchrv3"
   },
   "outputs": [
    {
     "data": {
      "text/plain": [
       "Ridge()"
      ]
     },
     "execution_count": 29,
     "metadata": {},
     "output_type": "execute_result"
    }
   ],
   "source": [
    "# used to reduce complexity of model.This method performs L2 regularization. When the issue of multicollinearity occurs, least-squares are unbiased, and variances are large, this results in predicted values being far away from the actual values.\n",
    "from sklearn.linear_model import Ridge\n",
    "clf = Ridge(alpha=1.0)\n",
    "clf = clf.fit(X_train, y_train)\n",
    "Ridge()"
   ]
  },
  {
   "cell_type": "code",
   "execution_count": 30,
   "metadata": {
    "id": "CvO2U_LThryQ"
   },
   "outputs": [],
   "source": [
    "clftrain = clf.predict(X_train)\n",
    "clftest = clf.predict(X_test)"
   ]
  },
  {
   "cell_type": "code",
   "execution_count": 31,
   "metadata": {
    "id": "_5sTbnjghr1u"
   },
   "outputs": [
    {
     "name": "stdout",
     "output_type": "stream",
     "text": [
      "Mean Squared error on training data --> 0.9390807222742275\n",
      "Mean Squared error on test data --> 0.9920805908445518\n"
     ]
    }
   ],
   "source": [
    "print(\"Mean Squared error on training data --> {}\\nMean Squared error on test data --> {}\".format(mse(y_train, clftrain), mse(y_test, clftest)))"
   ]
  },
  {
   "cell_type": "code",
   "execution_count": 32,
   "metadata": {
    "id": "mOkcHbuH2B4O"
   },
   "outputs": [
    {
     "name": "stdout",
     "output_type": "stream",
     "text": [
      "root Mean Squared error on training data --> 0.9690617742302229\n",
      " root Mean Squared error on test data --> 0.9960324245949786\n"
     ]
    }
   ],
   "source": [
    "print(\"root Mean Squared error on training data --> {}\\n root Mean Squared error on test data --> {}\".format(sqrt(mse(y_train, clftrain)), sqrt( mse(y_test, clftest)) ))"
   ]
  },
  {
   "cell_type": "code",
   "execution_count": 33,
   "metadata": {
    "id": "Dvb19BgS2KDJ"
   },
   "outputs": [
    {
     "name": "stdout",
     "output_type": "stream",
     "text": [
      "Mean absolute error on training data --> 0.7278824898424181\n",
      "Mean absolute error on test data --> 0.7719419502116135\n"
     ]
    }
   ],
   "source": [
    "print(\"Mean absolute error on training data --> {}\\nMean absolute error on test data --> {}\".format(mae(y_train, clftrain), mae(y_test, clftest)))"
   ]
  },
  {
   "cell_type": "code",
   "execution_count": 34,
   "metadata": {},
   "outputs": [
    {
     "name": "stdout",
     "output_type": "stream",
     "text": [
      "R-Squared: 0.9645137150694211\n"
     ]
    }
   ],
   "source": [
    "r1_sk = metrics.r2_score(y_train,clftrain)\n",
    "r2_sk = metrics.r2_score(y_test,clftest)\n",
    "print(\"R-Squared:\", r1_sk)"
   ]
  },
  {
   "cell_type": "code",
   "execution_count": 35,
   "metadata": {},
   "outputs": [
    {
     "name": "stdout",
     "output_type": "stream",
     "text": [
      "[18.84158244]\n"
     ]
    }
   ],
   "source": [
    "today = X_test[5].reshape(1,-1)\n",
    "todaytemp = clf.predict(today)\n",
    "print(todaytemp)"
   ]
  },
  {
   "cell_type": "markdown",
   "metadata": {
    "id": "Z-CbaZ0K2xFR"
   },
   "source": [
    "## MLP regressor"
   ]
  },
  {
   "cell_type": "code",
   "execution_count": 36,
   "metadata": {
    "id": "ZP-oiNNi2v3z"
   },
   "outputs": [],
   "source": [
    "from sklearn.neural_network import MLPRegressor as mlp\n",
    "mlp = mlp(random_state=1, max_iter=1000).fit(X_train, y_train)"
   ]
  },
  {
   "cell_type": "code",
   "execution_count": 37,
   "metadata": {
    "id": "5ge-IwP33LMN"
   },
   "outputs": [],
   "source": [
    "mlptrain = mlp.predict(X_train)\n",
    "mlptest = mlp.predict(X_test)"
   ]
  },
  {
   "cell_type": "code",
   "execution_count": 38,
   "metadata": {
    "id": "s3qVjI2V3gXH"
   },
   "outputs": [
    {
     "name": "stdout",
     "output_type": "stream",
     "text": [
      "Mean Squared error on training data --> 0.9390807222742275\n",
      "Mean Squared error on test data --> 0.9920805908445518\n"
     ]
    }
   ],
   "source": [
    "print(\"Mean Squared error on training data --> {}\\nMean Squared error on test data --> {}\".format(mse(y_train, clftrain), mse(y_test, clftest)))"
   ]
  },
  {
   "cell_type": "code",
   "execution_count": 39,
   "metadata": {
    "id": "sSx6vX6h3ip5"
   },
   "outputs": [
    {
     "name": "stdout",
     "output_type": "stream",
     "text": [
      "root Mean Squared error on training data --> 0.9690617742302229\n",
      " root Mean Squared error on test data --> 0.9960324245949786\n"
     ]
    }
   ],
   "source": [
    "print(\"root Mean Squared error on training data --> {}\\n root Mean Squared error on test data --> {}\".format(sqrt(mse(y_train, clftrain)), sqrt( mse(y_test, clftest)) ))"
   ]
  },
  {
   "cell_type": "code",
   "execution_count": 40,
   "metadata": {
    "id": "LX2EEgQb3mIS"
   },
   "outputs": [
    {
     "name": "stdout",
     "output_type": "stream",
     "text": [
      "Mean absolute error on training data --> 0.7278824898424181\n",
      "Mean absolute error on test data --> 0.7719419502116135\n"
     ]
    }
   ],
   "source": [
    "print(\"Mean absolute error on training data --> {}\\nMean absolute error on test data --> {}\".format(mae(y_train, clftrain), mae(y_test, clftest)))"
   ]
  },
  {
   "cell_type": "code",
   "execution_count": 41,
   "metadata": {},
   "outputs": [
    {
     "name": "stdout",
     "output_type": "stream",
     "text": [
      "R-Squared: 0.9759256456816451\n"
     ]
    }
   ],
   "source": [
    "r1_sk = metrics.r2_score(y_train,mlptrain)\n",
    "r2_sk = metrics.r2_score(y_test,mlptest)\n",
    "print(\"R-Squared:\", r1_sk)"
   ]
  },
  {
   "cell_type": "code",
   "execution_count": 42,
   "metadata": {},
   "outputs": [
    {
     "name": "stdout",
     "output_type": "stream",
     "text": [
      "[19.05870112]\n"
     ]
    }
   ],
   "source": [
    "today = X_test[5].reshape(1,-1)\n",
    "todaytemp = mlp.predict(today)\n",
    "print(todaytemp)"
   ]
  },
  {
   "cell_type": "markdown",
   "metadata": {
    "id": "zeaOSQ-R3pXE"
   },
   "source": [
    "## lasso regression"
   ]
  },
  {
   "cell_type": "code",
   "execution_count": 43,
   "metadata": {
    "id": "SH6XmlMW2wDl"
   },
   "outputs": [],
   "source": [
    "from sklearn import linear_model as lm\n",
    "lms = lm.Lasso(alpha=0.1).fit(X_train, y_train)"
   ]
  },
  {
   "cell_type": "code",
   "execution_count": 44,
   "metadata": {
    "id": "t-DVQJrR8oh1"
   },
   "outputs": [],
   "source": [
    "lmstrain = lms.predict(X_train)\n",
    "lmstest = lms.predict(X_test)"
   ]
  },
  {
   "cell_type": "code",
   "execution_count": 45,
   "metadata": {
    "id": "w4yaYE0K82CN"
   },
   "outputs": [
    {
     "name": "stdout",
     "output_type": "stream",
     "text": [
      "Mean Squared error on training data --> 3.0771718451426224\n",
      "Mean Squared error on test data --> 3.076314823205804\n"
     ]
    }
   ],
   "source": [
    "print(\"Mean Squared error on training data --> {}\\nMean Squared error on test data --> {}\".format(mse(y_train, lmstrain), mse(y_test, lmstest)))"
   ]
  },
  {
   "cell_type": "code",
   "execution_count": 46,
   "metadata": {
    "id": "zLksEJXL84xw"
   },
   "outputs": [
    {
     "name": "stdout",
     "output_type": "stream",
     "text": [
      "root Mean Squared error on training data --> 1.7541869470334746\n",
      " root Mean Squared error on test data --> 1.7539426510595504\n"
     ]
    }
   ],
   "source": [
    "print(\"root Mean Squared error on training data --> {}\\n root Mean Squared error on test data --> {}\".format(sqrt(mse(y_train, lmstrain)), sqrt( mse(y_test, lmstest)) ))"
   ]
  },
  {
   "cell_type": "code",
   "execution_count": 47,
   "metadata": {
    "id": "kKq9HVEi86zt"
   },
   "outputs": [
    {
     "name": "stdout",
     "output_type": "stream",
     "text": [
      "Mean absolute error on training data --> 1.361094574606526\n",
      "Mean absolute error on test data --> 1.4152028922154807\n"
     ]
    }
   ],
   "source": [
    "print(\"Mean absolute error on training data --> {}\\nMean absolute error on test data --> {}\".format(mae(y_train, lmstrain), mae(y_test, lmstest)))"
   ]
  },
  {
   "cell_type": "code",
   "execution_count": 48,
   "metadata": {},
   "outputs": [
    {
     "name": "stdout",
     "output_type": "stream",
     "text": [
      "R-Squared: 0.8837188387675168\n"
     ]
    }
   ],
   "source": [
    "r1_sk = metrics.r2_score(y_train,lmstrain)\n",
    "r2_sk = metrics.r2_score(y_test,lmstest)\n",
    "print(\"R-Squared:\", r1_sk)"
   ]
  },
  {
   "cell_type": "code",
   "execution_count": 49,
   "metadata": {},
   "outputs": [
    {
     "name": "stdout",
     "output_type": "stream",
     "text": [
      "[17.96733]\n"
     ]
    }
   ],
   "source": [
    "today = X_test[5].reshape(1,-1)\n",
    "todaytemp = lms.predict(today)\n",
    "print(todaytemp)"
   ]
  },
  {
   "cell_type": "markdown",
   "metadata": {
    "id": "a51Xabdi9gIn"
   },
   "source": [
    "## random forest regressor"
   ]
  },
  {
   "cell_type": "code",
   "execution_count": 50,
   "metadata": {
    "id": "aU4y3zb48mek"
   },
   "outputs": [],
   "source": [
    "from sklearn.ensemble import RandomForestRegressor as rfr\n",
    "regr = rfr(max_depth=2, random_state=0)\n",
    "regrn = regr.fit(X_train, y_train)"
   ]
  },
  {
   "cell_type": "code",
   "execution_count": 51,
   "metadata": {
    "id": "8MDvEg-I-WCk"
   },
   "outputs": [],
   "source": [
    "rfrtrain = regrn.predict(X_train)\n",
    "rfrtest = regrn.predict(X_test)"
   ]
  },
  {
   "cell_type": "code",
   "execution_count": 52,
   "metadata": {
    "id": "9v1lW3Gd-g9W"
   },
   "outputs": [
    {
     "name": "stdout",
     "output_type": "stream",
     "text": [
      "Mean Squared error on training data --> 6.563138479181763\n",
      "Mean Squared error on test data --> 8.365678832661237\n"
     ]
    }
   ],
   "source": [
    "print(\"Mean Squared error on training data --> {}\\nMean Squared error on test data --> {}\".format(mse(y_train, rfrtrain), mse(y_test, rfrtest)))"
   ]
  },
  {
   "cell_type": "code",
   "execution_count": 53,
   "metadata": {
    "id": "a8ewSy7o-jgk"
   },
   "outputs": [
    {
     "name": "stdout",
     "output_type": "stream",
     "text": [
      "root Mean Squared error on training data --> 2.561862306834964\n",
      " root Mean Squared error on test data --> 2.892348324918912\n"
     ]
    }
   ],
   "source": [
    "print(\"root Mean Squared error on training data --> {}\\n root Mean Squared error on test data --> {}\".format(sqrt(mse(y_train, rfrtrain)), sqrt( mse(y_test, rfrtest)) ))"
   ]
  },
  {
   "cell_type": "code",
   "execution_count": 54,
   "metadata": {
    "id": "fLBRdfVG-lqD"
   },
   "outputs": [
    {
     "name": "stdout",
     "output_type": "stream",
     "text": [
      "Mean absolute error on training data --> 1.972001985219413\n",
      "Mean absolute error on test data --> 2.2303573678327924\n"
     ]
    }
   ],
   "source": [
    "print(\"Mean absolute error on training data --> {}\\nMean absolute error on test data --> {}\".format(mae(y_train, rfrtrain), mae(y_test, rfrtest)))"
   ]
  },
  {
   "cell_type": "code",
   "execution_count": 55,
   "metadata": {},
   "outputs": [
    {
     "name": "stdout",
     "output_type": "stream",
     "text": [
      "R-Squared: 0.7519900083274427\n"
     ]
    }
   ],
   "source": [
    "r1_sk = metrics.r2_score(y_train,rfrtrain)\n",
    "r2_sk = metrics.r2_score(y_test,rfrtest)\n",
    "print(\"R-Squared:\", r1_sk)\n"
   ]
  },
  {
   "cell_type": "code",
   "execution_count": 56,
   "metadata": {},
   "outputs": [
    {
     "data": {
      "text/plain": [
       "array([0.36160714, 0.54040404, 0.44444444, 0.89705882, 0.61538462,\n",
       "       0.81934092, 0.        ])"
      ]
     },
     "execution_count": 56,
     "metadata": {},
     "output_type": "execute_result"
    }
   ],
   "source": [
    "X_test[5]"
   ]
  },
  {
   "cell_type": "code",
   "execution_count": 57,
   "metadata": {},
   "outputs": [
    {
     "name": "stdout",
     "output_type": "stream",
     "text": [
      "[21.39692785]\n"
     ]
    }
   ],
   "source": [
    "today = X_test[5].reshape(1,-1)\n",
    "todaytemp = regr.predict(today)\n",
    "print(todaytemp)"
   ]
  },
  {
   "cell_type": "markdown",
   "metadata": {
    "id": "jlZm1wYR_C2c"
   },
   "source": [
    "## KNeighborsRegressor"
   ]
  },
  {
   "cell_type": "code",
   "execution_count": 58,
   "metadata": {
    "id": "P3JgwOAz-TKs"
   },
   "outputs": [],
   "source": [
    "from sklearn.neighbors import KNeighborsRegressor as knr\n",
    "neigh = knr(n_neighbors=2)\n",
    "knrn = neigh.fit(X_train, y_train)"
   ]
  },
  {
   "cell_type": "code",
   "execution_count": 59,
   "metadata": {
    "id": "bricAs9j_qDl"
   },
   "outputs": [],
   "source": [
    "knrtrain = knrn.predict(X_train)\n",
    "knrtest = knrn.predict(X_test)"
   ]
  },
  {
   "cell_type": "code",
   "execution_count": 60,
   "metadata": {
    "id": "lWjNbhEW_0Es"
   },
   "outputs": [
    {
     "name": "stdout",
     "output_type": "stream",
     "text": [
      "Mean Squared error on training data --> 0.500339756592292\n",
      "Mean Squared error on test data --> 2.3427954545454543\n"
     ]
    }
   ],
   "source": [
    "print(\"Mean Squared error on training data --> {}\\nMean Squared error on test data --> {}\".format(mse(y_train, knrtrain), mse(y_test, knrtest)))"
   ]
  },
  {
   "cell_type": "code",
   "execution_count": 61,
   "metadata": {
    "id": "-E6XDEPr_11-"
   },
   "outputs": [
    {
     "name": "stdout",
     "output_type": "stream",
     "text": [
      "root Mean Squared error on training data --> 0.7073469845784967\n",
      " root Mean Squared error on test data --> 1.530619304250882\n"
     ]
    }
   ],
   "source": [
    "print(\"root Mean Squared error on training data --> {}\\n root Mean Squared error on test data --> {}\".format(sqrt(mse(y_train, knrtrain)), sqrt( mse(y_test, knrtest)) ))"
   ]
  },
  {
   "cell_type": "code",
   "execution_count": 62,
   "metadata": {
    "id": "XPtuagZo_3_4"
   },
   "outputs": [
    {
     "name": "stdout",
     "output_type": "stream",
     "text": [
      "Mean absolute error on training data --> 0.5192697768762677\n",
      "Mean absolute error on test data --> 1.0563636363636366\n"
     ]
    }
   ],
   "source": [
    "print(\"Mean absolute error on training data --> {}\\nMean absolute error on test data --> {}\".format(mae(y_train, knrtrain), mae(y_test, knrtest)))"
   ]
  },
  {
   "cell_type": "code",
   "execution_count": 63,
   "metadata": {},
   "outputs": [
    {
     "name": "stdout",
     "output_type": "stream",
     "text": [
      "R-Squared: 0.9810930000548497\n"
     ]
    }
   ],
   "source": [
    "r1_sk = metrics.r2_score(y_train,knrtrain)\n",
    "r2_sk = metrics.r2_score(y_test,knrtest)\n",
    "print(\"R-Squared:\", r1_sk)"
   ]
  },
  {
   "cell_type": "code",
   "execution_count": 64,
   "metadata": {},
   "outputs": [
    {
     "name": "stdout",
     "output_type": "stream",
     "text": [
      "[19.15]\n"
     ]
    }
   ],
   "source": [
    "today = X_test[5].reshape(1,-1)\n",
    "todaytemp = knrn.predict(today)\n",
    "print(todaytemp)"
   ]
  },
  {
   "cell_type": "markdown",
   "metadata": {
    "id": "e9ekCYENARdr"
   },
   "source": [
    "## SVM linera SVR"
   ]
  },
  {
   "cell_type": "code",
   "execution_count": 65,
   "metadata": {
    "id": "WC2KdRWR-TSU"
   },
   "outputs": [
    {
     "name": "stderr",
     "output_type": "stream",
     "text": [
      "C:\\ProgramData\\Anaconda3\\lib\\site-packages\\sklearn\\svm\\_base.py:1206: ConvergenceWarning: Liblinear failed to converge, increase the number of iterations.\n",
      "  warnings.warn(\n"
     ]
    }
   ],
   "source": [
    "from sklearn.svm import LinearSVR as svm\n",
    "from sklearn.pipeline import make_pipeline as mp\n",
    "from sklearn.preprocessing import StandardScaler\n",
    "regr = mp(StandardScaler(), svm(random_state=0, tol=2e-5))\n",
    "svmn = regr.fit(X_train, y_train)"
   ]
  },
  {
   "cell_type": "code",
   "execution_count": 66,
   "metadata": {
    "id": "LMyd1YylA5w6"
   },
   "outputs": [],
   "source": [
    "svmtrain = svmn.predict(X_train)\n",
    "svmtest = svmn.predict(X_test)"
   ]
  },
  {
   "cell_type": "code",
   "execution_count": 67,
   "metadata": {
    "id": "d2g_GfXRA7pd"
   },
   "outputs": [
    {
     "name": "stdout",
     "output_type": "stream",
     "text": [
      "Mean Squared error on training data --> 0.8110842794121261\n",
      "Mean Squared error on test data --> 0.7752402795564145\n"
     ]
    }
   ],
   "source": [
    "print(\"Mean Squared error on training data --> {}\\nMean Squared error on test data --> {}\".format(mse(y_train, svmtrain), mse(y_test, svmtest)))"
   ]
  },
  {
   "cell_type": "code",
   "execution_count": 68,
   "metadata": {
    "id": "r7nFLlgIA92F"
   },
   "outputs": [
    {
     "name": "stdout",
     "output_type": "stream",
     "text": [
      "root Mean Squared error on training data --> 0.9006021759978854\n",
      " root Mean Squared error on test data --> 0.8804773021244866\n"
     ]
    }
   ],
   "source": [
    "print(\"root Mean Squared error on training data --> {}\\n root Mean Squared error on test data --> {}\".format(sqrt(mse(y_train, svmtrain)), sqrt( mse(y_test, svmtest)) ))"
   ]
  },
  {
   "cell_type": "code",
   "execution_count": 69,
   "metadata": {
    "id": "E2p_DdWgBAOP"
   },
   "outputs": [
    {
     "name": "stdout",
     "output_type": "stream",
     "text": [
      "Mean absolute error on training data --> 0.6491044148216771\n",
      "Mean absolute error on test data --> 0.6760361327370066\n"
     ]
    }
   ],
   "source": [
    "print(\"Mean absolute error on training data --> {}\\nMean absolute error on test data --> {}\".format(mae(y_train, svmtrain), mae(y_test, svmtest)))"
   ]
  },
  {
   "cell_type": "code",
   "execution_count": 70,
   "metadata": {},
   "outputs": [
    {
     "name": "stdout",
     "output_type": "stream",
     "text": [
      "R-Squared: 0.9693504858962199\n"
     ]
    }
   ],
   "source": [
    "r1_sk = metrics.r2_score(y_train,svmtrain)\n",
    "r2_sk = metrics.r2_score(y_test,svmtest)\n",
    "print(\"R-Squared:\", r1_sk)"
   ]
  },
  {
   "cell_type": "code",
   "execution_count": 71,
   "metadata": {},
   "outputs": [
    {
     "name": "stdout",
     "output_type": "stream",
     "text": [
      "[19.07868976]\n"
     ]
    }
   ],
   "source": [
    "today = X_test[5].reshape(1,-1)\n",
    "todaytemp = svmn.predict(today)\n",
    "print(todaytemp)"
   ]
  },
  {
   "cell_type": "markdown",
   "metadata": {
    "id": "nGgoGPIlRQt1"
   },
   "source": [
    "## AdaBoostregressor "
   ]
  },
  {
   "cell_type": "code",
   "execution_count": 72,
   "metadata": {
    "id": "Mm-Ms3seB0hm"
   },
   "outputs": [],
   "source": [
    "from sklearn.ensemble import AdaBoostRegressor\n",
    "regr = AdaBoostRegressor(random_state=0, n_estimators=100)\n",
    "regrn = regr.fit(X_train, y_train)"
   ]
  },
  {
   "cell_type": "code",
   "execution_count": 73,
   "metadata": {
    "id": "DO_gbld_TdTK"
   },
   "outputs": [],
   "source": [
    "regrtrain = regrn.predict(X_train)\n",
    "regrtest = regrn.predict(X_test)"
   ]
  },
  {
   "cell_type": "code",
   "execution_count": 74,
   "metadata": {
    "id": "Kb4urHSZTfRZ"
   },
   "outputs": [
    {
     "name": "stdout",
     "output_type": "stream",
     "text": [
      "Mean Squared error on training data --> 2.1827386338678343\n",
      "Mean Squared error on test data --> 2.7699274714733066\n"
     ]
    }
   ],
   "source": [
    "print(\"Mean Squared error on training data --> {}\\nMean Squared error on test data --> {}\".format(mse(y_train, regrtrain), mse(y_test, regrtest)))"
   ]
  },
  {
   "cell_type": "code",
   "execution_count": 75,
   "metadata": {
    "id": "TCwnZtNfThbz"
   },
   "outputs": [
    {
     "name": "stdout",
     "output_type": "stream",
     "text": [
      "root Mean Squared error on training data --> 1.477409433389348\n",
      " root Mean Squared error on test data --> 1.6643099084825839\n"
     ]
    }
   ],
   "source": [
    "print(\"root Mean Squared error on training data --> {}\\n root Mean Squared error on test data --> {}\".format(sqrt(mse(y_train, regrtrain)), sqrt( mse(y_test, regrtest)) ))"
   ]
  },
  {
   "cell_type": "code",
   "execution_count": 76,
   "metadata": {
    "id": "l4_6dXMTTjGR"
   },
   "outputs": [
    {
     "name": "stdout",
     "output_type": "stream",
     "text": [
      "Mean absolute error on training data --> 1.2431207660675843\n",
      "Mean absolute error on test data --> 1.4250922353878512\n"
     ]
    }
   ],
   "source": [
    "print(\"Mean absolute error on training data --> {}\\nMean absolute error on test data --> {}\".format(mae(y_train, regrtrain), mae(y_test, regrtest)))"
   ]
  },
  {
   "cell_type": "code",
   "execution_count": 77,
   "metadata": {},
   "outputs": [
    {
     "name": "stdout",
     "output_type": "stream",
     "text": [
      "[19.77174349]\n"
     ]
    }
   ],
   "source": [
    "today = X_test[5].reshape(1,-1)\n",
    "todaytemp = regrn.predict(today)\n",
    "print(todaytemp)"
   ]
  },
  {
   "cell_type": "markdown",
   "metadata": {},
   "source": [
    "# maximum temperature"
   ]
  },
  {
   "cell_type": "code",
   "execution_count": 78,
   "metadata": {},
   "outputs": [
    {
     "data": {
      "text/plain": [
       "array([30. , 31.1, 31. , ..., 31.6, 32.8, 31.7])"
      ]
     },
     "execution_count": 78,
     "metadata": {},
     "output_type": "execute_result"
    }
   ],
   "source": [
    "Xmax=weather_data.drop(\"Airtemp max\",axis=1)\n",
    "ymax=weather_data[\"Airtemp max\"].values\n",
    "ymax"
   ]
  },
  {
   "cell_type": "code",
   "execution_count": 79,
   "metadata": {},
   "outputs": [
    {
     "data": {
      "text/plain": [
       "pandas.core.frame.DataFrame"
      ]
     },
     "execution_count": 79,
     "metadata": {},
     "output_type": "execute_result"
    }
   ],
   "source": [
    "xmax = Xmax.iloc[:,:]\n",
    "type(xmax)"
   ]
  },
  {
   "cell_type": "code",
   "execution_count": 80,
   "metadata": {},
   "outputs": [
    {
     "data": {
      "text/plain": [
       "array([30. , 31.1, 31. , ..., 31.6, 32.8, 31.7])"
      ]
     },
     "execution_count": 80,
     "metadata": {},
     "output_type": "execute_result"
    }
   ],
   "source": [
    "ymax"
   ]
  },
  {
   "cell_type": "markdown",
   "metadata": {},
   "source": [
    "## train and test split data "
   ]
  },
  {
   "cell_type": "code",
   "execution_count": 81,
   "metadata": {},
   "outputs": [],
   "source": [
    "from sklearn.model_selection import train_test_split\n",
    "X_trainmax, X_testmax, y_trainmax, y_testmax= train_test_split(Xmax,ymax,test_size=0.1,random_state=15)"
   ]
  },
  {
   "cell_type": "code",
   "execution_count": 82,
   "metadata": {},
   "outputs": [],
   "source": [
    "from sklearn.preprocessing import MinMaxScaler\n",
    "scaler = MinMaxScaler()\n",
    "X_trainmax = scaler.fit_transform(X_trainmax)\n",
    "X_testmax = scaler.transform(X_testmax)"
   ]
  },
  {
   "cell_type": "markdown",
   "metadata": {},
   "source": [
    "# # Decision tree and adaboost regressor¶"
   ]
  },
  {
   "cell_type": "code",
   "execution_count": 83,
   "metadata": {},
   "outputs": [],
   "source": [
    "from sklearn.ensemble import AdaBoostRegressor\n",
    "from sklearn.tree import DecisionTreeRegressor\n",
    "rngmax = np.random.RandomState(1)\n",
    "regr_1max = DecisionTreeRegressor(max_depth=4)\n",
    "\n",
    "regr_2max = AdaBoostRegressor(\n",
    "    DecisionTreeRegressor(max_depth=4), n_estimators=300, random_state=rng\n",
    ")\n",
    "\n",
    "regr_1.fit(X_trainmax, y_trainmax)\n",
    "regr_2.fit(X_trainmax, y_trainmax)\n",
    "\n",
    "y_1maxd = regr_1.predict(X_trainmax)\n",
    "y_2maxd = regr_1.predict(X_testmax)\n",
    "\n",
    "y_1maxad = regr_2.predict(X_trainmax)\n",
    "y_2maxad = regr_2.predict(X_testmax)"
   ]
  },
  {
   "cell_type": "code",
   "execution_count": 84,
   "metadata": {},
   "outputs": [],
   "source": [
    "from sklearn.metrics import mean_squared_error as mse"
   ]
  },
  {
   "cell_type": "code",
   "execution_count": 85,
   "metadata": {},
   "outputs": [
    {
     "name": "stdout",
     "output_type": "stream",
     "text": [
      "Mean Squared error on training data --> 3.2162978871454304\n",
      "Mean Squared error on test data --> 3.650327025048616\n"
     ]
    }
   ],
   "source": [
    "print(\"Mean Squared error on training data --> {}\\nMean Squared error on test data --> {}\".format(mse(y_trainmax, y_1maxd), mse(y_testmax, y_2maxd)))"
   ]
  },
  {
   "cell_type": "code",
   "execution_count": 86,
   "metadata": {},
   "outputs": [
    {
     "name": "stdout",
     "output_type": "stream",
     "text": [
      "root Mean Squared error on training data --> 1.7934039944043367\n",
      " root Mean Squared error on test data --> 1.910582901904185\n"
     ]
    }
   ],
   "source": [
    "from math import sqrt\n",
    "print(\"root Mean Squared error on training data --> {}\\n root Mean Squared error on test data --> {}\".format(sqrt(mse(y_trainmax, y_1maxd)), sqrt( mse(y_testmax, y_2maxd)) ))"
   ]
  },
  {
   "cell_type": "code",
   "execution_count": 87,
   "metadata": {},
   "outputs": [
    {
     "name": "stdout",
     "output_type": "stream",
     "text": [
      "Mean absolute error on training data --> 1.3754989132829742\n",
      "Mean absolute error on test data --> 1.4165437223943946\n"
     ]
    }
   ],
   "source": [
    "from sklearn.metrics import mean_absolute_error as mae\n",
    "print(\"Mean absolute error on training data --> {}\\nMean absolute error on test data --> {}\".format(mae(y_trainmax, y_1maxd), mae(y_testmax, y_2maxd)))"
   ]
  },
  {
   "cell_type": "code",
   "execution_count": 88,
   "metadata": {},
   "outputs": [
    {
     "name": "stdout",
     "output_type": "stream",
     "text": [
      "R-Squared: 0.7888341424950445\n"
     ]
    }
   ],
   "source": [
    "import sklearn.metrics as metrics\n",
    "r1_skmax = metrics.r2_score(y_trainmax,y_1maxd)\n",
    "r2_skmax = metrics.r2_score(y_testmax,y_2maxd)\n",
    "print(\"R-Squared:\", r1_skmax)"
   ]
  },
  {
   "cell_type": "code",
   "execution_count": 89,
   "metadata": {},
   "outputs": [
    {
     "name": "stdout",
     "output_type": "stream",
     "text": [
      "Mean Squared error on training data --> 1.1928862042916397\n",
      "Mean Squared error on test data --> 1.7271195189361734\n",
      "root Mean Squared error on training data --> 1.0921932998749075\n",
      " root Mean Squared error on test data --> 1.3141991930206673\n",
      "Mean absolute error on training data --> 0.9042629293636198\n",
      "Mean absolute error on test data --> 1.0623927543784408\n",
      "R-Squared: 0.9216811231192761\n"
     ]
    }
   ],
   "source": [
    "print(\"Mean Squared error on training data --> {}\\nMean Squared error on test data --> {}\".format(mse(y_trainmax, y_1maxad), mse(y_testmax, y_2maxad)))\n",
    "\n",
    "print(\"root Mean Squared error on training data --> {}\\n root Mean Squared error on test data --> {}\".format(sqrt(mse(y_trainmax, y_1maxad)), sqrt( mse(y_testmax, y_2maxad))))  \n",
    "                                                                                                            \n",
    "print(\"Mean absolute error on training data --> {}\\nMean absolute error on test data --> {}\".format(mae(y_trainmax, y_1maxad), mae(y_testmax, y_2maxad)))\n",
    "                                                                                            \n",
    "r1_skmax = metrics.r2_score(y_trainmax,y_1maxad)\n",
    "r2_skmax = metrics.r2_score(y_testmax,y_2maxad)\n",
    "print(\"R-Squared:\", r1_skmax)"
   ]
  },
  {
   "cell_type": "markdown",
   "metadata": {},
   "source": [
    "# # linear regression"
   ]
  },
  {
   "cell_type": "code",
   "execution_count": 90,
   "metadata": {},
   "outputs": [],
   "source": [
    "from sklearn.linear_model import LinearRegression as lr\n",
    "lrrmax = lr().fit(X_trainmax,y_trainmax)"
   ]
  },
  {
   "cell_type": "code",
   "execution_count": 91,
   "metadata": {},
   "outputs": [
    {
     "name": "stdout",
     "output_type": "stream",
     "text": [
      "Mean Squared error on training data --> 0.8336534537816594\n",
      "Mean Squared error on test data --> 0.7897444858900048\n"
     ]
    }
   ],
   "source": [
    "predlrtest = lrrmax.predict(X_testmax)\n",
    "predlrtrain = lrrmax.predict(X_trainmax)\n",
    "print(\"Mean Squared error on training data --> {}\\nMean Squared error on test data --> {}\".format(mse(y_trainmax, predlrtrain), mse(y_testmax, predlrtest)))"
   ]
  },
  {
   "cell_type": "code",
   "execution_count": 92,
   "metadata": {},
   "outputs": [
    {
     "name": "stdout",
     "output_type": "stream",
     "text": [
      "root Mean Squared error on training data --> 0.9130462495304712\n",
      " root Mean Squared error on test data --> 0.888675692190354\n"
     ]
    }
   ],
   "source": [
    "print(\"root Mean Squared error on training data --> {}\\n root Mean Squared error on test data --> {}\".format(sqrt(mse(y_trainmax, predlrtrain)), sqrt( mse(y_testmax, predlrtest)) ))"
   ]
  },
  {
   "cell_type": "code",
   "execution_count": 93,
   "metadata": {},
   "outputs": [
    {
     "name": "stdout",
     "output_type": "stream",
     "text": [
      "Mean absolute error on training data --> 0.6624999067932773\n",
      "Mean absolute error on test data --> 0.6761395357551525\n"
     ]
    }
   ],
   "source": [
    "print(\"Mean absolute error on training data --> {}\\nMean absolute error on test data --> {}\".format(mae(y_trainmax, predlrtrain), mae(y_testmax, predlrtest)))"
   ]
  },
  {
   "cell_type": "code",
   "execution_count": 94,
   "metadata": {},
   "outputs": [
    {
     "name": "stdout",
     "output_type": "stream",
     "text": [
      "R-Squared: 0.9452665292187806\n"
     ]
    }
   ],
   "source": [
    "r1_sk = metrics.r2_score(y_trainmax,predlrtrain)\n",
    "r2_sk = metrics.r2_score(y_testmax,predlrtest)\n",
    "print(\"R-Squared:\", r1_sk)"
   ]
  },
  {
   "cell_type": "code",
   "execution_count": 95,
   "metadata": {},
   "outputs": [
    {
     "name": "stdout",
     "output_type": "stream",
     "text": [
      "[29.17221359]\n"
     ]
    }
   ],
   "source": [
    "today = X_testmax[5].reshape(1,-1)\n",
    "todaytemp = lrrmax.predict(today)\n",
    "print(todaytemp)"
   ]
  },
  {
   "cell_type": "markdown",
   "metadata": {},
   "source": [
    "# # Ridge regression"
   ]
  },
  {
   "cell_type": "code",
   "execution_count": 96,
   "metadata": {},
   "outputs": [
    {
     "data": {
      "text/plain": [
       "Ridge()"
      ]
     },
     "execution_count": 96,
     "metadata": {},
     "output_type": "execute_result"
    }
   ],
   "source": [
    "from sklearn.linear_model import Ridge\n",
    "clf = Ridge(alpha=1.0)\n",
    "clf = clf.fit(X_trainmax, y_trainmax)\n",
    "Ridge()"
   ]
  },
  {
   "cell_type": "code",
   "execution_count": 97,
   "metadata": {},
   "outputs": [],
   "source": [
    "clftrain = clf.predict(X_trainmax)\n",
    "clftest = clf.predict(X_testmax)"
   ]
  },
  {
   "cell_type": "code",
   "execution_count": 98,
   "metadata": {},
   "outputs": [
    {
     "name": "stdout",
     "output_type": "stream",
     "text": [
      "Mean Squared error on training data --> 1.0217097279639367\n",
      "Mean Squared error on test data --> 1.0557684733619477\n"
     ]
    }
   ],
   "source": [
    "print(\"Mean Squared error on training data --> {}\\nMean Squared error on test data --> {}\".format(mse(y_trainmax, clftrain), mse(y_testmax, clftest)))"
   ]
  },
  {
   "cell_type": "code",
   "execution_count": 99,
   "metadata": {},
   "outputs": [
    {
     "name": "stdout",
     "output_type": "stream",
     "text": [
      "root Mean Squared error on training data --> 1.0107965809023776\n",
      " root Mean Squared error on test data --> 1.0275059480907873\n"
     ]
    }
   ],
   "source": [
    "print(\"root Mean Squared error on training data --> {}\\n root Mean Squared error on test data --> {}\".format(sqrt(mse(y_trainmax, clftrain)), sqrt( mse(y_testmax, clftest)) ))"
   ]
  },
  {
   "cell_type": "code",
   "execution_count": 100,
   "metadata": {},
   "outputs": [
    {
     "name": "stdout",
     "output_type": "stream",
     "text": [
      "Mean absolute error on training data --> 0.7597719795130318\n",
      "Mean absolute error on test data --> 0.8118501569149854\n"
     ]
    }
   ],
   "source": [
    "print(\"Mean absolute error on training data --> {}\\nMean absolute error on test data --> {}\".format(mae(y_trainmax, clftrain), mae(y_testmax, clftest)))"
   ]
  },
  {
   "cell_type": "code",
   "execution_count": 101,
   "metadata": {},
   "outputs": [
    {
     "name": "stdout",
     "output_type": "stream",
     "text": [
      "R-Squared: 0.9329197050780191\n"
     ]
    }
   ],
   "source": [
    "r1_sk = metrics.r2_score(y_trainmax,clftrain)\n",
    "r2_sk = metrics.r2_score(y_testmax,clftest)\n",
    "print(\"R-Squared:\", r1_sk)"
   ]
  },
  {
   "cell_type": "code",
   "execution_count": 102,
   "metadata": {},
   "outputs": [
    {
     "name": "stdout",
     "output_type": "stream",
     "text": [
      "[31.54423748]\n"
     ]
    }
   ],
   "source": [
    "today = X_testmax[10].reshape(1,-1)\n",
    "todaytemp = clf.predict(today)\n",
    "print(todaytemp)"
   ]
  },
  {
   "cell_type": "markdown",
   "metadata": {},
   "source": [
    "# # MLP regressor"
   ]
  },
  {
   "cell_type": "code",
   "execution_count": 103,
   "metadata": {},
   "outputs": [],
   "source": [
    "from sklearn.neural_network import MLPRegressor as mlp\n",
    "mlp = mlp(random_state=1, max_iter=1000).fit(X_trainmax, y_trainmax)"
   ]
  },
  {
   "cell_type": "code",
   "execution_count": 104,
   "metadata": {},
   "outputs": [],
   "source": [
    "mlptrain = mlp.predict(X_trainmax)\n",
    "mlptest = mlp.predict(X_testmax)"
   ]
  },
  {
   "cell_type": "code",
   "execution_count": 105,
   "metadata": {},
   "outputs": [
    {
     "name": "stdout",
     "output_type": "stream",
     "text": [
      "Mean Squared error on training data --> 1.0217097279639367\n",
      "Mean Squared error on test data --> 1.0557684733619477\n"
     ]
    }
   ],
   "source": [
    "print(\"Mean Squared error on training data --> {}\\nMean Squared error on test data --> {}\".format(mse(y_trainmax, clftrain), mse(y_testmax, clftest)))"
   ]
  },
  {
   "cell_type": "code",
   "execution_count": 106,
   "metadata": {},
   "outputs": [
    {
     "name": "stdout",
     "output_type": "stream",
     "text": [
      "root Mean Squared error on training data --> 1.0107965809023776\n",
      " root Mean Squared error on test data --> 1.0275059480907873\n"
     ]
    }
   ],
   "source": [
    "print(\"root Mean Squared error on training data --> {}\\n root Mean Squared error on test data --> {}\".format(sqrt(mse(y_trainmax, clftrain)), sqrt( mse(y_testmax, clftest)) ))"
   ]
  },
  {
   "cell_type": "code",
   "execution_count": 107,
   "metadata": {},
   "outputs": [
    {
     "name": "stdout",
     "output_type": "stream",
     "text": [
      "Mean absolute error on training data --> 0.7597719795130318\n",
      "Mean absolute error on test data --> 0.8118501569149854\n"
     ]
    }
   ],
   "source": [
    "print(\"Mean absolute error on training data --> {}\\nMean absolute error on test data --> {}\".format(mae(y_trainmax, clftrain), mae(y_testmax, clftest)))"
   ]
  },
  {
   "cell_type": "code",
   "execution_count": 108,
   "metadata": {},
   "outputs": [
    {
     "name": "stdout",
     "output_type": "stream",
     "text": [
      "R-Squared: 0.9569170883285585\n"
     ]
    }
   ],
   "source": [
    "r1_sk = metrics.r2_score(y_trainmax, mlptrain)\n",
    "r2_sk = metrics.r2_score(y_testmax, mlptest)\n",
    "print(\"R-Squared:\", r1_sk)"
   ]
  },
  {
   "cell_type": "code",
   "execution_count": 109,
   "metadata": {},
   "outputs": [
    {
     "name": "stdout",
     "output_type": "stream",
     "text": [
      "[29.14001477]\n"
     ]
    }
   ],
   "source": [
    "today = X_testmax[5].reshape(1,-1)\n",
    "todaytemp = mlp.predict(today)\n",
    "print(todaytemp)"
   ]
  },
  {
   "cell_type": "markdown",
   "metadata": {},
   "source": [
    "# # lasso regression"
   ]
  },
  {
   "cell_type": "code",
   "execution_count": 110,
   "metadata": {},
   "outputs": [],
   "source": [
    "from sklearn import linear_model as lm\n",
    "lms = lm.Lasso(alpha=0.1).fit(X_trainmax, y_trainmax)"
   ]
  },
  {
   "cell_type": "code",
   "execution_count": 111,
   "metadata": {},
   "outputs": [],
   "source": [
    "lmstrain = lms.predict(X_trainmax)\n",
    "lmstest = lms.predict(X_testmax)"
   ]
  },
  {
   "cell_type": "code",
   "execution_count": 112,
   "metadata": {},
   "outputs": [
    {
     "name": "stdout",
     "output_type": "stream",
     "text": [
      "Mean Squared error on training data --> 3.2731705059551097\n",
      "Mean Squared error on test data --> 3.121602519543005\n"
     ]
    }
   ],
   "source": [
    "print(\"Mean Squared error on training data --> {}\\nMean Squared error on test data --> {}\".format(mse(y_trainmax, lmstrain), mse(y_testmax, lmstest)))"
   ]
  },
  {
   "cell_type": "code",
   "execution_count": 113,
   "metadata": {},
   "outputs": [
    {
     "name": "stdout",
     "output_type": "stream",
     "text": [
      "root Mean Squared error on training data --> 1.8091905665117507\n",
      " root Mean Squared error on test data --> 1.7668057390508456\n"
     ]
    }
   ],
   "source": [
    "print(\"root Mean Squared error on training data --> {}\\n root Mean Squared error on test data --> {}\".format(sqrt(mse(y_trainmax, lmstrain)), sqrt( mse(y_testmax, lmstest)) ))"
   ]
  },
  {
   "cell_type": "code",
   "execution_count": 114,
   "metadata": {},
   "outputs": [
    {
     "name": "stdout",
     "output_type": "stream",
     "text": [
      "Mean absolute error on training data --> 1.3465928934386435\n",
      "Mean absolute error on test data --> 1.4163072852347522\n"
     ]
    }
   ],
   "source": [
    "print(\"Mean absolute error on training data --> {}\\nMean absolute error on test data --> {}\".format(mae(y_trainmax, lmstrain), mae(y_testmax, lmstest)))"
   ]
  },
  {
   "cell_type": "code",
   "execution_count": 115,
   "metadata": {},
   "outputs": [
    {
     "name": "stdout",
     "output_type": "stream",
     "text": [
      "R-Squared: 0.7851001738948421\n"
     ]
    }
   ],
   "source": [
    "r1_sk = metrics.r2_score(y_trainmax,lmstrain)\n",
    "r2_sk = metrics.r2_score(y_testmax,lmstest)\n",
    "print(\"R-Squared:\", r1_sk)"
   ]
  },
  {
   "cell_type": "code",
   "execution_count": 116,
   "metadata": {},
   "outputs": [
    {
     "name": "stdout",
     "output_type": "stream",
     "text": [
      "[31.96886375]\n"
     ]
    }
   ],
   "source": [
    "today = X_testmax[5].reshape(1,-1)\n",
    "todaytemp = lms.predict(today)\n",
    "print(todaytemp)"
   ]
  },
  {
   "cell_type": "markdown",
   "metadata": {},
   "source": [
    "# # Random forest regressor"
   ]
  },
  {
   "cell_type": "code",
   "execution_count": 117,
   "metadata": {},
   "outputs": [],
   "source": [
    "from sklearn.ensemble import RandomForestRegressor as rfr\n",
    "regr = rfr(max_depth=2, random_state=0)\n",
    "regrn = regr.fit(X_trainmax, y_trainmax)"
   ]
  },
  {
   "cell_type": "code",
   "execution_count": 118,
   "metadata": {},
   "outputs": [],
   "source": [
    "rfrtrain = regrn.predict(X_trainmax)\n",
    "rfrtest = regrn.predict(X_testmax)"
   ]
  },
  {
   "cell_type": "code",
   "execution_count": 119,
   "metadata": {},
   "outputs": [
    {
     "name": "stdout",
     "output_type": "stream",
     "text": [
      "Mean Squared error on training data --> 4.916342748386581\n",
      "Mean Squared error on test data --> 4.217881046692576\n"
     ]
    }
   ],
   "source": [
    "print(\"Mean Squared error on training data --> {}\\nMean Squared error on test data --> {}\".format(mse(y_trainmax, rfrtrain), mse(y_testmax, rfrtest)))"
   ]
  },
  {
   "cell_type": "code",
   "execution_count": 120,
   "metadata": {},
   "outputs": [
    {
     "name": "stdout",
     "output_type": "stream",
     "text": [
      "root Mean Squared error on training data --> 2.217282739838693\n",
      " root Mean Squared error on test data --> 2.053748048493918\n"
     ]
    }
   ],
   "source": [
    "print(\"root Mean Squared error on training data --> {}\\n root Mean Squared error on test data --> {}\".format(sqrt(mse(y_trainmax, rfrtrain)), sqrt( mse(y_testmax, rfrtest)) ))"
   ]
  },
  {
   "cell_type": "code",
   "execution_count": 121,
   "metadata": {},
   "outputs": [
    {
     "name": "stdout",
     "output_type": "stream",
     "text": [
      "Mean absolute error on training data --> 1.7016915447686558\n",
      "Mean absolute error on test data --> 1.5566397420177809\n"
     ]
    }
   ],
   "source": [
    "print(\"Mean absolute error on training data --> {}\\nMean absolute error on test data --> {}\".format(mae(y_trainmax, rfrtrain), mae(y_testmax, rfrtest)))"
   ]
  },
  {
   "cell_type": "code",
   "execution_count": 122,
   "metadata": {},
   "outputs": [
    {
     "name": "stdout",
     "output_type": "stream",
     "text": [
      "R-Squared: 0.6772177924188713\n"
     ]
    }
   ],
   "source": [
    "r1_sk = metrics.r2_score(y_trainmax,rfrtrain)\n",
    "r2_sk = metrics.r2_score(y_testmax,rfrtest)\n",
    "print(\"R-Squared:\", r1_sk)"
   ]
  },
  {
   "cell_type": "code",
   "execution_count": 123,
   "metadata": {},
   "outputs": [
    {
     "ename": "SyntaxError",
     "evalue": "invalid syntax (2157359861.py, line 2)",
     "output_type": "error",
     "traceback": [
      "\u001b[1;36m  Input \u001b[1;32mIn [123]\u001b[1;36m\u001b[0m\n\u001b[1;33m    today =\u001b[0m\n\u001b[1;37m            ^\u001b[0m\n\u001b[1;31mSyntaxError\u001b[0m\u001b[1;31m:\u001b[0m invalid syntax\n"
     ]
    }
   ],
   "source": [
    "today = X_testmax[5].reshape(1,-1)\n",
    "today = \n",
    "todaytemp = regrn.predict(today)\n",
    "print(todaytemp)"
   ]
  },
  {
   "cell_type": "markdown",
   "metadata": {},
   "source": [
    "# # KNeighborsRegressor"
   ]
  },
  {
   "cell_type": "code",
   "execution_count": null,
   "metadata": {},
   "outputs": [],
   "source": [
    "from sklearn.neighbors import KNeighborsRegressor as knr\n",
    "neigh = knr(n_neighbors=2)\n",
    "knrn = neigh.fit(X_trainmax, y_trainmax)"
   ]
  },
  {
   "cell_type": "code",
   "execution_count": null,
   "metadata": {},
   "outputs": [],
   "source": [
    "knrtrain = knrn.predict(X_trainmax)\n",
    "knrtest = knrn.predict(X_testmax)"
   ]
  },
  {
   "cell_type": "code",
   "execution_count": null,
   "metadata": {},
   "outputs": [],
   "source": [
    "print(\"Mean Squared error on training data --> {}\\nMean Squared error on test data --> {}\".format(mse(y_trainmax, knrtrain), mse(y_testmax, knrtest)))"
   ]
  },
  {
   "cell_type": "code",
   "execution_count": null,
   "metadata": {},
   "outputs": [],
   "source": [
    "print(\"root Mean Squared error on training data --> {}\\n root Mean Squared error on test data --> {}\".format(sqrt(mse(y_trainmax, knrtrain)), sqrt( mse(y_testmax, knrtest)) ))"
   ]
  },
  {
   "cell_type": "code",
   "execution_count": null,
   "metadata": {},
   "outputs": [],
   "source": [
    "print(\"Mean absolute error on training data --> {}\\nMean absolute error on test data --> {}\".format(mae(y_trainmax, knrtrain), mae(y_testmax, knrtest)))"
   ]
  },
  {
   "cell_type": "code",
   "execution_count": null,
   "metadata": {},
   "outputs": [],
   "source": [
    "r1_sk = metrics.r2_score(y_trainmax, knrtrain)\n",
    "r2_sk = metrics.r2_score(y_testmax, knrtest)\n",
    "print(\"R-Squared:\", r1_sk)"
   ]
  },
  {
   "cell_type": "code",
   "execution_count": null,
   "metadata": {},
   "outputs": [],
   "source": [
    "today = X_testmax[5].reshape(1,-1)\n",
    "todaytemp = knrn.predict(today)\n",
    "print(todaytemp)"
   ]
  },
  {
   "cell_type": "markdown",
   "metadata": {},
   "source": [
    "# # adaboost regressor"
   ]
  },
  {
   "cell_type": "code",
   "execution_count": null,
   "metadata": {},
   "outputs": [],
   "source": [
    "from sklearn.ensemble import AdaBoostRegressor\n",
    "regr = AdaBoostRegressor(random_state=0, n_estimators=100)\n",
    "regrn = regr.fit(X_trainmax, y_trainmax)"
   ]
  },
  {
   "cell_type": "code",
   "execution_count": null,
   "metadata": {},
   "outputs": [],
   "source": [
    "regrtrain = regrn.predict(X_trainmax)\n",
    "regrtest = regrn.predict(X_testmax)"
   ]
  },
  {
   "cell_type": "code",
   "execution_count": null,
   "metadata": {},
   "outputs": [],
   "source": [
    "print(\"Mean Squared error on training data --> {}\\nMean Squared error on test data --> {}\".format(mse(y_trainmax, regrtrain), mse(y_testmax, regrtest)))"
   ]
  },
  {
   "cell_type": "code",
   "execution_count": null,
   "metadata": {},
   "outputs": [],
   "source": [
    "print(\"root Mean Squared error on training data --> {}\\n root Mean Squared error on test data --> {}\".format(sqrt(mse(y_trainmax, regrtrain)), sqrt( mse(y_testmax, regrtest)) ))"
   ]
  },
  {
   "cell_type": "code",
   "execution_count": null,
   "metadata": {},
   "outputs": [],
   "source": [
    "print(\"Mean absolute error on training data --> {}\\nMean absolute error on test data --> {}\".format(mae(y_trainmax, regrtrain), mae(y_testmax, regrtest)))"
   ]
  },
  {
   "cell_type": "code",
   "execution_count": null,
   "metadata": {},
   "outputs": [],
   "source": [
    "r1_sk = metrics.r2_score(y_trainmax, knrtrain)\n",
    "r2_sk = metrics.r2_score(y_testmax, knrtest)\n",
    "print(\"R-Squared:\", r1_sk)"
   ]
  },
  {
   "cell_type": "code",
   "execution_count": null,
   "metadata": {},
   "outputs": [],
   "source": [
    "today = X_testmax[5].reshape(1,-1)\n",
    "todaytemp = regrn.predict(today)\n",
    "print(todaytemp)"
   ]
  },
  {
   "cell_type": "markdown",
   "metadata": {},
   "source": [
    "#  SVM linear regression"
   ]
  },
  {
   "cell_type": "code",
   "execution_count": null,
   "metadata": {},
   "outputs": [],
   "source": [
    "from sklearn.svm import LinearSVR as svm\n",
    "from sklearn.pipeline import make_pipeline as mp\n",
    "from sklearn.preprocessing import StandardScaler\n",
    "regr = mp(StandardScaler(), svm(random_state=0, tol=2e-5))\n",
    "svmn = regr.fit(X_trainmax, y_trainmax)"
   ]
  },
  {
   "cell_type": "code",
   "execution_count": null,
   "metadata": {},
   "outputs": [],
   "source": [
    "svmtrain = svmn.predict(X_trainmax)\n",
    "svmtest = svmn.predict(X_testmax)"
   ]
  },
  {
   "cell_type": "code",
   "execution_count": null,
   "metadata": {},
   "outputs": [],
   "source": [
    "print(\"Mean Squared error on training data --> {}\\nMean Squared error on test data --> {}\".format(mse(y_trainmax, svmtrain), mse(y_testmax, svmtest)))\n",
    "\n",
    "print(\"root Mean Squared error on training data --> {}\\n root Mean Squared error on test data --> {}\".format(sqrt(mse(y_trainmax, svmtrain)), sqrt( mse(y_testmax, svmtest))))  \n",
    "                                                                                                            \n",
    "print(\"Mean absolute error on training data --> {}\\nMean absolute error on test data --> {}\".format(mae(y_trainmax, svmtrain), mae(y_testmax, svmtest)))\n",
    "                                                                                            \n",
    "r1_skmax = metrics.r2_score(y_trainmax,svmtrain)\n",
    "r2_skmax = metrics.r2_score(y_testmax,svmtest)\n",
    "print(\"R-Squared:\", r1_skmax)"
   ]
  },
  {
   "cell_type": "code",
   "execution_count": null,
   "metadata": {},
   "outputs": [],
   "source": [
    "today = X_testmax[50].reshape(1,-1)\n",
    "todaytemp = svmn.predict(today)\n",
    "print(todaytemp)"
   ]
  },
  {
   "cell_type": "code",
   "execution_count": null,
   "metadata": {},
   "outputs": [],
   "source": []
  }
 ],
 "metadata": {
  "accelerator": "GPU",
  "colab": {
   "collapsed_sections": [],
   "provenance": []
  },
  "kernelspec": {
   "display_name": "Python 3 (ipykernel)",
   "language": "python",
   "name": "python3"
  },
  "language_info": {
   "codemirror_mode": {
    "name": "ipython",
    "version": 3
   },
   "file_extension": ".py",
   "mimetype": "text/x-python",
   "name": "python",
   "nbconvert_exporter": "python",
   "pygments_lexer": "ipython3",
   "version": "3.9.12"
  }
 },
 "nbformat": 4,
 "nbformat_minor": 1
}
