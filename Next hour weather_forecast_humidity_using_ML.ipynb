{
 "cells": [
  {
   "cell_type": "markdown",
   "metadata": {
    "id": "kWdWCFYeL1mO"
   },
   "source": [
    "# **Weather parameters forecasting using Machine Learning models, Humidity**"
   ]
  },
  {
   "cell_type": "markdown",
   "metadata": {
    "id": "BDhwXq4xA_3i"
   },
   "source": [
    "# **1. Getting the Dataset**"
   ]
  },
  {
   "cell_type": "code",
   "execution_count": 111,
   "metadata": {
    "id": "l1ljZwkrZZr_"
   },
   "outputs": [
    {
     "data": {
      "text/html": [
       "<div>\n",
       "<style scoped>\n",
       "    .dataframe tbody tr th:only-of-type {\n",
       "        vertical-align: middle;\n",
       "    }\n",
       "\n",
       "    .dataframe tbody tr th {\n",
       "        vertical-align: top;\n",
       "    }\n",
       "\n",
       "    .dataframe thead th {\n",
       "        text-align: right;\n",
       "    }\n",
       "</style>\n",
       "<table border=\"1\" class=\"dataframe\">\n",
       "  <thead>\n",
       "    <tr style=\"text-align: right;\">\n",
       "      <th></th>\n",
       "      <th>Sr_no</th>\n",
       "      <th>Time</th>\n",
       "      <th>Date</th>\n",
       "      <th>Location</th>\n",
       "      <th>Wind Speed</th>\n",
       "      <th>Wind Direction</th>\n",
       "      <th>Air Temperature</th>\n",
       "      <th>Canopy Temperature</th>\n",
       "      <th>Rainfall</th>\n",
       "      <th>Leaf Wetness</th>\n",
       "      <th>Humidity</th>\n",
       "    </tr>\n",
       "  </thead>\n",
       "  <tbody>\n",
       "    <tr>\n",
       "      <th>0</th>\n",
       "      <td>1</td>\n",
       "      <td>0:00:15</td>\n",
       "      <td>Apr 01 2017</td>\n",
       "      <td>Manjari</td>\n",
       "      <td>0.35</td>\n",
       "      <td>339.07</td>\n",
       "      <td>29.41</td>\n",
       "      <td>31.33</td>\n",
       "      <td>0.0</td>\n",
       "      <td>0.0</td>\n",
       "      <td>53.49</td>\n",
       "    </tr>\n",
       "    <tr>\n",
       "      <th>1</th>\n",
       "      <td>2</td>\n",
       "      <td>0:30:11</td>\n",
       "      <td>Apr 01 2017</td>\n",
       "      <td>Manjari</td>\n",
       "      <td>0.19</td>\n",
       "      <td>338.73</td>\n",
       "      <td>29.15</td>\n",
       "      <td>31.37</td>\n",
       "      <td>0.0</td>\n",
       "      <td>0.0</td>\n",
       "      <td>54.16</td>\n",
       "    </tr>\n",
       "    <tr>\n",
       "      <th>2</th>\n",
       "      <td>3</td>\n",
       "      <td>1:00:15</td>\n",
       "      <td>Apr 01 2017</td>\n",
       "      <td>Manjari</td>\n",
       "      <td>1.33</td>\n",
       "      <td>360.00</td>\n",
       "      <td>28.95</td>\n",
       "      <td>31.25</td>\n",
       "      <td>0.0</td>\n",
       "      <td>0.0</td>\n",
       "      <td>55.28</td>\n",
       "    </tr>\n",
       "    <tr>\n",
       "      <th>3</th>\n",
       "      <td>4</td>\n",
       "      <td>1:30:12</td>\n",
       "      <td>Apr 01 2017</td>\n",
       "      <td>Manjari</td>\n",
       "      <td>0.54</td>\n",
       "      <td>332.94</td>\n",
       "      <td>28.55</td>\n",
       "      <td>30.82</td>\n",
       "      <td>0.0</td>\n",
       "      <td>0.0</td>\n",
       "      <td>56.58</td>\n",
       "    </tr>\n",
       "    <tr>\n",
       "      <th>4</th>\n",
       "      <td>5</td>\n",
       "      <td>2:00:15</td>\n",
       "      <td>Apr 01 2017</td>\n",
       "      <td>Manjari</td>\n",
       "      <td>0.99</td>\n",
       "      <td>0.00</td>\n",
       "      <td>28.16</td>\n",
       "      <td>30.46</td>\n",
       "      <td>0.0</td>\n",
       "      <td>0.0</td>\n",
       "      <td>57.36</td>\n",
       "    </tr>\n",
       "    <tr>\n",
       "      <th>5</th>\n",
       "      <td>6</td>\n",
       "      <td>2:30:11</td>\n",
       "      <td>Apr 01 2017</td>\n",
       "      <td>Manjari</td>\n",
       "      <td>0.96</td>\n",
       "      <td>0.00</td>\n",
       "      <td>27.94</td>\n",
       "      <td>30.29</td>\n",
       "      <td>0.0</td>\n",
       "      <td>0.0</td>\n",
       "      <td>56.51</td>\n",
       "    </tr>\n",
       "    <tr>\n",
       "      <th>6</th>\n",
       "      <td>7</td>\n",
       "      <td>3:00:14</td>\n",
       "      <td>Apr 01 2017</td>\n",
       "      <td>Manjari</td>\n",
       "      <td>0.56</td>\n",
       "      <td>0.00</td>\n",
       "      <td>27.81</td>\n",
       "      <td>30.29</td>\n",
       "      <td>0.0</td>\n",
       "      <td>0.0</td>\n",
       "      <td>56.65</td>\n",
       "    </tr>\n",
       "    <tr>\n",
       "      <th>7</th>\n",
       "      <td>8</td>\n",
       "      <td>3:30:11</td>\n",
       "      <td>Apr 01 2017</td>\n",
       "      <td>Manjari</td>\n",
       "      <td>0.15</td>\n",
       "      <td>0.00</td>\n",
       "      <td>27.75</td>\n",
       "      <td>30.28</td>\n",
       "      <td>0.0</td>\n",
       "      <td>0.0</td>\n",
       "      <td>56.17</td>\n",
       "    </tr>\n",
       "    <tr>\n",
       "      <th>8</th>\n",
       "      <td>9</td>\n",
       "      <td>4:00:15</td>\n",
       "      <td>Apr 01 2017</td>\n",
       "      <td>Manjari</td>\n",
       "      <td>0.18</td>\n",
       "      <td>0.00</td>\n",
       "      <td>27.84</td>\n",
       "      <td>30.28</td>\n",
       "      <td>0.0</td>\n",
       "      <td>0.0</td>\n",
       "      <td>52.72</td>\n",
       "    </tr>\n",
       "    <tr>\n",
       "      <th>9</th>\n",
       "      <td>10</td>\n",
       "      <td>4:30:14</td>\n",
       "      <td>Apr 01 2017</td>\n",
       "      <td>Manjari</td>\n",
       "      <td>0.32</td>\n",
       "      <td>0.00</td>\n",
       "      <td>27.65</td>\n",
       "      <td>29.80</td>\n",
       "      <td>0.0</td>\n",
       "      <td>0.0</td>\n",
       "      <td>52.33</td>\n",
       "    </tr>\n",
       "    <tr>\n",
       "      <th>10</th>\n",
       "      <td>11</td>\n",
       "      <td>5:00:13</td>\n",
       "      <td>Apr 01 2017</td>\n",
       "      <td>Manjari</td>\n",
       "      <td>0.00</td>\n",
       "      <td>0.00</td>\n",
       "      <td>27.37</td>\n",
       "      <td>29.28</td>\n",
       "      <td>0.0</td>\n",
       "      <td>0.0</td>\n",
       "      <td>52.23</td>\n",
       "    </tr>\n",
       "    <tr>\n",
       "      <th>11</th>\n",
       "      <td>12</td>\n",
       "      <td>5:30:11</td>\n",
       "      <td>Apr 01 2017</td>\n",
       "      <td>Manjari</td>\n",
       "      <td>0.00</td>\n",
       "      <td>0.00</td>\n",
       "      <td>26.90</td>\n",
       "      <td>28.81</td>\n",
       "      <td>0.0</td>\n",
       "      <td>0.0</td>\n",
       "      <td>51.18</td>\n",
       "    </tr>\n",
       "    <tr>\n",
       "      <th>12</th>\n",
       "      <td>13</td>\n",
       "      <td>6:00:15</td>\n",
       "      <td>Apr 01 2017</td>\n",
       "      <td>Manjari</td>\n",
       "      <td>0.00</td>\n",
       "      <td>0.00</td>\n",
       "      <td>26.70</td>\n",
       "      <td>28.14</td>\n",
       "      <td>0.0</td>\n",
       "      <td>0.0</td>\n",
       "      <td>49.87</td>\n",
       "    </tr>\n",
       "    <tr>\n",
       "      <th>13</th>\n",
       "      <td>14</td>\n",
       "      <td>6:30:11</td>\n",
       "      <td>Apr 01 2017</td>\n",
       "      <td>Manjari</td>\n",
       "      <td>0.00</td>\n",
       "      <td>0.00</td>\n",
       "      <td>26.17</td>\n",
       "      <td>26.98</td>\n",
       "      <td>0.0</td>\n",
       "      <td>0.0</td>\n",
       "      <td>50.23</td>\n",
       "    </tr>\n",
       "    <tr>\n",
       "      <th>14</th>\n",
       "      <td>15</td>\n",
       "      <td>7:00:15</td>\n",
       "      <td>Apr 01 2017</td>\n",
       "      <td>Manjari</td>\n",
       "      <td>0.00</td>\n",
       "      <td>0.00</td>\n",
       "      <td>25.64</td>\n",
       "      <td>26.33</td>\n",
       "      <td>0.0</td>\n",
       "      <td>0.0</td>\n",
       "      <td>52.49</td>\n",
       "    </tr>\n",
       "  </tbody>\n",
       "</table>\n",
       "</div>"
      ],
      "text/plain": [
       "    Sr_no     Time         Date Location  Wind Speed  Wind Direction  \\\n",
       "0       1  0:00:15  Apr 01 2017  Manjari        0.35          339.07   \n",
       "1       2  0:30:11  Apr 01 2017  Manjari        0.19          338.73   \n",
       "2       3  1:00:15  Apr 01 2017  Manjari        1.33          360.00   \n",
       "3       4  1:30:12  Apr 01 2017  Manjari        0.54          332.94   \n",
       "4       5  2:00:15  Apr 01 2017  Manjari        0.99            0.00   \n",
       "5       6  2:30:11  Apr 01 2017  Manjari        0.96            0.00   \n",
       "6       7  3:00:14  Apr 01 2017  Manjari        0.56            0.00   \n",
       "7       8  3:30:11  Apr 01 2017  Manjari        0.15            0.00   \n",
       "8       9  4:00:15  Apr 01 2017  Manjari        0.18            0.00   \n",
       "9      10  4:30:14  Apr 01 2017  Manjari        0.32            0.00   \n",
       "10     11  5:00:13  Apr 01 2017  Manjari        0.00            0.00   \n",
       "11     12  5:30:11  Apr 01 2017  Manjari        0.00            0.00   \n",
       "12     13  6:00:15  Apr 01 2017  Manjari        0.00            0.00   \n",
       "13     14  6:30:11  Apr 01 2017  Manjari        0.00            0.00   \n",
       "14     15  7:00:15  Apr 01 2017  Manjari        0.00            0.00   \n",
       "\n",
       "    Air Temperature  Canopy Temperature  Rainfall  Leaf Wetness  Humidity  \n",
       "0             29.41               31.33       0.0           0.0     53.49  \n",
       "1             29.15               31.37       0.0           0.0     54.16  \n",
       "2             28.95               31.25       0.0           0.0     55.28  \n",
       "3             28.55               30.82       0.0           0.0     56.58  \n",
       "4             28.16               30.46       0.0           0.0     57.36  \n",
       "5             27.94               30.29       0.0           0.0     56.51  \n",
       "6             27.81               30.29       0.0           0.0     56.65  \n",
       "7             27.75               30.28       0.0           0.0     56.17  \n",
       "8             27.84               30.28       0.0           0.0     52.72  \n",
       "9             27.65               29.80       0.0           0.0     52.33  \n",
       "10            27.37               29.28       0.0           0.0     52.23  \n",
       "11            26.90               28.81       0.0           0.0     51.18  \n",
       "12            26.70               28.14       0.0           0.0     49.87  \n",
       "13            26.17               26.98       0.0           0.0     50.23  \n",
       "14            25.64               26.33       0.0           0.0     52.49  "
      ]
     },
     "execution_count": 111,
     "metadata": {},
     "output_type": "execute_result"
    }
   ],
   "source": [
    "import numpy as np\n",
    "import pandas as pd\n",
    "import seaborn as sns\n",
    "import matplotlib.pyplot as plt\n",
    "import math\n",
    "weather_data= pd.read_csv(\"weather17_18.csv\")\n",
    "weather_data.head(15)"
   ]
  },
  {
   "cell_type": "markdown",
   "metadata": {
    "id": "6KHC_UiLBVMq"
   },
   "source": [
    "# **2. Plotting the Graphs**"
   ]
  },
  {
   "cell_type": "code",
   "execution_count": 112,
   "metadata": {
    "id": "D-iy04uJ3RGZ"
   },
   "outputs": [
    {
     "data": {
      "text/plain": [
       "<AxesSubplot:ylabel='Frequency'>"
      ]
     },
     "execution_count": 112,
     "metadata": {},
     "output_type": "execute_result"
    },
    {
     "data": {
      "image/png": "[encoded data removed]",
      "text/plain": [
       "<Figure size 432x288 with 1 Axes>"
      ]
     },
     "metadata": {
      "needs_background": "light"
     },
     "output_type": "display_data"
    }
   ],
   "source": [
    "weather_data[\"Air Temperature\"].plot.hist()"
   ]
  },
  {
   "cell_type": "code",
   "execution_count": 113,
   "metadata": {
    "id": "8Tsr-prz2o1a"
   },
   "outputs": [
    {
     "data": {
      "text/plain": [
       "<AxesSubplot:ylabel='Frequency'>"
      ]
     },
     "execution_count": 113,
     "metadata": {},
     "output_type": "execute_result"
    },
    {
     "data": {
      "image/png": "[encoded data removed]",
      "text/plain": [
       "<Figure size 432x288 with 1 Axes>"
      ]
     },
     "metadata": {
      "needs_background": "light"
     },
     "output_type": "display_data"
    }
   ],
   "source": [
    "weather_data[\"Wind Speed\"].plot.hist()"
   ]
  },
  {
   "cell_type": "code",
   "execution_count": 114,
   "metadata": {
    "id": "aF8JqqNVoB7I"
   },
   "outputs": [
    {
     "data": {
      "text/plain": [
       "<AxesSubplot:ylabel='Frequency'>"
      ]
     },
     "execution_count": 114,
     "metadata": {},
     "output_type": "execute_result"
    },
    {
     "data": {
      "image/png": "[encoded data removed]",
      "text/plain": [
       "<Figure size 432x288 with 1 Axes>"
      ]
     },
     "metadata": {
      "needs_background": "light"
     },
     "output_type": "display_data"
    }
   ],
   "source": [
    "weather_data[\"Humidity\"].plot.hist()"
   ]
  },
  {
   "cell_type": "markdown",
   "metadata": {
    "id": "JPC8_IG3BtBy"
   },
   "source": [
    "# **3. Finding the Null values**"
   ]
  },
  {
   "cell_type": "code",
   "execution_count": 115,
   "metadata": {
    "id": "NxYqXYWxff2X"
   },
   "outputs": [
    {
     "data": {
      "text/html": [
       "<div>\n",
       "<style scoped>\n",
       "    .dataframe tbody tr th:only-of-type {\n",
       "        vertical-align: middle;\n",
       "    }\n",
       "\n",
       "    .dataframe tbody tr th {\n",
       "        vertical-align: top;\n",
       "    }\n",
       "\n",
       "    .dataframe thead th {\n",
       "        text-align: right;\n",
       "    }\n",
       "</style>\n",
       "<table border=\"1\" class=\"dataframe\">\n",
       "  <thead>\n",
       "    <tr style=\"text-align: right;\">\n",
       "      <th></th>\n",
       "      <th>Sr_no</th>\n",
       "      <th>Time</th>\n",
       "      <th>Date</th>\n",
       "      <th>Location</th>\n",
       "      <th>Wind Speed</th>\n",
       "      <th>Wind Direction</th>\n",
       "      <th>Air Temperature</th>\n",
       "      <th>Canopy Temperature</th>\n",
       "      <th>Rainfall</th>\n",
       "      <th>Leaf Wetness</th>\n",
       "      <th>Humidity</th>\n",
       "    </tr>\n",
       "  </thead>\n",
       "  <tbody>\n",
       "    <tr>\n",
       "      <th>0</th>\n",
       "      <td>False</td>\n",
       "      <td>False</td>\n",
       "      <td>False</td>\n",
       "      <td>False</td>\n",
       "      <td>False</td>\n",
       "      <td>False</td>\n",
       "      <td>False</td>\n",
       "      <td>False</td>\n",
       "      <td>False</td>\n",
       "      <td>False</td>\n",
       "      <td>False</td>\n",
       "    </tr>\n",
       "    <tr>\n",
       "      <th>1</th>\n",
       "      <td>False</td>\n",
       "      <td>False</td>\n",
       "      <td>False</td>\n",
       "      <td>False</td>\n",
       "      <td>False</td>\n",
       "      <td>False</td>\n",
       "      <td>False</td>\n",
       "      <td>False</td>\n",
       "      <td>False</td>\n",
       "      <td>False</td>\n",
       "      <td>False</td>\n",
       "    </tr>\n",
       "    <tr>\n",
       "      <th>2</th>\n",
       "      <td>False</td>\n",
       "      <td>False</td>\n",
       "      <td>False</td>\n",
       "      <td>False</td>\n",
       "      <td>False</td>\n",
       "      <td>False</td>\n",
       "      <td>False</td>\n",
       "      <td>False</td>\n",
       "      <td>False</td>\n",
       "      <td>False</td>\n",
       "      <td>False</td>\n",
       "    </tr>\n",
       "    <tr>\n",
       "      <th>3</th>\n",
       "      <td>False</td>\n",
       "      <td>False</td>\n",
       "      <td>False</td>\n",
       "      <td>False</td>\n",
       "      <td>False</td>\n",
       "      <td>False</td>\n",
       "      <td>False</td>\n",
       "      <td>False</td>\n",
       "      <td>False</td>\n",
       "      <td>False</td>\n",
       "      <td>False</td>\n",
       "    </tr>\n",
       "    <tr>\n",
       "      <th>4</th>\n",
       "      <td>False</td>\n",
       "      <td>False</td>\n",
       "      <td>False</td>\n",
       "      <td>False</td>\n",
       "      <td>False</td>\n",
       "      <td>False</td>\n",
       "      <td>False</td>\n",
       "      <td>False</td>\n",
       "      <td>False</td>\n",
       "      <td>False</td>\n",
       "      <td>False</td>\n",
       "    </tr>\n",
       "    <tr>\n",
       "      <th>...</th>\n",
       "      <td>...</td>\n",
       "      <td>...</td>\n",
       "      <td>...</td>\n",
       "      <td>...</td>\n",
       "      <td>...</td>\n",
       "      <td>...</td>\n",
       "      <td>...</td>\n",
       "      <td>...</td>\n",
       "      <td>...</td>\n",
       "      <td>...</td>\n",
       "      <td>...</td>\n",
       "    </tr>\n",
       "    <tr>\n",
       "      <th>16346</th>\n",
       "      <td>False</td>\n",
       "      <td>False</td>\n",
       "      <td>False</td>\n",
       "      <td>False</td>\n",
       "      <td>False</td>\n",
       "      <td>False</td>\n",
       "      <td>False</td>\n",
       "      <td>False</td>\n",
       "      <td>False</td>\n",
       "      <td>False</td>\n",
       "      <td>False</td>\n",
       "    </tr>\n",
       "    <tr>\n",
       "      <th>16347</th>\n",
       "      <td>False</td>\n",
       "      <td>False</td>\n",
       "      <td>False</td>\n",
       "      <td>False</td>\n",
       "      <td>False</td>\n",
       "      <td>False</td>\n",
       "      <td>False</td>\n",
       "      <td>False</td>\n",
       "      <td>False</td>\n",
       "      <td>False</td>\n",
       "      <td>False</td>\n",
       "    </tr>\n",
       "    <tr>\n",
       "      <th>16348</th>\n",
       "      <td>False</td>\n",
       "      <td>False</td>\n",
       "      <td>False</td>\n",
       "      <td>False</td>\n",
       "      <td>False</td>\n",
       "      <td>False</td>\n",
       "      <td>False</td>\n",
       "      <td>False</td>\n",
       "      <td>False</td>\n",
       "      <td>False</td>\n",
       "      <td>False</td>\n",
       "    </tr>\n",
       "    <tr>\n",
       "      <th>16349</th>\n",
       "      <td>False</td>\n",
       "      <td>False</td>\n",
       "      <td>False</td>\n",
       "      <td>False</td>\n",
       "      <td>False</td>\n",
       "      <td>False</td>\n",
       "      <td>False</td>\n",
       "      <td>False</td>\n",
       "      <td>False</td>\n",
       "      <td>False</td>\n",
       "      <td>False</td>\n",
       "    </tr>\n",
       "    <tr>\n",
       "      <th>16350</th>\n",
       "      <td>False</td>\n",
       "      <td>False</td>\n",
       "      <td>False</td>\n",
       "      <td>False</td>\n",
       "      <td>False</td>\n",
       "      <td>False</td>\n",
       "      <td>False</td>\n",
       "      <td>False</td>\n",
       "      <td>False</td>\n",
       "      <td>False</td>\n",
       "      <td>False</td>\n",
       "    </tr>\n",
       "  </tbody>\n",
       "</table>\n",
       "<p>16351 rows × 11 columns</p>\n",
       "</div>"
      ],
      "text/plain": [
       "       Sr_no   Time   Date  Location  Wind Speed  Wind Direction  \\\n",
       "0      False  False  False     False       False           False   \n",
       "1      False  False  False     False       False           False   \n",
       "2      False  False  False     False       False           False   \n",
       "3      False  False  False     False       False           False   \n",
       "4      False  False  False     False       False           False   \n",
       "...      ...    ...    ...       ...         ...             ...   \n",
       "16346  False  False  False     False       False           False   \n",
       "16347  False  False  False     False       False           False   \n",
       "16348  False  False  False     False       False           False   \n",
       "16349  False  False  False     False       False           False   \n",
       "16350  False  False  False     False       False           False   \n",
       "\n",
       "       Air Temperature  Canopy Temperature  Rainfall  Leaf Wetness  Humidity  \n",
       "0                False               False     False         False     False  \n",
       "1                False               False     False         False     False  \n",
       "2                False               False     False         False     False  \n",
       "3                False               False     False         False     False  \n",
       "4                False               False     False         False     False  \n",
       "...                ...                 ...       ...           ...       ...  \n",
       "16346            False               False     False         False     False  \n",
       "16347            False               False     False         False     False  \n",
       "16348            False               False     False         False     False  \n",
       "16349            False               False     False         False     False  \n",
       "16350            False               False     False         False     False  \n",
       "\n",
       "[16351 rows x 11 columns]"
      ]
     },
     "execution_count": 115,
     "metadata": {},
     "output_type": "execute_result"
    }
   ],
   "source": [
    "weather_data.isnull()"
   ]
  },
  {
   "cell_type": "code",
   "execution_count": 116,
   "metadata": {
    "id": "5pJtumqWfmRt"
   },
   "outputs": [
    {
     "data": {
      "text/plain": [
       "Sr_no                 0\n",
       "Time                  0\n",
       "Date                  0\n",
       "Location              0\n",
       "Wind Speed            0\n",
       "Wind Direction        0\n",
       "Air Temperature       0\n",
       "Canopy Temperature    0\n",
       "Rainfall              0\n",
       "Leaf Wetness          0\n",
       "Humidity              0\n",
       "dtype: int64"
      ]
     },
     "execution_count": 116,
     "metadata": {},
     "output_type": "execute_result"
    }
   ],
   "source": [
    "weather_data.isnull().sum()"
   ]
  },
  {
   "cell_type": "markdown",
   "metadata": {
    "id": "usZQOOoJB7bb"
   },
   "source": [
    "# **4. Plot the Heatmap**"
   ]
  },
  {
   "cell_type": "code",
   "execution_count": 117,
   "metadata": {
    "id": "whnQuS-hiN7a"
   },
   "outputs": [
    {
     "data": {
      "text/plain": [
       "<AxesSubplot:>"
      ]
     },
     "execution_count": 117,
     "metadata": {},
     "output_type": "execute_result"
    },
    {
     "data": {
      "image/png": "[encoded data removed]",
      "text/plain": [
       "<Figure size 432x288 with 2 Axes>"
      ]
     },
     "metadata": {
      "needs_background": "light"
     },
     "output_type": "display_data"
    }
   ],
   "source": [
    "sns.heatmap(weather_data.isnull(), yticklabels=False, cmap=\"viridis\")"
   ]
  },
  {
   "cell_type": "markdown",
   "metadata": {
    "id": "cePZ8_u6CHWT"
   },
   "source": [
    "# **5. Droping the values**"
   ]
  },
  {
   "cell_type": "code",
   "execution_count": 118,
   "metadata": {
    "id": "oHsS81oOtLM7"
   },
   "outputs": [
    {
     "data": {
      "text/html": [
       "<div>\n",
       "<style scoped>\n",
       "    .dataframe tbody tr th:only-of-type {\n",
       "        vertical-align: middle;\n",
       "    }\n",
       "\n",
       "    .dataframe tbody tr th {\n",
       "        vertical-align: top;\n",
       "    }\n",
       "\n",
       "    .dataframe thead th {\n",
       "        text-align: right;\n",
       "    }\n",
       "</style>\n",
       "<table border=\"1\" class=\"dataframe\">\n",
       "  <thead>\n",
       "    <tr style=\"text-align: right;\">\n",
       "      <th></th>\n",
       "      <th>Sr_no</th>\n",
       "      <th>Time</th>\n",
       "      <th>Wind Speed</th>\n",
       "      <th>Wind Direction</th>\n",
       "      <th>Air Temperature</th>\n",
       "      <th>Canopy Temperature</th>\n",
       "      <th>Rainfall</th>\n",
       "      <th>Leaf Wetness</th>\n",
       "      <th>Humidity</th>\n",
       "    </tr>\n",
       "  </thead>\n",
       "  <tbody>\n",
       "    <tr>\n",
       "      <th>0</th>\n",
       "      <td>1</td>\n",
       "      <td>0:00:15</td>\n",
       "      <td>0.35</td>\n",
       "      <td>339.07</td>\n",
       "      <td>29.41</td>\n",
       "      <td>31.33</td>\n",
       "      <td>0.0</td>\n",
       "      <td>0.0</td>\n",
       "      <td>53.49</td>\n",
       "    </tr>\n",
       "    <tr>\n",
       "      <th>1</th>\n",
       "      <td>2</td>\n",
       "      <td>0:30:11</td>\n",
       "      <td>0.19</td>\n",
       "      <td>338.73</td>\n",
       "      <td>29.15</td>\n",
       "      <td>31.37</td>\n",
       "      <td>0.0</td>\n",
       "      <td>0.0</td>\n",
       "      <td>54.16</td>\n",
       "    </tr>\n",
       "    <tr>\n",
       "      <th>2</th>\n",
       "      <td>3</td>\n",
       "      <td>1:00:15</td>\n",
       "      <td>1.33</td>\n",
       "      <td>360.00</td>\n",
       "      <td>28.95</td>\n",
       "      <td>31.25</td>\n",
       "      <td>0.0</td>\n",
       "      <td>0.0</td>\n",
       "      <td>55.28</td>\n",
       "    </tr>\n",
       "    <tr>\n",
       "      <th>3</th>\n",
       "      <td>4</td>\n",
       "      <td>1:30:12</td>\n",
       "      <td>0.54</td>\n",
       "      <td>332.94</td>\n",
       "      <td>28.55</td>\n",
       "      <td>30.82</td>\n",
       "      <td>0.0</td>\n",
       "      <td>0.0</td>\n",
       "      <td>56.58</td>\n",
       "    </tr>\n",
       "    <tr>\n",
       "      <th>4</th>\n",
       "      <td>5</td>\n",
       "      <td>2:00:15</td>\n",
       "      <td>0.99</td>\n",
       "      <td>0.00</td>\n",
       "      <td>28.16</td>\n",
       "      <td>30.46</td>\n",
       "      <td>0.0</td>\n",
       "      <td>0.0</td>\n",
       "      <td>57.36</td>\n",
       "    </tr>\n",
       "  </tbody>\n",
       "</table>\n",
       "</div>"
      ],
      "text/plain": [
       "   Sr_no     Time  Wind Speed  Wind Direction  Air Temperature  \\\n",
       "0      1  0:00:15        0.35          339.07            29.41   \n",
       "1      2  0:30:11        0.19          338.73            29.15   \n",
       "2      3  1:00:15        1.33          360.00            28.95   \n",
       "3      4  1:30:12        0.54          332.94            28.55   \n",
       "4      5  2:00:15        0.99            0.00            28.16   \n",
       "\n",
       "   Canopy Temperature  Rainfall  Leaf Wetness  Humidity  \n",
       "0               31.33       0.0           0.0     53.49  \n",
       "1               31.37       0.0           0.0     54.16  \n",
       "2               31.25       0.0           0.0     55.28  \n",
       "3               30.82       0.0           0.0     56.58  \n",
       "4               30.46       0.0           0.0     57.36  "
      ]
     },
     "execution_count": 118,
     "metadata": {},
     "output_type": "execute_result"
    }
   ],
   "source": [
    "weather_data.drop(\"Date\", axis=1, inplace=True)\n",
    "weather_data.drop(\"Location\", axis=1, inplace=True)\n",
    "weather_data.head()"
   ]
  },
  {
   "cell_type": "code",
   "execution_count": 119,
   "metadata": {
    "id": "Y1t1GKa56I8R"
   },
   "outputs": [],
   "source": [
    "weather_data.drop(\"Sr_no\", axis=1, inplace=True)"
   ]
  },
  {
   "cell_type": "code",
   "execution_count": 120,
   "metadata": {
    "id": "UWelK_t0tBHB"
   },
   "outputs": [],
   "source": [
    "weather_data.drop(\"Time\", axis=1, inplace=True)"
   ]
  },
  {
   "cell_type": "code",
   "execution_count": 121,
   "metadata": {},
   "outputs": [],
   "source": [
    "weather_data.drop(\"Rainfall\", axis=1, inplace=True)\n",
    "weather_data.drop(\"Leaf Wetness\", axis=1, inplace=True)"
   ]
  },
  {
   "cell_type": "code",
   "execution_count": 122,
   "metadata": {
    "id": "Rd6vBdka5KdE"
   },
   "outputs": [
    {
     "data": {
      "text/plain": [
       "array([53.49, 54.16, 55.28, ..., 39.92, 38.18, 35.64])"
      ]
     },
     "execution_count": 122,
     "metadata": {},
     "output_type": "execute_result"
    }
   ],
   "source": [
    "X=weather_data.drop(\"Humidity\",axis=1)\n",
    "y=weather_data[\"Humidity\"].values\n",
    "y"
   ]
  },
  {
   "cell_type": "code",
   "execution_count": 123,
   "metadata": {},
   "outputs": [
    {
     "data": {
      "text/plain": [
       "pandas.core.frame.DataFrame"
      ]
     },
     "execution_count": 123,
     "metadata": {},
     "output_type": "execute_result"
    }
   ],
   "source": [
    "x = X.iloc[:,:]\n",
    "type(x)"
   ]
  },
  {
   "cell_type": "code",
   "execution_count": 124,
   "metadata": {},
   "outputs": [
    {
     "data": {
      "text/plain": [
       "array([53.49, 54.16, 55.28, ..., 39.92, 38.18, 35.64])"
      ]
     },
     "execution_count": 124,
     "metadata": {},
     "output_type": "execute_result"
    }
   ],
   "source": [
    "y "
   ]
  },
  {
   "cell_type": "markdown",
   "metadata": {
    "id": "4AWVIkoZDSmD"
   },
   "source": [
    "# **7. Train and Test**"
   ]
  },
  {
   "cell_type": "code",
   "execution_count": 125,
   "metadata": {
    "id": "w_T64Ttf6OMu"
   },
   "outputs": [],
   "source": [
    "from sklearn.model_selection import train_test_split\n",
    "X_train, X_test, y_train, y_test= train_test_split(X,y,test_size=0.1,random_state=15)"
   ]
  },
  {
   "cell_type": "code",
   "execution_count": 126,
   "metadata": {},
   "outputs": [],
   "source": [
    "from sklearn.preprocessing import MinMaxScaler\n",
    "scaler = MinMaxScaler()\n",
    "X_train = scaler.fit_transform(X_train)\n",
    "X_test = scaler.transform(X_test)"
   ]
  },
  {
   "cell_type": "markdown",
   "metadata": {
    "id": "k1qxis_sXZCC"
   },
   "source": [
    "## // Decision tree and adaboost regressor"
   ]
  },
  {
   "cell_type": "code",
   "execution_count": 127,
   "metadata": {
    "id": "BCgR8xuvXilZ"
   },
   "outputs": [],
   "source": [
    "from sklearn.ensemble import AdaBoostRegressor\n",
    "from sklearn.tree import DecisionTreeRegressor\n",
    "rng = np.random.RandomState(1)\n",
    "regr_1 = DecisionTreeRegressor(max_depth=4)\n",
    "\n",
    "regr_2 = AdaBoostRegressor(\n",
    "    DecisionTreeRegressor(max_depth=4), n_estimators=300, random_state=rng\n",
    ")\n",
    "\n",
    "regr_1.fit(X_train, y_train)\n",
    "regr_2.fit(X_train, y_train)\n",
    "\n",
    "y_1d = regr_1.predict(X_train)\n",
    "y_2d = regr_1.predict(X_test)\n",
    "\n",
    "y_1ad = regr_2.predict(X_train)\n",
    "y_2ad = regr_2.predict(X_test)"
   ]
  },
  {
   "cell_type": "code",
   "execution_count": 128,
   "metadata": {
    "id": "wEl6zKCTbaO-"
   },
   "outputs": [
    {
     "name": "stdout",
     "output_type": "stream",
     "text": [
      "Mean Squared error on training data --> 185.58273296033684\n",
      "Mean Squared error on test data --> 186.6709979733937\n",
      "root Mean Squared error on training data --> 13.622875355824732\n",
      " root Mean Squared error on test data --> 13.662759529955641\n",
      "Mean absolute error on training data --> 10.431104359790766\n",
      "Mean absolute error on test data --> 10.55717716158235\n",
      "R-Squared: 0.6488227495301508\n"
     ]
    }
   ],
   "source": [
    "from sklearn.metrics import mean_squared_error as mse\n",
    "\n",
    "print(\"Mean Squared error on training data --> {}\\nMean Squared error on test data --> {}\".format(mse(y_train, y_1d), mse(y_test, y_2d)))\n",
    "\n",
    "from math import sqrt\n",
    "print(\"root Mean Squared error on training data --> {}\\n root Mean Squared error on test data --> {}\".format(sqrt(mse(y_train, y_1d)), sqrt( mse(y_test, y_2d)) ))\n",
    "\n",
    "from sklearn.metrics import mean_absolute_error as mae\n",
    "print(\"Mean absolute error on training data --> {}\\nMean absolute error on test data --> {}\".format(mae(y_train, y_1d), mae(y_test, y_2d)))\n",
    "\n",
    "import sklearn.metrics as metrics\n",
    "r1_sk = metrics.r2_score(y_train,y_1d)\n",
    "r2_sk = metrics.r2_score(y_test,y_2d)\n",
    "print(\"R-Squared:\", r1_sk)\n"
   ]
  },
  {
   "cell_type": "code",
   "execution_count": 129,
   "metadata": {},
   "outputs": [
    {
     "name": "stdout",
     "output_type": "stream",
     "text": [
      "[78.64028244]\n"
     ]
    }
   ],
   "source": [
    "nexthour = X_test[5].reshape(1,-1)\n",
    "nexthour_humidity = regr_1.predict(nexthour)\n",
    "print(nexthour_humidity)"
   ]
  },
  {
   "cell_type": "code",
   "execution_count": 130,
   "metadata": {},
   "outputs": [
    {
     "name": "stdout",
     "output_type": "stream",
     "text": [
      "Mean Squared error on training data --> 199.1651998202799\n",
      "Mean Squared error on test data --> 205.19843878964144\n",
      "root Mean Squared error on training data --> 14.112590117348406\n",
      " root Mean Squared error on test data --> 14.324749170217308\n",
      "Mean absolute error on training data --> 12.31376188515487\n",
      "Mean absolute error on test data --> 12.536628379858803\n",
      "R-Squared: 0.6231207173939386\n"
     ]
    }
   ],
   "source": [
    "print(\"Mean Squared error on training data --> {}\\nMean Squared error on test data --> {}\".format(mse(y_train, y_1ad), mse(y_test, y_2ad)))\n",
    "\n",
    "print(\"root Mean Squared error on training data --> {}\\n root Mean Squared error on test data --> {}\".format(sqrt(mse(y_train, y_1ad)), sqrt( mse(y_test, y_2ad)) ))\n",
    "\n",
    "print(\"Mean absolute error on training data --> {}\\nMean absolute error on test data --> {}\".format(mae(y_train, y_1ad), mae(y_test, y_2ad)))\n",
    "\n",
    "r1_sk = metrics.r2_score(y_train,y_1ad)\n",
    "r2_sk = metrics.r2_score(y_test,y_2ad)\n",
    "print(\"R-Squared:\", r1_sk)"
   ]
  },
  {
   "cell_type": "code",
   "execution_count": 131,
   "metadata": {},
   "outputs": [
    {
     "name": "stdout",
     "output_type": "stream",
     "text": [
      "[78.71509563]\n"
     ]
    }
   ],
   "source": [
    "nexthour = X_test[5].reshape(1,-1)\n",
    "nexthour_humidity = regr_2.predict(nexthour)\n",
    "print(nexthour_humidity)"
   ]
  },
  {
   "cell_type": "markdown",
   "metadata": {
    "id": "KWURXs8MbetZ"
   },
   "source": [
    "## using linear regression"
   ]
  },
  {
   "cell_type": "code",
   "execution_count": 132,
   "metadata": {
    "id": "nGkZJB90ECM5"
   },
   "outputs": [],
   "source": [
    "from sklearn.linear_model import LinearRegression as lr\n",
    "lrr = lr().fit(X_train,y_train)"
   ]
  },
  {
   "cell_type": "code",
   "execution_count": 133,
   "metadata": {
    "id": "zfA_jN2WECQD"
   },
   "outputs": [],
   "source": [
    "predlrtest = lrr.predict(X_test)\n",
    "predlrtrain = lrr.predict(X_train)"
   ]
  },
  {
   "cell_type": "code",
   "execution_count": 134,
   "metadata": {
    "id": "z7R2eUiQECTW"
   },
   "outputs": [
    {
     "name": "stdout",
     "output_type": "stream",
     "text": [
      "Mean Squared error on training data --> 287.8943851716708\n",
      "Mean Squared error on test data --> 282.8376086248007\n",
      "root Mean Squared error on training data --> 16.967450756423926\n",
      " root Mean Squared error on test data --> 16.817776566026815\n",
      "Mean absolute error on training data --> 14.866764450764139\n",
      "Mean absolute error on test data --> 14.723162786383673\n",
      "R-Squared: 0.45521893660277746\n"
     ]
    }
   ],
   "source": [
    "\n",
    "print(\"Mean Squared error on training data --> {}\\nMean Squared error on test data --> {}\".format(mse(y_train, predlrtrain), mse(y_test, predlrtest)))\n",
    "\n",
    "print(\"root Mean Squared error on training data --> {}\\n root Mean Squared error on test data --> {}\".format(sqrt(mse(y_train, predlrtrain)), sqrt( mse(y_test, predlrtest)) ))\n",
    "\n",
    "print(\"Mean absolute error on training data --> {}\\nMean absolute error on test data --> {}\".format(mae(y_train, predlrtrain), mae(y_test, predlrtest)))\n",
    "\n",
    "r1_sk = metrics.r2_score(y_train, predlrtrain)\n",
    "r2_sk = metrics.r2_score(y_test, predlrtest)\n",
    "print(\"R-Squared:\", r1_sk)\n"
   ]
  },
  {
   "cell_type": "code",
   "execution_count": 135,
   "metadata": {},
   "outputs": [
    {
     "name": "stdout",
     "output_type": "stream",
     "text": [
      "[97.37288893]\n"
     ]
    }
   ],
   "source": [
    "nexthour = X_test[5].reshape(1,-1)\n",
    "nexthour_humidity = lrr.predict(nexthour)\n",
    "print(nexthour_humidity)"
   ]
  },
  {
   "cell_type": "markdown",
   "metadata": {
    "id": "QB81e5rbiDLY"
   },
   "source": [
    "## Ridge regression"
   ]
  },
  {
   "cell_type": "code",
   "execution_count": 136,
   "metadata": {
    "id": "URDZ1ACchrv3"
   },
   "outputs": [
    {
     "data": {
      "text/plain": [
       "Ridge()"
      ]
     },
     "execution_count": 136,
     "metadata": {},
     "output_type": "execute_result"
    }
   ],
   "source": [
    "from sklearn.linear_model import Ridge\n",
    "clf = Ridge(alpha=1.0)\n",
    "clf = clf.fit(X_train, y_train)\n",
    "Ridge()"
   ]
  },
  {
   "cell_type": "code",
   "execution_count": 137,
   "metadata": {
    "id": "CvO2U_LThryQ"
   },
   "outputs": [],
   "source": [
    "clftrain = clf.predict(X_train)\n",
    "clftest = clf.predict(X_test)"
   ]
  },
  {
   "cell_type": "code",
   "execution_count": 138,
   "metadata": {
    "id": "_5sTbnjghr1u"
   },
   "outputs": [
    {
     "name": "stdout",
     "output_type": "stream",
     "text": [
      "Mean Squared error on training data --> 287.90195196799317\n",
      "Mean Squared error on test data --> 282.87050244854737\n",
      "root Mean Squared error on training data --> 16.967673734722542\n",
      " root Mean Squared error on test data --> 16.81875448564927\n",
      "Mean absolute error on training data --> 14.864178506304963\n",
      "Mean absolute error on test data --> 14.721415532641368\n",
      "R-Squared: 0.45520461799303946\n"
     ]
    }
   ],
   "source": [
    "print(\"Mean Squared error on training data --> {}\\nMean Squared error on test data --> {}\".format(mse(y_train, clftrain), mse(y_test, clftest)))\n",
    "\n",
    "print(\"root Mean Squared error on training data --> {}\\n root Mean Squared error on test data --> {}\".format(sqrt(mse(y_train, clftrain)), sqrt( mse(y_test, clftest)) ))\n",
    "\n",
    "print(\"Mean absolute error on training data --> {}\\nMean absolute error on test data --> {}\".format(mae(y_train, clftrain), mae(y_test, clftest)))\n",
    "\n",
    "r1_sk = metrics.r2_score(y_train, clftrain)\n",
    "r2_sk = metrics.r2_score(y_test, clftest)\n",
    "print(\"R-Squared:\", r1_sk)\n"
   ]
  },
  {
   "cell_type": "code",
   "execution_count": 139,
   "metadata": {},
   "outputs": [
    {
     "name": "stdout",
     "output_type": "stream",
     "text": [
      "[97.26768232]\n"
     ]
    }
   ],
   "source": [
    "nexthour = X_test[5].reshape(1,-1)\n",
    "nexthour_humidity = clf.predict(nexthour)\n",
    "print(nexthour_humidity)"
   ]
  },
  {
   "cell_type": "markdown",
   "metadata": {
    "id": "Z-CbaZ0K2xFR"
   },
   "source": [
    "## MLP regressor"
   ]
  },
  {
   "cell_type": "code",
   "execution_count": 140,
   "metadata": {
    "id": "ZP-oiNNi2v3z"
   },
   "outputs": [
    {
     "name": "stderr",
     "output_type": "stream",
     "text": [
      "C:\\ProgramData\\Anaconda3\\lib\\site-packages\\sklearn\\neural_network\\_multilayer_perceptron.py:692: ConvergenceWarning: Stochastic Optimizer: Maximum iterations (1000) reached and the optimization hasn't converged yet.\n",
      "  warnings.warn(\n"
     ]
    }
   ],
   "source": [
    "from sklearn.neural_network import MLPRegressor as mlp\n",
    "mlp = mlp(random_state=1, max_iter=1000).fit(X_train, y_train)"
   ]
  },
  {
   "cell_type": "code",
   "execution_count": 141,
   "metadata": {
    "id": "5ge-IwP33LMN"
   },
   "outputs": [],
   "source": [
    "mlptrain = mlp.predict(X_train)\n",
    "mlptest = mlp.predict(X_test)"
   ]
  },
  {
   "cell_type": "code",
   "execution_count": 142,
   "metadata": {
    "id": "s3qVjI2V3gXH"
   },
   "outputs": [
    {
     "name": "stdout",
     "output_type": "stream",
     "text": [
      "Mean Squared error on training data --> 287.90195196799317\n",
      "Mean Squared error on test data --> 282.87050244854737\n",
      "root Mean Squared error on training data --> 16.967673734722542\n",
      " root Mean Squared error on test data --> 16.81875448564927\n",
      "Mean absolute error on training data --> 14.864178506304963\n",
      "Mean absolute error on test data --> 14.721415532641368\n",
      "R-Squared: 0.6991853449882941\n"
     ]
    }
   ],
   "source": [
    "print(\"Mean Squared error on training data --> {}\\nMean Squared error on test data --> {}\".format(mse(y_train, clftrain), mse(y_test, clftest)))\n",
    "\n",
    "print(\"root Mean Squared error on training data --> {}\\n root Mean Squared error on test data --> {}\".format(sqrt(mse(y_train, clftrain)), sqrt( mse(y_test, clftest)) ))\n",
    "\n",
    "print(\"Mean absolute error on training data --> {}\\nMean absolute error on test data --> {}\".format(mae(y_train, clftrain), mae(y_test, clftest)))\n",
    "\n",
    "r1_sk = metrics.r2_score(y_train, mlptrain)\n",
    "r2_sk = metrics.r2_score(y_test, mlptest)\n",
    "print(\"R-Squared:\", r1_sk)\n"
   ]
  },
  {
   "cell_type": "code",
   "execution_count": 143,
   "metadata": {
    "id": "sSx6vX6h3ip5"
   },
   "outputs": [
    {
     "name": "stdout",
     "output_type": "stream",
     "text": [
      "[87.41681647]\n"
     ]
    }
   ],
   "source": [
    "nexthour = X_test[5].reshape(1,-1)\n",
    "nexthour_humidity = mlp.predict(nexthour)\n",
    "print(nexthour_humidity)"
   ]
  },
  {
   "cell_type": "markdown",
   "metadata": {
    "id": "zeaOSQ-R3pXE"
   },
   "source": [
    "## lasso regression"
   ]
  },
  {
   "cell_type": "code",
   "execution_count": 144,
   "metadata": {
    "id": "SH6XmlMW2wDl"
   },
   "outputs": [],
   "source": [
    "from sklearn import linear_model as lm\n",
    "lms = lm.Lasso(alpha=0.1).fit(X_train, y_train)"
   ]
  },
  {
   "cell_type": "code",
   "execution_count": 145,
   "metadata": {
    "id": "t-DVQJrR8oh1"
   },
   "outputs": [],
   "source": [
    "lmstrain = lms.predict(X_train)\n",
    "lmstest = lms.predict(X_test)"
   ]
  },
  {
   "cell_type": "code",
   "execution_count": 146,
   "metadata": {
    "id": "w4yaYE0K82CN"
   },
   "outputs": [
    {
     "name": "stdout",
     "output_type": "stream",
     "text": [
      "Mean Squared error on training data --> 290.0264937922834\n",
      "Mean Squared error on test data --> 286.21196669912854\n",
      "root Mean Squared error on training data --> 17.03016423268676\n",
      " root Mean Squared error on test data --> 16.91780029138329\n",
      "Mean absolute error on training data --> 14.96727044472507\n",
      "Mean absolute error on test data --> 14.837557546457754\n",
      "R-Squared: 0.45118435843299787\n"
     ]
    }
   ],
   "source": [
    "print(\"Mean Squared error on training data --> {}\\nMean Squared error on test data --> {}\".format(mse(y_train, lmstrain), mse(y_test, lmstest)))\n",
    "\n",
    "print(\"root Mean Squared error on training data --> {}\\n root Mean Squared error on test data --> {}\".format(sqrt(mse(y_train, lmstrain)), sqrt( mse(y_test, lmstest)) ))\n",
    "\n",
    "print(\"Mean absolute error on training data --> {}\\nMean absolute error on test data --> {}\".format(mae(y_train, lmstrain), mae(y_test, lmstest)))\n",
    "\n",
    "r1_sk = metrics.r2_score(y_train, lmstrain)\n",
    "r2_sk = metrics.r2_score(y_test, lmstest)\n",
    "print(\"R-Squared:\", r1_sk)\n"
   ]
  },
  {
   "cell_type": "code",
   "execution_count": 147,
   "metadata": {},
   "outputs": [
    {
     "name": "stdout",
     "output_type": "stream",
     "text": [
      "[95.42188728]\n"
     ]
    }
   ],
   "source": [
    "nexthour = X_test[5].reshape(1,-1)\n",
    "nexthour_humidity = lms.predict(nexthour)\n",
    "print(nexthour_humidity)"
   ]
  },
  {
   "cell_type": "markdown",
   "metadata": {
    "id": "a51Xabdi9gIn"
   },
   "source": [
    "## random forest regressor"
   ]
  },
  {
   "cell_type": "code",
   "execution_count": 148,
   "metadata": {
    "id": "aU4y3zb48mek"
   },
   "outputs": [],
   "source": [
    "from sklearn.ensemble import RandomForestRegressor as rfr\n",
    "regr = RandomForestRegressor(max_depth=2, random_state=0)\n",
    "regrn = regr.fit(X_train, y_train)"
   ]
  },
  {
   "cell_type": "code",
   "execution_count": 149,
   "metadata": {
    "id": "8MDvEg-I-WCk"
   },
   "outputs": [],
   "source": [
    "rfrtrain = regrn.predict(X_train)\n",
    "rfrtest = regrn.predict(X_test)"
   ]
  },
  {
   "cell_type": "code",
   "execution_count": 150,
   "metadata": {
    "id": "9v1lW3Gd-g9W"
   },
   "outputs": [
    {
     "name": "stdout",
     "output_type": "stream",
     "text": [
      "Mean Squared error on training data --> 226.04721775364456\n",
      "Mean Squared error on test data --> 231.22803542496564\n",
      "root Mean Squared error on training data --> 15.034866735480051\n",
      " root Mean Squared error on test data --> 15.206184117817514\n",
      "Mean absolute error on training data --> 12.456777230360975\n",
      "Mean absolute error on test data --> 12.698933074677205\n",
      "R-Squared: 0.5722520132083084\n"
     ]
    }
   ],
   "source": [
    "print(\"Mean Squared error on training data --> {}\\nMean Squared error on test data --> {}\".format(mse(y_train, rfrtrain), mse(y_test, rfrtest)))\n",
    "\n",
    "print(\"root Mean Squared error on training data --> {}\\n root Mean Squared error on test data --> {}\".format(sqrt(mse(y_train, rfrtrain)), sqrt( mse(y_test, rfrtest)) ))\n",
    "\n",
    "print(\"Mean absolute error on training data --> {}\\nMean absolute error on test data --> {}\".format(mae(y_train, rfrtrain), mae(y_test, rfrtest)))\n",
    "\n",
    "r1_sk = metrics.r2_score(y_train, rfrtrain)\n",
    "r2_sk = metrics.r2_score(y_test, rfrtest)\n",
    "print(\"R-Squared:\", r1_sk)\n"
   ]
  },
  {
   "cell_type": "code",
   "execution_count": 151,
   "metadata": {},
   "outputs": [
    {
     "name": "stdout",
     "output_type": "stream",
     "text": [
      "[81.436699]\n"
     ]
    }
   ],
   "source": [
    "nexthour = X_test[5].reshape(1,-1)\n",
    "nexthour_humidity = regrn.predict(nexthour)\n",
    "print(nexthour_humidity)"
   ]
  },
  {
   "cell_type": "markdown",
   "metadata": {
    "id": "jlZm1wYR_C2c"
   },
   "source": [
    "## KNeighborsRegressor"
   ]
  },
  {
   "cell_type": "code",
   "execution_count": 152,
   "metadata": {
    "id": "P3JgwOAz-TKs"
   },
   "outputs": [],
   "source": [
    "from sklearn.neighbors import KNeighborsRegressor as knr\n",
    "neigh = knr(n_neighbors=2)\n",
    "knrn = neigh.fit(X_train, y_train)"
   ]
  },
  {
   "cell_type": "code",
   "execution_count": 153,
   "metadata": {
    "id": "bricAs9j_qDl"
   },
   "outputs": [],
   "source": [
    "knrtrain = knrn.predict(X_train)\n",
    "knrtest = knrn.predict(X_test)"
   ]
  },
  {
   "cell_type": "code",
   "execution_count": 154,
   "metadata": {
    "id": "lWjNbhEW_0Es"
   },
   "outputs": [
    {
     "name": "stdout",
     "output_type": "stream",
     "text": [
      "Mean Squared error on training data --> 48.493054435949716\n",
      "Mean Squared error on test data --> 172.77625707518334\n",
      "root Mean Squared error on training data --> 6.96369545830012\n",
      " root Mean Squared error on test data --> 13.144438256357072\n",
      "Mean absolute error on training data --> 4.452217125382263\n",
      "Mean absolute error on test data --> 8.898346577017115\n",
      "R-Squared: 0.9082368426628292\n"
     ]
    }
   ],
   "source": [
    "print(\"Mean Squared error on training data --> {}\\nMean Squared error on test data --> {}\".format(mse(y_train, knrtrain), mse(y_test, knrtest)))\n",
    "\n",
    "print(\"root Mean Squared error on training data --> {}\\n root Mean Squared error on test data --> {}\".format(sqrt(mse(y_train, knrtrain)), sqrt( mse(y_test, knrtest)) ))\n",
    "\n",
    "print(\"Mean absolute error on training data --> {}\\nMean absolute error on test data --> {}\".format(mae(y_train, knrtrain), mae(y_test, knrtest)))\n",
    "\n",
    "r1_sk = metrics.r2_score(y_train, knrtrain)\n",
    "r2_sk = metrics.r2_score(y_test, knrtest)\n",
    "print(\"R-Squared:\", r1_sk)\n"
   ]
  },
  {
   "cell_type": "code",
   "execution_count": 155,
   "metadata": {},
   "outputs": [
    {
     "name": "stdout",
     "output_type": "stream",
     "text": [
      "[85.3]\n"
     ]
    }
   ],
   "source": [
    "nexthour = X_test[5].reshape(1,-1)\n",
    "nexthour_humidity = knrn.predict(nexthour)\n",
    "print(nexthour_humidity)"
   ]
  },
  {
   "cell_type": "markdown",
   "metadata": {
    "id": "e9ekCYENARdr"
   },
   "source": [
    "## SVM linera SVR"
   ]
  },
  {
   "cell_type": "code",
   "execution_count": 156,
   "metadata": {
    "id": "WC2KdRWR-TSU"
   },
   "outputs": [],
   "source": [
    "from sklearn.svm import LinearSVR as svm\n",
    "from sklearn.pipeline import make_pipeline as mp\n",
    "from sklearn.preprocessing import StandardScaler\n",
    "regr = mp(StandardScaler(), svm(random_state=0, tol=1e-5))\n",
    "svmn = regr.fit(X_train, y_train)"
   ]
  },
  {
   "cell_type": "code",
   "execution_count": 157,
   "metadata": {
    "id": "LMyd1YylA5w6"
   },
   "outputs": [],
   "source": [
    "svmtrain = svmn.predict(X_train)\n",
    "svmtest = svmn.predict(X_test)"
   ]
  },
  {
   "cell_type": "code",
   "execution_count": 158,
   "metadata": {
    "id": "d2g_GfXRA7pd"
   },
   "outputs": [
    {
     "name": "stdout",
     "output_type": "stream",
     "text": [
      "Mean Squared error on training data --> 297.87642904674846\n",
      "Mean Squared error on test data --> 296.7644598521497\n",
      "root Mean Squared error on training data --> 17.259096993955055\n",
      " root Mean Squared error on test data --> 17.226852871379315\n",
      "Mean absolute error on training data --> 14.700419431651559\n",
      "Mean absolute error on test data --> 14.708508914134512\n",
      "R-Squared: 0.4363299663510657\n"
     ]
    }
   ],
   "source": [
    "print(\"Mean Squared error on training data --> {}\\nMean Squared error on test data --> {}\".format(mse(y_train, svmtrain), mse(y_test, svmtest)))\n",
    "\n",
    "print(\"root Mean Squared error on training data --> {}\\n root Mean Squared error on test data --> {}\".format(sqrt(mse(y_train, svmtrain)), sqrt( mse(y_test, svmtest)) ))\n",
    "\n",
    "print(\"Mean absolute error on training data --> {}\\nMean absolute error on test data --> {}\".format(mae(y_train, svmtrain), mae(y_test, svmtest)))\n",
    "\n",
    "r1_sk = metrics.r2_score(y_train, svmtrain)\n",
    "r2_sk = metrics.r2_score(y_test, svmtest)\n",
    "print(\"R-Squared:\", r1_sk)\n"
   ]
  },
  {
   "cell_type": "code",
   "execution_count": 159,
   "metadata": {},
   "outputs": [
    {
     "name": "stdout",
     "output_type": "stream",
     "text": [
      "[95.94487455]\n"
     ]
    }
   ],
   "source": [
    "nexthour = X_test[5].reshape(1,-1)\n",
    "nexthour_humidity = svmn.predict(nexthour)\n",
    "print(nexthour_humidity)"
   ]
  },
  {
   "cell_type": "markdown",
   "metadata": {
    "id": "nGgoGPIlRQt1"
   },
   "source": [
    "## AdaBoostregressor "
   ]
  },
  {
   "cell_type": "code",
   "execution_count": 160,
   "metadata": {
    "id": "Mm-Ms3seB0hm"
   },
   "outputs": [],
   "source": [
    "from sklearn.ensemble import AdaBoostRegressor\n",
    "regr = AdaBoostRegressor(random_state=0, n_estimators=100)\n",
    "regrn = regr.fit(X_train, y_train)"
   ]
  },
  {
   "cell_type": "code",
   "execution_count": 161,
   "metadata": {
    "id": "DO_gbld_TdTK"
   },
   "outputs": [],
   "source": [
    "regrtrain = regrn.predict(X_train)\n",
    "regrtest = regrn.predict(X_test)"
   ]
  },
  {
   "cell_type": "code",
   "execution_count": 162,
   "metadata": {
    "id": "Kb4urHSZTfRZ"
   },
   "outputs": [
    {
     "name": "stdout",
     "output_type": "stream",
     "text": [
      "Mean Squared error on training data --> 200.65383643308544\n",
      "Mean Squared error on test data --> 204.18200472870274\n",
      "root Mean Squared error on training data --> 14.165233370230277\n",
      " root Mean Squared error on test data --> 14.289226876521443\n",
      "Mean absolute error on training data --> 12.013937531786503\n",
      "Mean absolute error on test data --> 12.16308112884326\n",
      "R-Squared: 0.620303777992871\n"
     ]
    }
   ],
   "source": [
    "print(\"Mean Squared error on training data --> {}\\nMean Squared error on test data --> {}\".format(mse(y_train, regrtrain), mse(y_test, regrtest)))\n",
    "\n",
    "print(\"root Mean Squared error on training data --> {}\\n root Mean Squared error on test data --> {}\".format(sqrt(mse(y_train, regrtrain)), sqrt( mse(y_test, regrtest)) ))\n",
    "\n",
    "print(\"Mean absolute error on training data --> {}\\nMean absolute error on test data --> {}\".format(mae(y_train, regrtrain), mae(y_test, regrtest)))\n",
    "\n",
    "r1_sk = metrics.r2_score(y_train, regrtrain)\n",
    "r2_sk = metrics.r2_score(y_test, regrtest)\n",
    "print(\"R-Squared:\", r1_sk)\n"
   ]
  },
  {
   "cell_type": "code",
   "execution_count": 163,
   "metadata": {
    "id": "et7P_dTTTcNH"
   },
   "outputs": [
    {
     "name": "stdout",
     "output_type": "stream",
     "text": [
      "[75.60063923]\n"
     ]
    }
   ],
   "source": [
    "nexthour = X_test[5].reshape(1,-1)\n",
    "nexthour_humidity = regrn.predict(nexthour)\n",
    "print(nexthour_humidity)"
   ]
  },
  {
   "cell_type": "code",
   "execution_count": null,
   "metadata": {},
   "outputs": [],
   "source": []
  }
 ],
 "metadata": {
  "accelerator": "GPU",
  "colab": {
   "collapsed_sections": [],
   "provenance": []
  },
  "kernelspec": {
   "display_name": "Python 3 (ipykernel)",
   "language": "python",
   "name": "python3"
  },
  "language_info": {
   "codemirror_mode": {
    "name": "ipython",
    "version": 3
   },
   "file_extension": ".py",
   "mimetype": "text/x-python",
   "name": "python",
   "nbconvert_exporter": "python",
   "pygments_lexer": "ipython3",
   "version": "3.9.12"
  }
 },
 "nbformat": 4,
 "nbformat_minor": 1
}
