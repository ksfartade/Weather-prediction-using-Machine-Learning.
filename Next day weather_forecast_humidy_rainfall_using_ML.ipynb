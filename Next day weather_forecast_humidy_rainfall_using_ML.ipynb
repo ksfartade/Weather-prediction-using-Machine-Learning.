{
 "cells": [
  {
   "cell_type": "markdown",
   "metadata": {
    "id": "kWdWCFYeL1mO"
   },
   "source": [
    "# **Weather parameters forecasting using Machine Learning models, Temperature**"
   ]
  },
  {
   "cell_type": "markdown",
   "metadata": {
    "id": "BDhwXq4xA_3i"
   },
   "source": [
    "# **1. Getting the Dataset**"
   ]
  },
  {
   "cell_type": "code",
   "execution_count": 1,
   "metadata": {
    "id": "l1ljZwkrZZr_"
   },
   "outputs": [
    {
     "data": {
      "text/html": [
       "<div>\n",
       "<style scoped>\n",
       "    .dataframe tbody tr th:only-of-type {\n",
       "        vertical-align: middle;\n",
       "    }\n",
       "\n",
       "    .dataframe tbody tr th {\n",
       "        vertical-align: top;\n",
       "    }\n",
       "\n",
       "    .dataframe thead th {\n",
       "        text-align: right;\n",
       "    }\n",
       "</style>\n",
       "<table border=\"1\" class=\"dataframe\">\n",
       "  <thead>\n",
       "    <tr style=\"text-align: right;\">\n",
       "      <th></th>\n",
       "      <th>Date/time</th>\n",
       "      <th>Airtemp min</th>\n",
       "      <th>Airtemp max</th>\n",
       "      <th>Airtemp mean</th>\n",
       "      <th>Rel.Hum min</th>\n",
       "      <th>Rel.Hum max</th>\n",
       "      <th>Rel.Hum mean</th>\n",
       "      <th>Day length durati</th>\n",
       "      <th>LeafWetness durati</th>\n",
       "      <th>Rain</th>\n",
       "    </tr>\n",
       "  </thead>\n",
       "  <tbody>\n",
       "    <tr>\n",
       "      <th>0</th>\n",
       "      <td>2007-01-01</td>\n",
       "      <td>9.2</td>\n",
       "      <td>30.0</td>\n",
       "      <td>18.3</td>\n",
       "      <td>37.0</td>\n",
       "      <td>100</td>\n",
       "      <td>76.0</td>\n",
       "      <td>34800.0</td>\n",
       "      <td>0.0</td>\n",
       "      <td>0.0</td>\n",
       "    </tr>\n",
       "    <tr>\n",
       "      <th>1</th>\n",
       "      <td>2007-01-02</td>\n",
       "      <td>8.2</td>\n",
       "      <td>31.1</td>\n",
       "      <td>17.9</td>\n",
       "      <td>34.0</td>\n",
       "      <td>100</td>\n",
       "      <td>75.0</td>\n",
       "      <td>35100.0</td>\n",
       "      <td>0.0</td>\n",
       "      <td>0.0</td>\n",
       "    </tr>\n",
       "    <tr>\n",
       "      <th>2</th>\n",
       "      <td>2007-01-03</td>\n",
       "      <td>8.0</td>\n",
       "      <td>31.0</td>\n",
       "      <td>18.0</td>\n",
       "      <td>38.0</td>\n",
       "      <td>100</td>\n",
       "      <td>77.0</td>\n",
       "      <td>34800.0</td>\n",
       "      <td>0.0</td>\n",
       "      <td>0.0</td>\n",
       "    </tr>\n",
       "    <tr>\n",
       "      <th>3</th>\n",
       "      <td>2007-01-04</td>\n",
       "      <td>8.9</td>\n",
       "      <td>31.5</td>\n",
       "      <td>18.7</td>\n",
       "      <td>37.0</td>\n",
       "      <td>100</td>\n",
       "      <td>77.0</td>\n",
       "      <td>35400.0</td>\n",
       "      <td>0.0</td>\n",
       "      <td>0.0</td>\n",
       "    </tr>\n",
       "    <tr>\n",
       "      <th>4</th>\n",
       "      <td>2007-01-05</td>\n",
       "      <td>9.8</td>\n",
       "      <td>30.7</td>\n",
       "      <td>19.0</td>\n",
       "      <td>37.0</td>\n",
       "      <td>100</td>\n",
       "      <td>75.0</td>\n",
       "      <td>35400.0</td>\n",
       "      <td>0.0</td>\n",
       "      <td>0.0</td>\n",
       "    </tr>\n",
       "    <tr>\n",
       "      <th>5</th>\n",
       "      <td>2007-01-06</td>\n",
       "      <td>10.1</td>\n",
       "      <td>30.2</td>\n",
       "      <td>18.6</td>\n",
       "      <td>37.0</td>\n",
       "      <td>100</td>\n",
       "      <td>75.0</td>\n",
       "      <td>34500.0</td>\n",
       "      <td>0.0</td>\n",
       "      <td>0.0</td>\n",
       "    </tr>\n",
       "    <tr>\n",
       "      <th>6</th>\n",
       "      <td>2007-01-07</td>\n",
       "      <td>8.6</td>\n",
       "      <td>29.6</td>\n",
       "      <td>18.0</td>\n",
       "      <td>42.0</td>\n",
       "      <td>100</td>\n",
       "      <td>79.0</td>\n",
       "      <td>31500.0</td>\n",
       "      <td>0.0</td>\n",
       "      <td>0.0</td>\n",
       "    </tr>\n",
       "    <tr>\n",
       "      <th>7</th>\n",
       "      <td>2007-01-08</td>\n",
       "      <td>9.3</td>\n",
       "      <td>29.4</td>\n",
       "      <td>18.2</td>\n",
       "      <td>46.0</td>\n",
       "      <td>100</td>\n",
       "      <td>80.0</td>\n",
       "      <td>26100.0</td>\n",
       "      <td>0.0</td>\n",
       "      <td>0.0</td>\n",
       "    </tr>\n",
       "    <tr>\n",
       "      <th>8</th>\n",
       "      <td>2007-01-09</td>\n",
       "      <td>8.8</td>\n",
       "      <td>30.9</td>\n",
       "      <td>18.6</td>\n",
       "      <td>39.0</td>\n",
       "      <td>100</td>\n",
       "      <td>77.0</td>\n",
       "      <td>22800.0</td>\n",
       "      <td>0.0</td>\n",
       "      <td>0.0</td>\n",
       "    </tr>\n",
       "    <tr>\n",
       "      <th>9</th>\n",
       "      <td>2007-01-10</td>\n",
       "      <td>8.5</td>\n",
       "      <td>31.3</td>\n",
       "      <td>18.4</td>\n",
       "      <td>39.0</td>\n",
       "      <td>100</td>\n",
       "      <td>78.0</td>\n",
       "      <td>22500.0</td>\n",
       "      <td>0.0</td>\n",
       "      <td>0.0</td>\n",
       "    </tr>\n",
       "    <tr>\n",
       "      <th>10</th>\n",
       "      <td>2007-01-11</td>\n",
       "      <td>9.4</td>\n",
       "      <td>30.0</td>\n",
       "      <td>18.7</td>\n",
       "      <td>42.0</td>\n",
       "      <td>100</td>\n",
       "      <td>79.0</td>\n",
       "      <td>27900.0</td>\n",
       "      <td>0.0</td>\n",
       "      <td>0.0</td>\n",
       "    </tr>\n",
       "    <tr>\n",
       "      <th>11</th>\n",
       "      <td>2007-01-12</td>\n",
       "      <td>9.6</td>\n",
       "      <td>32.2</td>\n",
       "      <td>19.4</td>\n",
       "      <td>35.0</td>\n",
       "      <td>100</td>\n",
       "      <td>76.0</td>\n",
       "      <td>35400.0</td>\n",
       "      <td>0.0</td>\n",
       "      <td>0.0</td>\n",
       "    </tr>\n",
       "    <tr>\n",
       "      <th>12</th>\n",
       "      <td>2007-01-13</td>\n",
       "      <td>9.9</td>\n",
       "      <td>31.6</td>\n",
       "      <td>19.6</td>\n",
       "      <td>40.0</td>\n",
       "      <td>100</td>\n",
       "      <td>76.0</td>\n",
       "      <td>35400.0</td>\n",
       "      <td>0.0</td>\n",
       "      <td>0.0</td>\n",
       "    </tr>\n",
       "    <tr>\n",
       "      <th>13</th>\n",
       "      <td>2007-01-14</td>\n",
       "      <td>9.4</td>\n",
       "      <td>32.5</td>\n",
       "      <td>19.6</td>\n",
       "      <td>38.0</td>\n",
       "      <td>100</td>\n",
       "      <td>77.0</td>\n",
       "      <td>35700.0</td>\n",
       "      <td>0.0</td>\n",
       "      <td>0.0</td>\n",
       "    </tr>\n",
       "    <tr>\n",
       "      <th>14</th>\n",
       "      <td>2007-01-15</td>\n",
       "      <td>9.9</td>\n",
       "      <td>33.4</td>\n",
       "      <td>20.2</td>\n",
       "      <td>34.0</td>\n",
       "      <td>100</td>\n",
       "      <td>73.0</td>\n",
       "      <td>35700.0</td>\n",
       "      <td>0.0</td>\n",
       "      <td>0.0</td>\n",
       "    </tr>\n",
       "  </tbody>\n",
       "</table>\n",
       "</div>"
      ],
      "text/plain": [
       "    Date/time  Airtemp min  Airtemp max  Airtemp mean  Rel.Hum min  \\\n",
       "0  2007-01-01          9.2         30.0          18.3         37.0   \n",
       "1  2007-01-02          8.2         31.1          17.9         34.0   \n",
       "2  2007-01-03          8.0         31.0          18.0         38.0   \n",
       "3  2007-01-04          8.9         31.5          18.7         37.0   \n",
       "4  2007-01-05          9.8         30.7          19.0         37.0   \n",
       "5  2007-01-06         10.1         30.2          18.6         37.0   \n",
       "6  2007-01-07          8.6         29.6          18.0         42.0   \n",
       "7  2007-01-08          9.3         29.4          18.2         46.0   \n",
       "8  2007-01-09          8.8         30.9          18.6         39.0   \n",
       "9  2007-01-10          8.5         31.3          18.4         39.0   \n",
       "10 2007-01-11          9.4         30.0          18.7         42.0   \n",
       "11 2007-01-12          9.6         32.2          19.4         35.0   \n",
       "12 2007-01-13          9.9         31.6          19.6         40.0   \n",
       "13 2007-01-14          9.4         32.5          19.6         38.0   \n",
       "14 2007-01-15          9.9         33.4          20.2         34.0   \n",
       "\n",
       "    Rel.Hum max  Rel.Hum mean  Day length durati  LeafWetness durati  Rain  \n",
       "0           100          76.0            34800.0                 0.0   0.0  \n",
       "1           100          75.0            35100.0                 0.0   0.0  \n",
       "2           100          77.0            34800.0                 0.0   0.0  \n",
       "3           100          77.0            35400.0                 0.0   0.0  \n",
       "4           100          75.0            35400.0                 0.0   0.0  \n",
       "5           100          75.0            34500.0                 0.0   0.0  \n",
       "6           100          79.0            31500.0                 0.0   0.0  \n",
       "7           100          80.0            26100.0                 0.0   0.0  \n",
       "8           100          77.0            22800.0                 0.0   0.0  \n",
       "9           100          78.0            22500.0                 0.0   0.0  \n",
       "10          100          79.0            27900.0                 0.0   0.0  \n",
       "11          100          76.0            35400.0                 0.0   0.0  \n",
       "12          100          76.0            35400.0                 0.0   0.0  \n",
       "13          100          77.0            35700.0                 0.0   0.0  \n",
       "14          100          73.0            35700.0                 0.0   0.0  "
      ]
     },
     "execution_count": 1,
     "metadata": {},
     "output_type": "execute_result"
    }
   ],
   "source": [
    "import numpy as np\n",
    "import pandas as pd\n",
    "import seaborn as sns\n",
    "import matplotlib.pyplot as plt\n",
    "import math\n",
    "weather_data= pd.DataFrame(pd.read_excel(\"perdaydata.xlsx\"))\n",
    "weather_data.head(15)"
   ]
  },
  {
   "cell_type": "markdown",
   "metadata": {
    "id": "6KHC_UiLBVMq"
   },
   "source": [
    "# **2. Plotting the Graphs**"
   ]
  },
  {
   "cell_type": "code",
   "execution_count": 2,
   "metadata": {
    "id": "D-iy04uJ3RGZ"
   },
   "outputs": [
    {
     "data": {
      "text/plain": [
       "<AxesSubplot:ylabel='Frequency'>"
      ]
     },
     "execution_count": 2,
     "metadata": {},
     "output_type": "execute_result"
    },
    {
     "data": {
      "image/png": "[encoded data removed]",
      "text/plain": [
       "<Figure size 432x288 with 1 Axes>"
      ]
     },
     "metadata": {
      "needs_background": "light"
     },
     "output_type": "display_data"
    }
   ],
   "source": [
    "weather_data[\"Rel.Hum mean\"].plot.hist()"
   ]
  },
  {
   "cell_type": "code",
   "execution_count": 3,
   "metadata": {
    "id": "8Tsr-prz2o1a"
   },
   "outputs": [
    {
     "data": {
      "text/plain": [
       "<AxesSubplot:ylabel='Frequency'>"
      ]
     },
     "execution_count": 3,
     "metadata": {},
     "output_type": "execute_result"
    },
    {
     "data": {
      "image/png": "[encoded data removed]",
      "text/plain": [
       "<Figure size 432x288 with 1 Axes>"
      ]
     },
     "metadata": {
      "needs_background": "light"
     },
     "output_type": "display_data"
    }
   ],
   "source": [
    "weather_data[\"Airtemp max\"].plot.hist()"
   ]
  },
  {
   "cell_type": "code",
   "execution_count": 4,
   "metadata": {
    "id": "aF8JqqNVoB7I"
   },
   "outputs": [
    {
     "data": {
      "text/plain": [
       "<AxesSubplot:ylabel='Frequency'>"
      ]
     },
     "execution_count": 4,
     "metadata": {},
     "output_type": "execute_result"
    },
    {
     "data": {
      "image/png": "[encoded data removed]",
      "text/plain": [
       "<Figure size 432x288 with 1 Axes>"
      ]
     },
     "metadata": {
      "needs_background": "light"
     },
     "output_type": "display_data"
    }
   ],
   "source": [
    "weather_data[\"Rel.Hum min\"].plot.hist()"
   ]
  },
  {
   "cell_type": "markdown",
   "metadata": {
    "id": "JPC8_IG3BtBy"
   },
   "source": [
    "# **3. Finding the Null values**"
   ]
  },
  {
   "cell_type": "code",
   "execution_count": 5,
   "metadata": {
    "id": "NxYqXYWxff2X"
   },
   "outputs": [
    {
     "data": {
      "text/html": [
       "<div>\n",
       "<style scoped>\n",
       "    .dataframe tbody tr th:only-of-type {\n",
       "        vertical-align: middle;\n",
       "    }\n",
       "\n",
       "    .dataframe tbody tr th {\n",
       "        vertical-align: top;\n",
       "    }\n",
       "\n",
       "    .dataframe thead th {\n",
       "        text-align: right;\n",
       "    }\n",
       "</style>\n",
       "<table border=\"1\" class=\"dataframe\">\n",
       "  <thead>\n",
       "    <tr style=\"text-align: right;\">\n",
       "      <th></th>\n",
       "      <th>Date/time</th>\n",
       "      <th>Airtemp min</th>\n",
       "      <th>Airtemp max</th>\n",
       "      <th>Airtemp mean</th>\n",
       "      <th>Rel.Hum min</th>\n",
       "      <th>Rel.Hum max</th>\n",
       "      <th>Rel.Hum mean</th>\n",
       "      <th>Day length durati</th>\n",
       "      <th>LeafWetness durati</th>\n",
       "      <th>Rain</th>\n",
       "    </tr>\n",
       "  </thead>\n",
       "  <tbody>\n",
       "    <tr>\n",
       "      <th>0</th>\n",
       "      <td>False</td>\n",
       "      <td>False</td>\n",
       "      <td>False</td>\n",
       "      <td>False</td>\n",
       "      <td>False</td>\n",
       "      <td>False</td>\n",
       "      <td>False</td>\n",
       "      <td>False</td>\n",
       "      <td>False</td>\n",
       "      <td>False</td>\n",
       "    </tr>\n",
       "    <tr>\n",
       "      <th>1</th>\n",
       "      <td>False</td>\n",
       "      <td>False</td>\n",
       "      <td>False</td>\n",
       "      <td>False</td>\n",
       "      <td>False</td>\n",
       "      <td>False</td>\n",
       "      <td>False</td>\n",
       "      <td>False</td>\n",
       "      <td>False</td>\n",
       "      <td>False</td>\n",
       "    </tr>\n",
       "    <tr>\n",
       "      <th>2</th>\n",
       "      <td>False</td>\n",
       "      <td>False</td>\n",
       "      <td>False</td>\n",
       "      <td>False</td>\n",
       "      <td>False</td>\n",
       "      <td>False</td>\n",
       "      <td>False</td>\n",
       "      <td>False</td>\n",
       "      <td>False</td>\n",
       "      <td>False</td>\n",
       "    </tr>\n",
       "    <tr>\n",
       "      <th>3</th>\n",
       "      <td>False</td>\n",
       "      <td>False</td>\n",
       "      <td>False</td>\n",
       "      <td>False</td>\n",
       "      <td>False</td>\n",
       "      <td>False</td>\n",
       "      <td>False</td>\n",
       "      <td>False</td>\n",
       "      <td>False</td>\n",
       "      <td>False</td>\n",
       "    </tr>\n",
       "    <tr>\n",
       "      <th>4</th>\n",
       "      <td>False</td>\n",
       "      <td>False</td>\n",
       "      <td>False</td>\n",
       "      <td>False</td>\n",
       "      <td>False</td>\n",
       "      <td>False</td>\n",
       "      <td>False</td>\n",
       "      <td>False</td>\n",
       "      <td>False</td>\n",
       "      <td>False</td>\n",
       "    </tr>\n",
       "    <tr>\n",
       "      <th>...</th>\n",
       "      <td>...</td>\n",
       "      <td>...</td>\n",
       "      <td>...</td>\n",
       "      <td>...</td>\n",
       "      <td>...</td>\n",
       "      <td>...</td>\n",
       "      <td>...</td>\n",
       "      <td>...</td>\n",
       "      <td>...</td>\n",
       "      <td>...</td>\n",
       "    </tr>\n",
       "    <tr>\n",
       "      <th>2187</th>\n",
       "      <td>False</td>\n",
       "      <td>False</td>\n",
       "      <td>False</td>\n",
       "      <td>False</td>\n",
       "      <td>False</td>\n",
       "      <td>False</td>\n",
       "      <td>False</td>\n",
       "      <td>False</td>\n",
       "      <td>False</td>\n",
       "      <td>False</td>\n",
       "    </tr>\n",
       "    <tr>\n",
       "      <th>2188</th>\n",
       "      <td>False</td>\n",
       "      <td>False</td>\n",
       "      <td>False</td>\n",
       "      <td>False</td>\n",
       "      <td>False</td>\n",
       "      <td>False</td>\n",
       "      <td>False</td>\n",
       "      <td>False</td>\n",
       "      <td>False</td>\n",
       "      <td>False</td>\n",
       "    </tr>\n",
       "    <tr>\n",
       "      <th>2189</th>\n",
       "      <td>False</td>\n",
       "      <td>False</td>\n",
       "      <td>False</td>\n",
       "      <td>False</td>\n",
       "      <td>False</td>\n",
       "      <td>False</td>\n",
       "      <td>False</td>\n",
       "      <td>False</td>\n",
       "      <td>False</td>\n",
       "      <td>False</td>\n",
       "    </tr>\n",
       "    <tr>\n",
       "      <th>2190</th>\n",
       "      <td>False</td>\n",
       "      <td>False</td>\n",
       "      <td>False</td>\n",
       "      <td>False</td>\n",
       "      <td>False</td>\n",
       "      <td>False</td>\n",
       "      <td>False</td>\n",
       "      <td>False</td>\n",
       "      <td>False</td>\n",
       "      <td>False</td>\n",
       "    </tr>\n",
       "    <tr>\n",
       "      <th>2191</th>\n",
       "      <td>False</td>\n",
       "      <td>False</td>\n",
       "      <td>False</td>\n",
       "      <td>False</td>\n",
       "      <td>False</td>\n",
       "      <td>False</td>\n",
       "      <td>False</td>\n",
       "      <td>False</td>\n",
       "      <td>False</td>\n",
       "      <td>False</td>\n",
       "    </tr>\n",
       "  </tbody>\n",
       "</table>\n",
       "<p>2192 rows × 10 columns</p>\n",
       "</div>"
      ],
      "text/plain": [
       "      Date/time  Airtemp min  Airtemp max  Airtemp mean  Rel.Hum min  \\\n",
       "0         False        False        False         False        False   \n",
       "1         False        False        False         False        False   \n",
       "2         False        False        False         False        False   \n",
       "3         False        False        False         False        False   \n",
       "4         False        False        False         False        False   \n",
       "...         ...          ...          ...           ...          ...   \n",
       "2187      False        False        False         False        False   \n",
       "2188      False        False        False         False        False   \n",
       "2189      False        False        False         False        False   \n",
       "2190      False        False        False         False        False   \n",
       "2191      False        False        False         False        False   \n",
       "\n",
       "      Rel.Hum max  Rel.Hum mean  Day length durati  LeafWetness durati   Rain  \n",
       "0           False         False              False               False  False  \n",
       "1           False         False              False               False  False  \n",
       "2           False         False              False               False  False  \n",
       "3           False         False              False               False  False  \n",
       "4           False         False              False               False  False  \n",
       "...           ...           ...                ...                 ...    ...  \n",
       "2187        False         False              False               False  False  \n",
       "2188        False         False              False               False  False  \n",
       "2189        False         False              False               False  False  \n",
       "2190        False         False              False               False  False  \n",
       "2191        False         False              False               False  False  \n",
       "\n",
       "[2192 rows x 10 columns]"
      ]
     },
     "execution_count": 5,
     "metadata": {},
     "output_type": "execute_result"
    }
   ],
   "source": [
    "weather_data.isnull()"
   ]
  },
  {
   "cell_type": "code",
   "execution_count": 6,
   "metadata": {
    "id": "5pJtumqWfmRt"
   },
   "outputs": [
    {
     "data": {
      "text/plain": [
       "Date/time             0\n",
       "Airtemp min           0\n",
       "Airtemp max           0\n",
       "Airtemp mean          0\n",
       "Rel.Hum min           0\n",
       "Rel.Hum max           0\n",
       "Rel.Hum mean          0\n",
       "Day length durati     0\n",
       "LeafWetness durati    0\n",
       "Rain                  0\n",
       "dtype: int64"
      ]
     },
     "execution_count": 6,
     "metadata": {},
     "output_type": "execute_result"
    }
   ],
   "source": [
    "weather_data.isnull().sum()"
   ]
  },
  {
   "cell_type": "markdown",
   "metadata": {
    "id": "cePZ8_u6CHWT"
   },
   "source": [
    "# **5. Droping the values**"
   ]
  },
  {
   "cell_type": "code",
   "execution_count": 7,
   "metadata": {
    "id": "oHsS81oOtLM7"
   },
   "outputs": [
    {
     "data": {
      "text/html": [
       "<div>\n",
       "<style scoped>\n",
       "    .dataframe tbody tr th:only-of-type {\n",
       "        vertical-align: middle;\n",
       "    }\n",
       "\n",
       "    .dataframe tbody tr th {\n",
       "        vertical-align: top;\n",
       "    }\n",
       "\n",
       "    .dataframe thead th {\n",
       "        text-align: right;\n",
       "    }\n",
       "</style>\n",
       "<table border=\"1\" class=\"dataframe\">\n",
       "  <thead>\n",
       "    <tr style=\"text-align: right;\">\n",
       "      <th></th>\n",
       "      <th>Airtemp min</th>\n",
       "      <th>Airtemp max</th>\n",
       "      <th>Airtemp mean</th>\n",
       "      <th>Rel.Hum min</th>\n",
       "      <th>Rel.Hum max</th>\n",
       "      <th>Rel.Hum mean</th>\n",
       "      <th>Day length durati</th>\n",
       "      <th>LeafWetness durati</th>\n",
       "      <th>Rain</th>\n",
       "    </tr>\n",
       "  </thead>\n",
       "  <tbody>\n",
       "    <tr>\n",
       "      <th>0</th>\n",
       "      <td>9.2</td>\n",
       "      <td>30.0</td>\n",
       "      <td>18.3</td>\n",
       "      <td>37.0</td>\n",
       "      <td>100</td>\n",
       "      <td>76.0</td>\n",
       "      <td>34800.0</td>\n",
       "      <td>0.0</td>\n",
       "      <td>0.0</td>\n",
       "    </tr>\n",
       "    <tr>\n",
       "      <th>1</th>\n",
       "      <td>8.2</td>\n",
       "      <td>31.1</td>\n",
       "      <td>17.9</td>\n",
       "      <td>34.0</td>\n",
       "      <td>100</td>\n",
       "      <td>75.0</td>\n",
       "      <td>35100.0</td>\n",
       "      <td>0.0</td>\n",
       "      <td>0.0</td>\n",
       "    </tr>\n",
       "    <tr>\n",
       "      <th>2</th>\n",
       "      <td>8.0</td>\n",
       "      <td>31.0</td>\n",
       "      <td>18.0</td>\n",
       "      <td>38.0</td>\n",
       "      <td>100</td>\n",
       "      <td>77.0</td>\n",
       "      <td>34800.0</td>\n",
       "      <td>0.0</td>\n",
       "      <td>0.0</td>\n",
       "    </tr>\n",
       "    <tr>\n",
       "      <th>3</th>\n",
       "      <td>8.9</td>\n",
       "      <td>31.5</td>\n",
       "      <td>18.7</td>\n",
       "      <td>37.0</td>\n",
       "      <td>100</td>\n",
       "      <td>77.0</td>\n",
       "      <td>35400.0</td>\n",
       "      <td>0.0</td>\n",
       "      <td>0.0</td>\n",
       "    </tr>\n",
       "    <tr>\n",
       "      <th>4</th>\n",
       "      <td>9.8</td>\n",
       "      <td>30.7</td>\n",
       "      <td>19.0</td>\n",
       "      <td>37.0</td>\n",
       "      <td>100</td>\n",
       "      <td>75.0</td>\n",
       "      <td>35400.0</td>\n",
       "      <td>0.0</td>\n",
       "      <td>0.0</td>\n",
       "    </tr>\n",
       "  </tbody>\n",
       "</table>\n",
       "</div>"
      ],
      "text/plain": [
       "   Airtemp min  Airtemp max  Airtemp mean  Rel.Hum min  Rel.Hum max  \\\n",
       "0          9.2         30.0          18.3         37.0          100   \n",
       "1          8.2         31.1          17.9         34.0          100   \n",
       "2          8.0         31.0          18.0         38.0          100   \n",
       "3          8.9         31.5          18.7         37.0          100   \n",
       "4          9.8         30.7          19.0         37.0          100   \n",
       "\n",
       "   Rel.Hum mean  Day length durati  LeafWetness durati  Rain  \n",
       "0          76.0            34800.0                 0.0   0.0  \n",
       "1          75.0            35100.0                 0.0   0.0  \n",
       "2          77.0            34800.0                 0.0   0.0  \n",
       "3          77.0            35400.0                 0.0   0.0  \n",
       "4          75.0            35400.0                 0.0   0.0  "
      ]
     },
     "execution_count": 7,
     "metadata": {},
     "output_type": "execute_result"
    }
   ],
   "source": [
    "weather_data.drop(\"Date/time\", axis=1, inplace=True)\n",
    "weather_data.head()"
   ]
  },
  {
   "cell_type": "code",
   "execution_count": 8,
   "metadata": {
    "id": "Rd6vBdka5KdE"
   },
   "outputs": [
    {
     "data": {
      "text/plain": [
       "array([76., 75., 77., ..., 70., 77., 79.])"
      ]
     },
     "execution_count": 8,
     "metadata": {},
     "output_type": "execute_result"
    }
   ],
   "source": [
    "X=weather_data.drop(\"Rel.Hum mean\",axis=1)\n",
    "y=weather_data[\"Rel.Hum mean\"].values\n",
    "y"
   ]
  },
  {
   "cell_type": "code",
   "execution_count": 9,
   "metadata": {},
   "outputs": [
    {
     "data": {
      "text/plain": [
       "array([76., 75., 77., ..., 70., 77., 79.])"
      ]
     },
     "execution_count": 9,
     "metadata": {},
     "output_type": "execute_result"
    }
   ],
   "source": [
    "y"
   ]
  },
  {
   "cell_type": "markdown",
   "metadata": {
    "id": "4AWVIkoZDSmD"
   },
   "source": [
    "# **7. Train and Test**"
   ]
  },
  {
   "cell_type": "code",
   "execution_count": 10,
   "metadata": {
    "id": "w_T64Ttf6OMu"
   },
   "outputs": [],
   "source": [
    "from sklearn.model_selection import train_test_split\n",
    "X_train, X_test, y_train, y_test= train_test_split(X,y,test_size=0.1,random_state=15)"
   ]
  },
  {
   "cell_type": "code",
   "execution_count": 11,
   "metadata": {},
   "outputs": [],
   "source": [
    "from sklearn.preprocessing import MinMaxScaler\n",
    "scaler = MinMaxScaler()\n",
    "X_train = scaler.fit_transform(X_train)\n",
    "X_test = scaler.transform(X_test)"
   ]
  },
  {
   "cell_type": "markdown",
   "metadata": {
    "id": "k1qxis_sXZCC"
   },
   "source": [
    "## // Decision tree and adaboost regressor"
   ]
  },
  {
   "cell_type": "code",
   "execution_count": 12,
   "metadata": {
    "id": "BCgR8xuvXilZ"
   },
   "outputs": [],
   "source": [
    "from sklearn.ensemble import AdaBoostRegressor\n",
    "from sklearn.tree import DecisionTreeRegressor\n",
    "rng = np.random.RandomState(1)   # number of methods for generating random numbers \n",
    "regr_1 = DecisionTreeRegressor(max_depth=4)   # maximum depth of the tree\n",
    "\n",
    "# 299 boosts (300 decision trees) is compared with a single decision tree regressor. As the number of boosts is increased the regressor can fit more detail\n",
    "regr_2 = AdaBoostRegressor(\n",
    "    DecisionTreeRegressor(max_depth=4), n_estimators=300, random_state=rng\n",
    ")\n",
    "\n",
    "regr_1.fit(X_train, y_train)\n",
    "regr_2.fit(X_train, y_train)\n",
    "\n",
    "y_1d = regr_1.predict(X_train)\n",
    "y_2d = regr_1.predict(X_test)\n",
    "\n",
    "y_1ad = regr_1.predict(X_train)\n",
    "y_2ad = regr_2.predict(X_test)"
   ]
  },
  {
   "cell_type": "code",
   "execution_count": 13,
   "metadata": {
    "id": "wEl6zKCTbaO-"
   },
   "outputs": [],
   "source": [
    "from sklearn.metrics import mean_squared_error as mse"
   ]
  },
  {
   "cell_type": "code",
   "execution_count": 14,
   "metadata": {
    "id": "x-wg80FaczPf"
   },
   "outputs": [
    {
     "name": "stdout",
     "output_type": "stream",
     "text": [
      "Mean Squared error on training data --> 13.091330657139244\n",
      "Mean Squared error on test data --> 14.290180642387602\n",
      "root Mean Squared error on training data --> 3.61819439183956\n",
      " root Mean Squared error on test data --> 3.7802355273696375\n",
      "Mean absolute error on training data --> 2.815656188875128\n",
      "Mean absolute error on test data --> 2.9289141615056318\n",
      "R-Squared: 0.9566862421084449\n"
     ]
    }
   ],
   "source": [
    "print(\"Mean Squared error on training data --> {}\\nMean Squared error on test data --> {}\".format(mse(y_train, y_1d), mse(y_test, y_2d)))\n",
    "\n",
    "from math import sqrt\n",
    "print(\"root Mean Squared error on training data --> {}\\n root Mean Squared error on test data --> {}\".format(sqrt(mse(y_train, y_1d)), sqrt( mse(y_test, y_2d)) ))\n",
    "\n",
    "from sklearn.metrics import mean_absolute_error as mae\n",
    "print(\"Mean absolute error on training data --> {}\\nMean absolute error on test data --> {}\".format(mae(y_train, y_1d), mae(y_test, y_2d)))\n",
    "\n",
    "import sklearn.metrics as metrics\n",
    "r1_sk = metrics.r2_score(y_train,y_1d)\n",
    "r2_sk = metrics.r2_score(y_test,y_2d)\n",
    "print(\"R-Squared:\", r1_sk)\n"
   ]
  },
  {
   "cell_type": "code",
   "execution_count": 15,
   "metadata": {},
   "outputs": [
    {
     "name": "stdout",
     "output_type": "stream",
     "text": [
      "Mean Squared error on training data --> 13.091330657139244\n",
      "Mean Squared error on test data --> 8.583271218832033\n",
      "root Mean Squared error on training data --> 3.61819439183956\n",
      " root Mean Squared error on test data --> 2.9297220378104187\n",
      "Mean absolute error on training data --> 2.815656188875128\n",
      "Mean absolute error on test data --> 2.3856113091761797\n",
      "R-Squared: 0.9566862421084449\n"
     ]
    }
   ],
   "source": [
    "print(\"Mean Squared error on training data --> {}\\nMean Squared error on test data --> {}\".format(mse(y_train, y_1ad), mse(y_test, y_2ad)))\n",
    "\n",
    "print(\"root Mean Squared error on training data --> {}\\n root Mean Squared error on test data --> {}\".format(sqrt(mse(y_train, y_1ad)), sqrt( mse(y_test, y_2ad))))  \n",
    "                                                                                                            \n",
    "print(\"Mean absolute error on training data --> {}\\nMean absolute error on test data --> {}\".format(mae(y_train, y_1ad), mae(y_test, y_2ad)))\n",
    "                                                                                            \n",
    "r1_skmax = metrics.r2_score(y_train,y_1ad)\n",
    "r2_skmax = metrics.r2_score(y_test,y_2ad)\n",
    "print(\"R-Squared:\", r1_skmax)"
   ]
  },
  {
   "cell_type": "markdown",
   "metadata": {
    "id": "KWURXs8MbetZ"
   },
   "source": [
    "## using linear regression"
   ]
  },
  {
   "cell_type": "code",
   "execution_count": 16,
   "metadata": {
    "id": "nGkZJB90ECM5"
   },
   "outputs": [],
   "source": [
    "from sklearn.linear_model import LinearRegression as lr\n",
    "lrr = lr().fit(X_train,y_train)"
   ]
  },
  {
   "cell_type": "code",
   "execution_count": 17,
   "metadata": {
    "id": "zfA_jN2WECQD"
   },
   "outputs": [],
   "source": [
    "predlrtest = lrr.predict(X_test)\n",
    "predlrtrain = lrr.predict(X_train)"
   ]
  },
  {
   "cell_type": "code",
   "execution_count": 18,
   "metadata": {
    "id": "z7R2eUiQECTW"
   },
   "outputs": [
    {
     "name": "stdout",
     "output_type": "stream",
     "text": [
      "root Mean Squared error on training data --> 2.497462824518582\n",
      " root Mean Squared error on test data --> 2.4128859007650227\n",
      "Mean absolute error on training data --> 1.8790358135266678\n",
      "Mean absolute error on test data --> 1.8893415124496757\n",
      "Mean Squared error on training data --> 6.237320559852333\n",
      "Mean Squared error on test data --> 5.8220183701106345\n",
      "R-Squared: 0.9793633054043951\n"
     ]
    }
   ],
   "source": [
    "print(\"root Mean Squared error on training data --> {}\\n root Mean Squared error on test data --> {}\".format(sqrt(mse(y_train, predlrtrain)), sqrt( mse(y_test, predlrtest)) ))\n",
    "\n",
    "print(\"Mean absolute error on training data --> {}\\nMean absolute error on test data --> {}\".format(mae(y_train, predlrtrain), mae(y_test, predlrtest)))\n",
    "\n",
    "print(\"Mean Squared error on training data --> {}\\nMean Squared error on test data --> {}\".format(mse(y_train, predlrtrain), mse(y_test, predlrtest)))\n",
    "\n",
    "r1_sk = metrics.r2_score(y_train,predlrtrain)\n",
    "r2_sk = metrics.r2_score(y_test,predlrtest)\n",
    "print(\"R-Squared:\", r1_sk)\n"
   ]
  },
  {
   "cell_type": "code",
   "execution_count": 19,
   "metadata": {},
   "outputs": [
    {
     "name": "stdout",
     "output_type": "stream",
     "text": [
      "[73.34437075]\n"
     ]
    }
   ],
   "source": [
    "todaytemp = lrr.predict(X_test[5].reshape(1,-1))\n",
    "print(todaytemp)"
   ]
  },
  {
   "cell_type": "markdown",
   "metadata": {
    "id": "QB81e5rbiDLY"
   },
   "source": [
    "## Ridge regression"
   ]
  },
  {
   "cell_type": "code",
   "execution_count": 20,
   "metadata": {
    "id": "URDZ1ACchrv3"
   },
   "outputs": [
    {
     "data": {
      "text/plain": [
       "Ridge()"
      ]
     },
     "execution_count": 20,
     "metadata": {},
     "output_type": "execute_result"
    }
   ],
   "source": [
    "from sklearn.linear_model import Ridge\n",
    "clf = Ridge(alpha=1.0)\n",
    "clf = clf.fit(X_train, y_train)\n",
    "Ridge()"
   ]
  },
  {
   "cell_type": "code",
   "execution_count": 21,
   "metadata": {
    "id": "CvO2U_LThryQ"
   },
   "outputs": [],
   "source": [
    "clftrain = clf.predict(X_train)\n",
    "clftest = clf.predict(X_test)"
   ]
  },
  {
   "cell_type": "code",
   "execution_count": 22,
   "metadata": {
    "id": "_5sTbnjghr1u"
   },
   "outputs": [
    {
     "name": "stdout",
     "output_type": "stream",
     "text": [
      "Mean Squared error on training data --> 7.1651677408588474\n",
      "Mean Squared error on test data --> 6.950831316493955\n",
      "root Mean Squared error on training data --> 2.676783095594196\n",
      " root Mean Squared error on test data --> 2.6364429287382563\n",
      "Mean absolute error on training data --> 2.0580787745733495\n",
      "Mean absolute error on test data --> 2.134196632307134\n",
      "R-Squared: 0.9762934457231287\n"
     ]
    }
   ],
   "source": [
    "print(\"Mean Squared error on training data --> {}\\nMean Squared error on test data --> {}\".format(mse(y_train, clftrain), mse(y_test, clftest)))\n",
    "\n",
    "print(\"root Mean Squared error on training data --> {}\\n root Mean Squared error on test data --> {}\".format(sqrt(mse(y_train, clftrain)), sqrt( mse(y_test, clftest)) ))\n",
    "\n",
    "\n",
    "print(\"Mean absolute error on training data --> {}\\nMean absolute error on test data --> {}\".format(mae(y_train, clftrain), mae(y_test, clftest)))\n",
    "\n",
    "r1_sk = metrics.r2_score(y_train,clftrain)\n",
    "r2_sk = metrics.r2_score(y_test,clftest)\n",
    "print(\"R-Squared:\", r1_sk)"
   ]
  },
  {
   "cell_type": "code",
   "execution_count": 23,
   "metadata": {},
   "outputs": [
    {
     "name": "stdout",
     "output_type": "stream",
     "text": [
      "[72.04064493]\n"
     ]
    }
   ],
   "source": [
    "today = X_test[10].reshape(1,-1);\n",
    "todaytemp = clf.predict(today)\n",
    "print(todaytemp)"
   ]
  },
  {
   "cell_type": "markdown",
   "metadata": {
    "id": "Z-CbaZ0K2xFR"
   },
   "source": [
    "## MLP regressor"
   ]
  },
  {
   "cell_type": "code",
   "execution_count": 24,
   "metadata": {
    "id": "ZP-oiNNi2v3z"
   },
   "outputs": [],
   "source": [
    "from sklearn.neural_network import MLPRegressor as mlp\n",
    "mlp = mlp(random_state=1, max_iter=2000).fit(X_train, y_train)"
   ]
  },
  {
   "cell_type": "code",
   "execution_count": 25,
   "metadata": {
    "id": "5ge-IwP33LMN"
   },
   "outputs": [],
   "source": [
    "mlptrain = mlp.predict(X_train)\n",
    "mlptest = mlp.predict(X_test)"
   ]
  },
  {
   "cell_type": "code",
   "execution_count": 26,
   "metadata": {
    "id": "s3qVjI2V3gXH"
   },
   "outputs": [
    {
     "name": "stdout",
     "output_type": "stream",
     "text": [
      "Mean Squared error on training data --> 7.1651677408588474\n",
      "Mean Squared error on test data --> 6.950831316493955\n",
      "root Mean Squared error on training data --> 2.676783095594196\n",
      " root Mean Squared error on test data --> 2.6364429287382563\n",
      "Mean absolute error on training data --> 2.0580787745733495\n",
      "Mean absolute error on test data --> 2.134196632307134\n",
      "R-Squared: 0.9852777140448883\n"
     ]
    }
   ],
   "source": [
    "print(\"Mean Squared error on training data --> {}\\nMean Squared error on test data --> {}\".format(mse(y_train, clftrain), mse(y_test, clftest)))\n",
    "\n",
    "print(\"root Mean Squared error on training data --> {}\\n root Mean Squared error on test data --> {}\".format(sqrt(mse(y_train, clftrain)), sqrt( mse(y_test, clftest)) ))\n",
    "\n",
    "print(\"Mean absolute error on training data --> {}\\nMean absolute error on test data --> {}\".format(mae(y_train, clftrain), mae(y_test, clftest)))\n",
    "\n",
    "r1_sk = metrics.r2_score(y_train,mlptrain)\n",
    "r2_sk = metrics.r2_score(y_test,mlptest)\n",
    "print(\"R-Squared:\", r1_sk)\n"
   ]
  },
  {
   "cell_type": "code",
   "execution_count": 27,
   "metadata": {},
   "outputs": [
    {
     "name": "stdout",
     "output_type": "stream",
     "text": [
      "[73.34828201]\n"
     ]
    }
   ],
   "source": [
    "today = X_test[7].reshape(1,-1)\n",
    "todaytemp = mlp.predict(today)\n",
    "print(todaytemp)"
   ]
  },
  {
   "cell_type": "markdown",
   "metadata": {
    "id": "zeaOSQ-R3pXE"
   },
   "source": [
    "## lasso regression"
   ]
  },
  {
   "cell_type": "code",
   "execution_count": 28,
   "metadata": {
    "id": "SH6XmlMW2wDl"
   },
   "outputs": [],
   "source": [
    "from sklearn import linear_model as lm\n",
    "lms = lm.Lasso(alpha=0.1).fit(X_train, y_train)"
   ]
  },
  {
   "cell_type": "code",
   "execution_count": 29,
   "metadata": {
    "id": "t-DVQJrR8oh1"
   },
   "outputs": [],
   "source": [
    "lmstrain = lms.predict(X_train)\n",
    "lmstest = lms.predict(X_test)"
   ]
  },
  {
   "cell_type": "code",
   "execution_count": 30,
   "metadata": {
    "id": "w4yaYE0K82CN"
   },
   "outputs": [
    {
     "name": "stdout",
     "output_type": "stream",
     "text": [
      "Mean Squared error on training data --> 10.797844771430869\n",
      "Mean Squared error on test data --> 11.26918749237906\n",
      "root Mean Squared error on training data --> 3.2860074210857877\n",
      " root Mean Squared error on test data --> 3.356961050173067\n",
      "Mean absolute error on training data --> 2.5619475938460923\n",
      "Mean absolute error on test data --> 2.6832905791200945\n",
      "R-Squared: 0.9642744311919662\n"
     ]
    }
   ],
   "source": [
    "print(\"Mean Squared error on training data --> {}\\nMean Squared error on test data --> {}\".format(mse(y_train, lmstrain), mse(y_test, lmstest)))\n",
    "\n",
    "print(\"root Mean Squared error on training data --> {}\\n root Mean Squared error on test data --> {}\".format(sqrt(mse(y_train, lmstrain)), sqrt( mse(y_test, lmstest)) ))\n",
    "\n",
    "print(\"Mean absolute error on training data --> {}\\nMean absolute error on test data --> {}\".format(mae(y_train, lmstrain), mae(y_test, lmstest)))\n",
    "\n",
    "r1_sk = metrics.r2_score(y_train,lmstrain)\n",
    "r2_sk = metrics.r2_score(y_test,lmstest)\n",
    "print(\"R-Squared:\", r1_sk)\n"
   ]
  },
  {
   "cell_type": "code",
   "execution_count": 31,
   "metadata": {},
   "outputs": [
    {
     "name": "stdout",
     "output_type": "stream",
     "text": [
      "[59.33554957]\n"
     ]
    }
   ],
   "source": [
    "today = X_test[6].reshape(1,-1)\n",
    "todaytemp = lms.predict(today)\n",
    "print(todaytemp)"
   ]
  },
  {
   "cell_type": "markdown",
   "metadata": {
    "id": "a51Xabdi9gIn"
   },
   "source": [
    "## random forest regressor"
   ]
  },
  {
   "cell_type": "code",
   "execution_count": 32,
   "metadata": {
    "id": "aU4y3zb48mek"
   },
   "outputs": [],
   "source": [
    "from sklearn.ensemble import RandomForestRegressor as rfr\n",
    "regr = rfr(max_depth=2, random_state=0)\n",
    "regrn = regr.fit(X_train, y_train)"
   ]
  },
  {
   "cell_type": "code",
   "execution_count": 33,
   "metadata": {
    "id": "8MDvEg-I-WCk"
   },
   "outputs": [],
   "source": [
    "rfrtrain = regrn.predict(X_train)\n",
    "rfrtest = regrn.predict(X_test)"
   ]
  },
  {
   "cell_type": "code",
   "execution_count": 34,
   "metadata": {
    "id": "9v1lW3Gd-g9W"
   },
   "outputs": [
    {
     "name": "stdout",
     "output_type": "stream",
     "text": [
      "Mean Squared error on training data --> 37.27400115234919\n",
      "Mean Squared error on test data --> 36.951214261174385\n",
      "root Mean Squared error on training data --> 6.105243742255439\n",
      " root Mean Squared error on test data --> 6.078751044513535\n",
      "Mean absolute error on training data --> 4.862857274249929\n",
      "Mean absolute error on test data --> 4.823742588827879\n",
      "R-Squared: 0.8766758625348786\n"
     ]
    }
   ],
   "source": [
    "print(\"Mean Squared error on training data --> {}\\nMean Squared error on test data --> {}\".format(mse(y_train, rfrtrain), mse(y_test, rfrtest)))\n",
    "\n",
    "print(\"root Mean Squared error on training data --> {}\\n root Mean Squared error on test data --> {}\".format(sqrt(mse(y_train, rfrtrain)), sqrt( mse(y_test, rfrtest)) ))\n",
    "\n",
    "print(\"Mean absolute error on training data --> {}\\nMean absolute error on test data --> {}\".format(mae(y_train, rfrtrain), mae(y_test, rfrtest)))\n",
    "\n",
    "r1_sk = metrics.r2_score(y_train,rfrtrain)\n",
    "r2_sk = metrics.r2_score(y_test,rfrtest)\n",
    "print(\"R-Squared:\", r1_sk)\n",
    "\n"
   ]
  },
  {
   "cell_type": "code",
   "execution_count": 35,
   "metadata": {},
   "outputs": [
    {
     "name": "stdout",
     "output_type": "stream",
     "text": [
      "[62.60433471]\n"
     ]
    }
   ],
   "source": [
    "today = X_test[6].reshape(1,-1)\n",
    "todaytemp = regrn.predict(today)\n",
    "print(todaytemp)"
   ]
  },
  {
   "cell_type": "markdown",
   "metadata": {
    "id": "jlZm1wYR_C2c"
   },
   "source": [
    "## KNeighborsRegressor"
   ]
  },
  {
   "cell_type": "code",
   "execution_count": 36,
   "metadata": {
    "id": "P3JgwOAz-TKs"
   },
   "outputs": [],
   "source": [
    "from sklearn.neighbors import KNeighborsRegressor as knr\n",
    "neigh = knr(n_neighbors=2)\n",
    "knrn = neigh.fit(X_train, y_train)"
   ]
  },
  {
   "cell_type": "code",
   "execution_count": 37,
   "metadata": {
    "id": "bricAs9j_qDl"
   },
   "outputs": [],
   "source": [
    "knrtrain = knrn.predict(X_train)\n",
    "knrtest = knrn.predict(X_test)"
   ]
  },
  {
   "cell_type": "code",
   "execution_count": 38,
   "metadata": {
    "id": "lWjNbhEW_0Es"
   },
   "outputs": [
    {
     "name": "stdout",
     "output_type": "stream",
     "text": [
      "Mean Squared error on training data --> 2.942680654158215\n",
      "Mean Squared error on test data --> 11.516991477272727\n",
      "root Mean Squared error on training data --> 1.7154243364713626\n",
      " root Mean Squared error on test data --> 3.3936693235011464\n",
      "Mean absolute error on training data --> 1.2516734279918864\n",
      "Mean absolute error on test data --> 2.359204545454545\n",
      "R-Squared: 0.9902638959518708\n"
     ]
    }
   ],
   "source": [
    "print(\"Mean Squared error on training data --> {}\\nMean Squared error on test data --> {}\".format(mse(y_train, knrtrain), mse(y_test, knrtest)))\n",
    "\n",
    "print(\"root Mean Squared error on training data --> {}\\n root Mean Squared error on test data --> {}\".format(sqrt(mse(y_train, knrtrain)), sqrt( mse(y_test, knrtest)) ))\n",
    "\n",
    "print(\"Mean absolute error on training data --> {}\\nMean absolute error on test data --> {}\".format(mae(y_train, knrtrain), mae(y_test, knrtest)))\n",
    "\n",
    "r1_sk = metrics.r2_score(y_train,knrtrain)\n",
    "r2_sk = metrics.r2_score(y_test,knrtest)\n",
    "print(\"R-Squared:\", r1_sk)"
   ]
  },
  {
   "cell_type": "code",
   "execution_count": 39,
   "metadata": {},
   "outputs": [
    {
     "name": "stdout",
     "output_type": "stream",
     "text": [
      "[62.5]\n"
     ]
    }
   ],
   "source": [
    "today = X_test[6].reshape(1,-1)\n",
    "todaytemp = knrn.predict(today)\n",
    "print(todaytemp)"
   ]
  },
  {
   "cell_type": "markdown",
   "metadata": {
    "id": "e9ekCYENARdr"
   },
   "source": [
    "## SVM linera SVR"
   ]
  },
  {
   "cell_type": "code",
   "execution_count": 40,
   "metadata": {
    "id": "WC2KdRWR-TSU"
   },
   "outputs": [],
   "source": [
    "from sklearn.svm import LinearSVR as svm\n",
    "from sklearn.pipeline import make_pipeline as mp\n",
    "from sklearn.preprocessing import StandardScaler\n",
    "regr = mp(StandardScaler(), svm(random_state=0, tol=2e-5))\n",
    "svmn = regr.fit(X_train, y_train)"
   ]
  },
  {
   "cell_type": "code",
   "execution_count": 41,
   "metadata": {
    "id": "LMyd1YylA5w6"
   },
   "outputs": [],
   "source": [
    "svmtrain = svmn.predict(X_train)\n",
    "svmtest = svmn.predict(X_test)"
   ]
  },
  {
   "cell_type": "code",
   "execution_count": 42,
   "metadata": {
    "id": "d2g_GfXRA7pd"
   },
   "outputs": [
    {
     "name": "stdout",
     "output_type": "stream",
     "text": [
      "Mean Squared error on training data --> 6.294542861798441\n",
      "Mean Squared error on test data --> 5.807133195333725\n",
      "root Mean Squared error on training data --> 2.5088927561373446\n",
      " root Mean Squared error on test data --> 2.409799409771221\n",
      "Mean absolute error on training data --> 1.8765023797667026\n",
      "Mean absolute error on test data --> 1.8870869143044353\n",
      "R-Squared: 0.9791739806522057\n"
     ]
    }
   ],
   "source": [
    "print(\"Mean Squared error on training data --> {}\\nMean Squared error on test data --> {}\".format(mse(y_train, svmtrain), mse(y_test, svmtest)))\n",
    "\n",
    "print(\"root Mean Squared error on training data --> {}\\n root Mean Squared error on test data --> {}\".format(sqrt(mse(y_train, svmtrain)), sqrt( mse(y_test, svmtest)) ))\n",
    "\n",
    "print(\"Mean absolute error on training data --> {}\\nMean absolute error on test data --> {}\".format(mae(y_train, svmtrain), mae(y_test, svmtest)))\n",
    "\n",
    "r1_sk = metrics.r2_score(y_train,svmtrain)\n",
    "r2_sk = metrics.r2_score(y_test,svmtest)\n",
    "print(\"R-Squared:\", r1_sk)\n"
   ]
  },
  {
   "cell_type": "code",
   "execution_count": 43,
   "metadata": {},
   "outputs": [
    {
     "name": "stdout",
     "output_type": "stream",
     "text": [
      "[57.24469715]\n"
     ]
    }
   ],
   "source": [
    "today = X_test[6].reshape(1,-1)\n",
    "todaytemp = svmn.predict(today)\n",
    "print(todaytemp)"
   ]
  },
  {
   "cell_type": "markdown",
   "metadata": {
    "id": "nGgoGPIlRQt1"
   },
   "source": [
    "## AdaBoostregressor "
   ]
  },
  {
   "cell_type": "code",
   "execution_count": 44,
   "metadata": {
    "id": "Mm-Ms3seB0hm"
   },
   "outputs": [],
   "source": [
    "from sklearn.ensemble import AdaBoostRegressor\n",
    "regr = AdaBoostRegressor(random_state=0, n_estimators=100)\n",
    "regrn = regr.fit(X_train, y_train)"
   ]
  },
  {
   "cell_type": "code",
   "execution_count": 45,
   "metadata": {
    "id": "DO_gbld_TdTK"
   },
   "outputs": [],
   "source": [
    "regrtrain = regrn.predict(X_train)\n",
    "regrtest = regrn.predict(X_test)"
   ]
  },
  {
   "cell_type": "code",
   "execution_count": 46,
   "metadata": {
    "id": "Kb4urHSZTfRZ"
   },
   "outputs": [
    {
     "name": "stdout",
     "output_type": "stream",
     "text": [
      "Mean Squared error on training data --> 8.9716748513526\n",
      "Mean Squared error on test data --> 10.199322093112984\n",
      "root Mean Squared error on training data --> 2.9952754216186195\n",
      " root Mean Squared error on test data --> 3.193637752330872\n",
      "Mean absolute error on training data --> 2.3953465988146267\n",
      "Mean absolute error on test data --> 2.5525300166162164\n",
      "R-Squared: 0.9659649729345071\n"
     ]
    }
   ],
   "source": [
    "print(\"Mean Squared error on training data --> {}\\nMean Squared error on test data --> {}\".format(mse(y_train, regrtrain), mse(y_test, regrtest)))\n",
    "\n",
    "print(\"root Mean Squared error on training data --> {}\\n root Mean Squared error on test data --> {}\".format(sqrt(mse(y_train, regrtrain)), sqrt( mse(y_test, regrtest)) ))\n",
    "\n",
    "print(\"Mean absolute error on training data --> {}\\nMean absolute error on test data --> {}\".format(mae(y_train, regrtrain), mae(y_test, regrtest)))\n",
    "\n",
    "r1_sk = metrics.r2_score(y_train,regrtrain)\n",
    "r2_sk = metrics.r2_score(y_test,regrtest)\n",
    "print(\"R-Squared:\", r2_sk)\n"
   ]
  },
  {
   "cell_type": "code",
   "execution_count": 47,
   "metadata": {},
   "outputs": [
    {
     "name": "stdout",
     "output_type": "stream",
     "text": [
      "[58.07650273]\n"
     ]
    }
   ],
   "source": [
    "today = X_test[6].reshape(1,-1)\n",
    "todaytemp = regrn.predict(today)\n",
    "print(todaytemp)"
   ]
  },
  {
   "cell_type": "markdown",
   "metadata": {},
   "source": [
    "# Rainfall "
   ]
  },
  {
   "cell_type": "code",
   "execution_count": 48,
   "metadata": {},
   "outputs": [
    {
     "data": {
      "text/html": [
       "<div>\n",
       "<style scoped>\n",
       "    .dataframe tbody tr th:only-of-type {\n",
       "        vertical-align: middle;\n",
       "    }\n",
       "\n",
       "    .dataframe tbody tr th {\n",
       "        vertical-align: top;\n",
       "    }\n",
       "\n",
       "    .dataframe thead th {\n",
       "        text-align: right;\n",
       "    }\n",
       "</style>\n",
       "<table border=\"1\" class=\"dataframe\">\n",
       "  <thead>\n",
       "    <tr style=\"text-align: right;\">\n",
       "      <th></th>\n",
       "      <th>Date/time</th>\n",
       "      <th>Airtemp min</th>\n",
       "      <th>Airtemp max</th>\n",
       "      <th>Airtemp mean</th>\n",
       "      <th>Rel.Hum min</th>\n",
       "      <th>Rel.Hum max</th>\n",
       "      <th>Rel.Hum mean</th>\n",
       "      <th>Day length durati</th>\n",
       "      <th>LeafWetness durati</th>\n",
       "      <th>Rain</th>\n",
       "    </tr>\n",
       "  </thead>\n",
       "  <tbody>\n",
       "    <tr>\n",
       "      <th>0</th>\n",
       "      <td>2007-01-01</td>\n",
       "      <td>9.2</td>\n",
       "      <td>30.0</td>\n",
       "      <td>18.3</td>\n",
       "      <td>37.0</td>\n",
       "      <td>100</td>\n",
       "      <td>76.0</td>\n",
       "      <td>34800.0</td>\n",
       "      <td>0.0</td>\n",
       "      <td>0.0</td>\n",
       "    </tr>\n",
       "    <tr>\n",
       "      <th>1</th>\n",
       "      <td>2007-01-02</td>\n",
       "      <td>8.2</td>\n",
       "      <td>31.1</td>\n",
       "      <td>17.9</td>\n",
       "      <td>34.0</td>\n",
       "      <td>100</td>\n",
       "      <td>75.0</td>\n",
       "      <td>35100.0</td>\n",
       "      <td>0.0</td>\n",
       "      <td>0.0</td>\n",
       "    </tr>\n",
       "    <tr>\n",
       "      <th>2</th>\n",
       "      <td>2007-01-03</td>\n",
       "      <td>8.0</td>\n",
       "      <td>31.0</td>\n",
       "      <td>18.0</td>\n",
       "      <td>38.0</td>\n",
       "      <td>100</td>\n",
       "      <td>77.0</td>\n",
       "      <td>34800.0</td>\n",
       "      <td>0.0</td>\n",
       "      <td>0.0</td>\n",
       "    </tr>\n",
       "    <tr>\n",
       "      <th>3</th>\n",
       "      <td>2007-01-04</td>\n",
       "      <td>8.9</td>\n",
       "      <td>31.5</td>\n",
       "      <td>18.7</td>\n",
       "      <td>37.0</td>\n",
       "      <td>100</td>\n",
       "      <td>77.0</td>\n",
       "      <td>35400.0</td>\n",
       "      <td>0.0</td>\n",
       "      <td>0.0</td>\n",
       "    </tr>\n",
       "    <tr>\n",
       "      <th>4</th>\n",
       "      <td>2007-01-05</td>\n",
       "      <td>9.8</td>\n",
       "      <td>30.7</td>\n",
       "      <td>19.0</td>\n",
       "      <td>37.0</td>\n",
       "      <td>100</td>\n",
       "      <td>75.0</td>\n",
       "      <td>35400.0</td>\n",
       "      <td>0.0</td>\n",
       "      <td>0.0</td>\n",
       "    </tr>\n",
       "  </tbody>\n",
       "</table>\n",
       "</div>"
      ],
      "text/plain": [
       "   Date/time  Airtemp min  Airtemp max  Airtemp mean  Rel.Hum min  \\\n",
       "0 2007-01-01          9.2         30.0          18.3         37.0   \n",
       "1 2007-01-02          8.2         31.1          17.9         34.0   \n",
       "2 2007-01-03          8.0         31.0          18.0         38.0   \n",
       "3 2007-01-04          8.9         31.5          18.7         37.0   \n",
       "4 2007-01-05          9.8         30.7          19.0         37.0   \n",
       "\n",
       "   Rel.Hum max  Rel.Hum mean  Day length durati  LeafWetness durati  Rain  \n",
       "0          100          76.0            34800.0                 0.0   0.0  \n",
       "1          100          75.0            35100.0                 0.0   0.0  \n",
       "2          100          77.0            34800.0                 0.0   0.0  \n",
       "3          100          77.0            35400.0                 0.0   0.0  \n",
       "4          100          75.0            35400.0                 0.0   0.0  "
      ]
     },
     "execution_count": 48,
     "metadata": {},
     "output_type": "execute_result"
    }
   ],
   "source": [
    "weather_datarain= pd.DataFrame(pd.read_excel(\"perdaydata.xlsx\"))\n",
    "weather_datarain.head()"
   ]
  },
  {
   "cell_type": "code",
   "execution_count": 49,
   "metadata": {},
   "outputs": [
    {
     "data": {
      "text/html": [
       "<div>\n",
       "<style scoped>\n",
       "    .dataframe tbody tr th:only-of-type {\n",
       "        vertical-align: middle;\n",
       "    }\n",
       "\n",
       "    .dataframe tbody tr th {\n",
       "        vertical-align: top;\n",
       "    }\n",
       "\n",
       "    .dataframe thead th {\n",
       "        text-align: right;\n",
       "    }\n",
       "</style>\n",
       "<table border=\"1\" class=\"dataframe\">\n",
       "  <thead>\n",
       "    <tr style=\"text-align: right;\">\n",
       "      <th></th>\n",
       "      <th>Airtemp min</th>\n",
       "      <th>Airtemp max</th>\n",
       "      <th>Airtemp mean</th>\n",
       "      <th>Rel.Hum min</th>\n",
       "      <th>Rel.Hum max</th>\n",
       "      <th>Rel.Hum mean</th>\n",
       "      <th>Day length durati</th>\n",
       "      <th>LeafWetness durati</th>\n",
       "      <th>Rain</th>\n",
       "    </tr>\n",
       "  </thead>\n",
       "  <tbody>\n",
       "    <tr>\n",
       "      <th>0</th>\n",
       "      <td>9.2</td>\n",
       "      <td>30.0</td>\n",
       "      <td>18.3</td>\n",
       "      <td>37.0</td>\n",
       "      <td>100</td>\n",
       "      <td>76.0</td>\n",
       "      <td>34800.0</td>\n",
       "      <td>0.0</td>\n",
       "      <td>0.0</td>\n",
       "    </tr>\n",
       "    <tr>\n",
       "      <th>1</th>\n",
       "      <td>8.2</td>\n",
       "      <td>31.1</td>\n",
       "      <td>17.9</td>\n",
       "      <td>34.0</td>\n",
       "      <td>100</td>\n",
       "      <td>75.0</td>\n",
       "      <td>35100.0</td>\n",
       "      <td>0.0</td>\n",
       "      <td>0.0</td>\n",
       "    </tr>\n",
       "    <tr>\n",
       "      <th>2</th>\n",
       "      <td>8.0</td>\n",
       "      <td>31.0</td>\n",
       "      <td>18.0</td>\n",
       "      <td>38.0</td>\n",
       "      <td>100</td>\n",
       "      <td>77.0</td>\n",
       "      <td>34800.0</td>\n",
       "      <td>0.0</td>\n",
       "      <td>0.0</td>\n",
       "    </tr>\n",
       "    <tr>\n",
       "      <th>3</th>\n",
       "      <td>8.9</td>\n",
       "      <td>31.5</td>\n",
       "      <td>18.7</td>\n",
       "      <td>37.0</td>\n",
       "      <td>100</td>\n",
       "      <td>77.0</td>\n",
       "      <td>35400.0</td>\n",
       "      <td>0.0</td>\n",
       "      <td>0.0</td>\n",
       "    </tr>\n",
       "    <tr>\n",
       "      <th>4</th>\n",
       "      <td>9.8</td>\n",
       "      <td>30.7</td>\n",
       "      <td>19.0</td>\n",
       "      <td>37.0</td>\n",
       "      <td>100</td>\n",
       "      <td>75.0</td>\n",
       "      <td>35400.0</td>\n",
       "      <td>0.0</td>\n",
       "      <td>0.0</td>\n",
       "    </tr>\n",
       "  </tbody>\n",
       "</table>\n",
       "</div>"
      ],
      "text/plain": [
       "   Airtemp min  Airtemp max  Airtemp mean  Rel.Hum min  Rel.Hum max  \\\n",
       "0          9.2         30.0          18.3         37.0          100   \n",
       "1          8.2         31.1          17.9         34.0          100   \n",
       "2          8.0         31.0          18.0         38.0          100   \n",
       "3          8.9         31.5          18.7         37.0          100   \n",
       "4          9.8         30.7          19.0         37.0          100   \n",
       "\n",
       "   Rel.Hum mean  Day length durati  LeafWetness durati  Rain  \n",
       "0          76.0            34800.0                 0.0   0.0  \n",
       "1          75.0            35100.0                 0.0   0.0  \n",
       "2          77.0            34800.0                 0.0   0.0  \n",
       "3          77.0            35400.0                 0.0   0.0  \n",
       "4          75.0            35400.0                 0.0   0.0  "
      ]
     },
     "execution_count": 49,
     "metadata": {},
     "output_type": "execute_result"
    }
   ],
   "source": [
    "weather_datarain.drop(\"Date/time\", axis=1, inplace=True)\n",
    "weather_datarain.head()"
   ]
  },
  {
   "cell_type": "code",
   "execution_count": 50,
   "metadata": {},
   "outputs": [
    {
     "data": {
      "text/plain": [
       "array([0., 0., 0., ..., 0., 0., 0.])"
      ]
     },
     "execution_count": 50,
     "metadata": {},
     "output_type": "execute_result"
    }
   ],
   "source": [
    "Xr=weather_data.drop(\"Rain\",axis=1)\n",
    "yr=weather_data[\"Rain\"].values\n",
    "yr"
   ]
  },
  {
   "cell_type": "code",
   "execution_count": 51,
   "metadata": {},
   "outputs": [
    {
     "data": {
      "text/plain": [
       "pandas.core.frame.DataFrame"
      ]
     },
     "execution_count": 51,
     "metadata": {},
     "output_type": "execute_result"
    }
   ],
   "source": [
    "xr = Xr.iloc[:,:]\n",
    "type(xr)"
   ]
  },
  {
   "cell_type": "code",
   "execution_count": 52,
   "metadata": {},
   "outputs": [
    {
     "data": {
      "text/plain": [
       "array([0., 0., 0., ..., 0., 0., 0.])"
      ]
     },
     "execution_count": 52,
     "metadata": {},
     "output_type": "execute_result"
    }
   ],
   "source": [
    "yr"
   ]
  },
  {
   "cell_type": "markdown",
   "metadata": {},
   "source": [
    "## train and test split data "
   ]
  },
  {
   "cell_type": "code",
   "execution_count": 53,
   "metadata": {},
   "outputs": [],
   "source": [
    "from sklearn.model_selection import train_test_split\n",
    "X_trainr, X_testr, y_trainr, y_testr= train_test_split(Xr,yr,test_size=0.1,random_state=15)"
   ]
  },
  {
   "cell_type": "code",
   "execution_count": 54,
   "metadata": {},
   "outputs": [
    {
     "data": {
      "text/plain": [
       "0        9.2\n",
       "1        8.2\n",
       "2        8.0\n",
       "3        8.9\n",
       "4        9.8\n",
       "        ... \n",
       "2187     7.0\n",
       "2188     7.5\n",
       "2189     9.2\n",
       "2190    10.9\n",
       "2191    18.1\n",
       "Name: Airtemp min, Length: 2192, dtype: float64"
      ]
     },
     "execution_count": 54,
     "metadata": {},
     "output_type": "execute_result"
    }
   ],
   "source": [
    "pd.to_numeric(weather_data['Airtemp min'])"
   ]
  },
  {
   "cell_type": "code",
   "execution_count": 55,
   "metadata": {},
   "outputs": [
    {
     "name": "stdout",
     "output_type": "stream",
     "text": [
      "<class 'pandas.core.frame.DataFrame'>\n",
      "RangeIndex: 2192 entries, 0 to 2191\n",
      "Data columns (total 9 columns):\n",
      " #   Column              Non-Null Count  Dtype  \n",
      "---  ------              --------------  -----  \n",
      " 0   Airtemp min         2192 non-null   float64\n",
      " 1   Airtemp max         2192 non-null   float64\n",
      " 2   Airtemp mean        2192 non-null   float64\n",
      " 3   Rel.Hum min         2192 non-null   float64\n",
      " 4   Rel.Hum max         2192 non-null   int64  \n",
      " 5   Rel.Hum mean        2192 non-null   float64\n",
      " 6   Day length durati   2192 non-null   float64\n",
      " 7   LeafWetness durati  2192 non-null   float64\n",
      " 8   Rain                2192 non-null   float64\n",
      "dtypes: float64(8), int64(1)\n",
      "memory usage: 154.2 KB\n"
     ]
    }
   ],
   "source": [
    "weather_data.info()"
   ]
  },
  {
   "cell_type": "code",
   "execution_count": 56,
   "metadata": {},
   "outputs": [],
   "source": [
    "from sklearn.preprocessing import MinMaxScaler\n",
    "scaler = MinMaxScaler()\n",
    "X_trainr = scaler.fit_transform(X_trainr)\n",
    "X_testr = scaler.transform(X_testr)"
   ]
  },
  {
   "cell_type": "markdown",
   "metadata": {},
   "source": [
    "# # Decision tree and adaboost regressor¶"
   ]
  },
  {
   "cell_type": "code",
   "execution_count": 57,
   "metadata": {},
   "outputs": [],
   "source": [
    "from sklearn.ensemble import AdaBoostRegressor\n",
    "from sklearn.tree import DecisionTreeRegressor\n",
    "rngmax = np.random.RandomState(1)\n",
    "regr_1r = DecisionTreeRegressor(max_depth=4)\n",
    "\n",
    "regr_2r = AdaBoostRegressor(\n",
    "    DecisionTreeRegressor(max_depth=4), n_estimators=300, random_state=rng\n",
    ")\n",
    "\n",
    "regr_1.fit(X_trainr, y_trainr)\n",
    "regr_2.fit(X_trainr, y_trainr)\n",
    "\n",
    "y_1d = regr_1.predict(X_trainr)\n",
    "y_2d = regr_1.predict(X_testr)\n",
    "\n",
    "y_1ad = regr_2.predict(X_train)\n",
    "y_2ad = regr_2.predict(X_test)"
   ]
  },
  {
   "cell_type": "code",
   "execution_count": 58,
   "metadata": {},
   "outputs": [
    {
     "name": "stdout",
     "output_type": "stream",
     "text": [
      "Mean Squared error on training data --> 16.125115964271263\n",
      "Mean Squared error on test data --> 25.963935082197622\n",
      "root Mean Squared error on training data --> 4.015609040266652\n",
      " root Mean Squared error on test data --> 5.095481830229367\n",
      "Mean absolute error on training data --> 1.2952635241279544\n",
      "Mean absolute error on test data --> 1.6197730139736213\n",
      "R-Squared: 0.5268685405083063\n"
     ]
    }
   ],
   "source": [
    "from sklearn.metrics import mean_squared_error as mse\n",
    "\n",
    "print(\"Mean Squared error on training data --> {}\\nMean Squared error on test data --> {}\".format(mse(y_trainr, y_1d), mse(y_testr, y_2d)))\n",
    "\n",
    "from math import sqrt\n",
    "print(\"root Mean Squared error on training data --> {}\\n root Mean Squared error on test data --> {}\".format(sqrt(mse(y_trainr, y_1d)), sqrt( mse(y_testr, y_2d)) ))\n",
    "\n",
    "from sklearn.metrics import mean_absolute_error as mae\n",
    "print(\"Mean absolute error on training data --> {}\\nMean absolute error on test data --> {}\".format(mae(y_trainr, y_1d), mae(y_testr, y_2d)))\n",
    "\n",
    "import sklearn.metrics as metrics\n",
    "r1_skr = metrics.r2_score(y_trainr,y_1d)\n",
    "r2_skr = metrics.r2_score(y_testr,y_2d)\n",
    "print(\"R-Squared:\", r1_skr)"
   ]
  },
  {
   "cell_type": "code",
   "execution_count": 59,
   "metadata": {},
   "outputs": [
    {
     "name": "stdout",
     "output_type": "stream",
     "text": [
      "[0.73462415]\n"
     ]
    }
   ],
   "source": [
    "today = X_test[6].reshape(1,-1)\n",
    "todaytemp = regr_1.predict(today)\n",
    "print(todaytemp)"
   ]
  },
  {
   "cell_type": "code",
   "execution_count": 60,
   "metadata": {},
   "outputs": [
    {
     "name": "stdout",
     "output_type": "stream",
     "text": [
      "Mean Squared error on training data --> 109.8340685487358\n",
      "Mean Squared error on test data --> 95.73890731237675\n",
      "root Mean Squared error on training data --> 10.480175024718614\n",
      " root Mean Squared error on test data --> 9.784626069113564\n",
      "Mean absolute error on training data --> 9.376597459575635\n",
      "Mean absolute error on test data --> 8.881593024531943\n",
      "R-Squared: -2.222671593154187\n"
     ]
    }
   ],
   "source": [
    "print(\"Mean Squared error on training data --> {}\\nMean Squared error on test data --> {}\".format(mse(y_trainr, y_1ad), mse(y_testr, y_2ad)))\n",
    "\n",
    "print(\"root Mean Squared error on training data --> {}\\n root Mean Squared error on test data --> {}\".format(sqrt(mse(y_trainr, y_1ad)), sqrt( mse(y_testr, y_2ad)) ))\n",
    "\n",
    "print(\"Mean absolute error on training data --> {}\\nMean absolute error on test data --> {}\".format(mae(y_trainr, y_1ad), mae(y_testr, y_2ad)))\n",
    "\n",
    "r1_skr = metrics.r2_score(y_trainr,y_1ad)\n",
    "r2_skr = metrics.r2_score(y_testr,y_2ad)\n",
    "print(\"R-Squared:\", r1_skr)"
   ]
  },
  {
   "cell_type": "code",
   "execution_count": 61,
   "metadata": {},
   "outputs": [
    {
     "name": "stdout",
     "output_type": "stream",
     "text": [
      "[11.59202128]\n"
     ]
    }
   ],
   "source": [
    "today = X_test[6].reshape(1,-1)\n",
    "todaytemp = regr_2.predict(today)\n",
    "print(todaytemp)"
   ]
  },
  {
   "cell_type": "markdown",
   "metadata": {},
   "source": [
    "# # linear regression"
   ]
  },
  {
   "cell_type": "code",
   "execution_count": 62,
   "metadata": {},
   "outputs": [],
   "source": [
    "from sklearn.linear_model import LinearRegression as lr\n",
    "lrrmax = lr().fit(X_trainr,y_trainr)"
   ]
  },
  {
   "cell_type": "code",
   "execution_count": 63,
   "metadata": {},
   "outputs": [],
   "source": [
    "predlrtest = lrrmax.predict(X_testr)\n",
    "predlrtrain = lrrmax.predict(X_trainr)"
   ]
  },
  {
   "cell_type": "code",
   "execution_count": 64,
   "metadata": {},
   "outputs": [
    {
     "name": "stdout",
     "output_type": "stream",
     "text": [
      "Mean Squared error on training data --> 29.68492381245305\n",
      "Mean Squared error on test data --> 14.177319311482034\n",
      "root Mean Squared error on training data --> 5.448387267114283\n",
      " root Mean Squared error on test data --> 3.7652781187426294\n",
      "Mean absolute error on training data --> 2.120741653020133\n",
      "Mean absolute error on test data --> 1.8654861813864552\n",
      "R-Squared: 0.1290064915250756\n"
     ]
    }
   ],
   "source": [
    "\n",
    "print(\"Mean Squared error on training data --> {}\\nMean Squared error on test data --> {}\".format(mse(y_trainr, predlrtrain), mse(y_testr, predlrtest)))\n",
    "\n",
    "print(\"root Mean Squared error on training data --> {}\\n root Mean Squared error on test data --> {}\".format(sqrt(mse(y_trainr, predlrtrain)), sqrt( mse(y_testr, predlrtest)) ))\n",
    "\n",
    "print(\"Mean absolute error on training data --> {}\\nMean absolute error on test data --> {}\".format(mae(y_trainr, predlrtrain), mae(y_testr, predlrtest)))\n",
    "\n",
    "r1_sk = metrics.r2_score(y_trainr,predlrtrain)\n",
    "r2_sk = metrics.r2_score(y_testr,predlrtest)\n",
    "print(\"R-Squared:\", r1_sk)\n"
   ]
  },
  {
   "cell_type": "code",
   "execution_count": 65,
   "metadata": {},
   "outputs": [
    {
     "name": "stdout",
     "output_type": "stream",
     "text": [
      "[8.01291722]\n"
     ]
    }
   ],
   "source": [
    "today = X_testr[60].reshape(1,-1)\n",
    "todayrain = lrrmax.predict(today)\n",
    "print(todayrain)"
   ]
  },
  {
   "cell_type": "markdown",
   "metadata": {},
   "source": [
    "# # Ridge regression"
   ]
  },
  {
   "cell_type": "code",
   "execution_count": 66,
   "metadata": {},
   "outputs": [
    {
     "data": {
      "text/plain": [
       "Ridge()"
      ]
     },
     "execution_count": 66,
     "metadata": {},
     "output_type": "execute_result"
    }
   ],
   "source": [
    "from sklearn.linear_model import Ridge\n",
    "clf = Ridge(alpha=1.0)\n",
    "clf = clf.fit(X_trainr, y_trainr)\n",
    "Ridge()"
   ]
  },
  {
   "cell_type": "code",
   "execution_count": 67,
   "metadata": {},
   "outputs": [],
   "source": [
    "clftrain = clf.predict(X_trainr)\n",
    "clftest = clf.predict(X_testr)"
   ]
  },
  {
   "cell_type": "code",
   "execution_count": 68,
   "metadata": {},
   "outputs": [
    {
     "name": "stdout",
     "output_type": "stream",
     "text": [
      "Mean Squared error on training data --> 29.772020746012586\n",
      "Mean Squared error on test data --> 14.168067358622626\n",
      "root Mean Squared error on training data --> 5.456374322387769\n",
      " root Mean Squared error on test data --> 3.7640493299932487\n",
      "Mean absolute error on training data --> 2.0997403740218963\n",
      "Mean absolute error on test data --> 1.8277499153537917\n",
      "R-Squared: 0.12645095645893523\n"
     ]
    }
   ],
   "source": [
    "print(\"Mean Squared error on training data --> {}\\nMean Squared error on test data --> {}\".format(mse(y_trainr, clftrain), mse(y_testr, clftest)))\n",
    "\n",
    "print(\"root Mean Squared error on training data --> {}\\n root Mean Squared error on test data --> {}\".format(sqrt(mse(y_trainr, clftrain)), sqrt( mse(y_testr, clftest)) ))\n",
    "\n",
    "print(\"Mean absolute error on training data --> {}\\nMean absolute error on test data --> {}\".format(mae(y_trainr, clftrain), mae(y_testr, clftest)))\n",
    "\n",
    "r1_sk = metrics.r2_score(y_trainr,clftrain)\n",
    "r2_sk = metrics.r2_score(y_testr,clftest)\n",
    "print(\"R-Squared:\", r1_sk)"
   ]
  },
  {
   "cell_type": "code",
   "execution_count": 69,
   "metadata": {},
   "outputs": [
    {
     "name": "stdout",
     "output_type": "stream",
     "text": [
      "[1.62586047]\n"
     ]
    }
   ],
   "source": [
    "today = X_testr[10].reshape(1,-1)\n",
    "todayrain = clf.predict(today)\n",
    "print(todayrain)"
   ]
  },
  {
   "cell_type": "markdown",
   "metadata": {},
   "source": [
    "# # MLP regressor"
   ]
  },
  {
   "cell_type": "code",
   "execution_count": 70,
   "metadata": {},
   "outputs": [],
   "source": [
    "from sklearn.neural_network import MLPRegressor as mlp\n",
    "mlp = mlp(random_state=1, max_iter=1000).fit(X_trainr, y_trainr)"
   ]
  },
  {
   "cell_type": "code",
   "execution_count": 71,
   "metadata": {},
   "outputs": [],
   "source": [
    "mlptrain = mlp.predict(X_trainr)\n",
    "mlptest = mlp.predict(X_testr)"
   ]
  },
  {
   "cell_type": "code",
   "execution_count": 72,
   "metadata": {},
   "outputs": [
    {
     "name": "stdout",
     "output_type": "stream",
     "text": [
      "Mean Squared error on training data --> 29.772020746012586\n",
      "Mean Squared error on test data --> 14.168067358622626\n",
      "root Mean Squared error on training data --> 5.456374322387769\n",
      " root Mean Squared error on test data --> 3.7640493299932487\n",
      "Mean absolute error on training data --> 2.0997403740218963\n",
      "Mean absolute error on test data --> 1.8277499153537917\n",
      "R-Squared: 0.18121782019312305\n"
     ]
    }
   ],
   "source": [
    "print(\"Mean Squared error on training data --> {}\\nMean Squared error on test data --> {}\".format(mse(y_trainr, clftrain), mse(y_testr, clftest)))\n",
    "\n",
    "print(\"root Mean Squared error on training data --> {}\\n root Mean Squared error on test data --> {}\".format(sqrt(mse(y_trainr, clftrain)), sqrt( mse(y_testr, clftest)) ))\n",
    "\n",
    "print(\"Mean absolute error on training data --> {}\\nMean absolute error on test data --> {}\".format(mae(y_trainr, clftrain), mae(y_testr, clftest)))\n",
    "\n",
    "r1_sk = metrics.r2_score(y_trainr, mlptrain)\n",
    "r2_sk = metrics.r2_score(y_testr, mlptest)\n",
    "print(\"R-Squared:\", r1_sk)"
   ]
  },
  {
   "cell_type": "code",
   "execution_count": 73,
   "metadata": {},
   "outputs": [
    {
     "name": "stdout",
     "output_type": "stream",
     "text": [
      "[10.07504792]\n"
     ]
    }
   ],
   "source": [
    "today = X_testr[60].reshape(1,-1)\n",
    "todayrain = mlp.predict(today)\n",
    "print(todayrain)"
   ]
  },
  {
   "cell_type": "markdown",
   "metadata": {},
   "source": [
    "# # lasso regression"
   ]
  },
  {
   "cell_type": "code",
   "execution_count": 74,
   "metadata": {},
   "outputs": [],
   "source": [
    "from sklearn import linear_model as lm\n",
    "lms = lm.Lasso(alpha=0.1).fit(X_trainr, y_trainr)"
   ]
  },
  {
   "cell_type": "code",
   "execution_count": 75,
   "metadata": {},
   "outputs": [],
   "source": [
    "lmstrain = lms.predict(X_trainr)\n",
    "lmstest = lms.predict(X_testr)"
   ]
  },
  {
   "cell_type": "code",
   "execution_count": 76,
   "metadata": {},
   "outputs": [
    {
     "name": "stdout",
     "output_type": "stream",
     "text": [
      "Mean Squared error on training data --> 30.376312956195406\n",
      "Mean Squared error on test data --> 14.272364246336489\n",
      "root Mean Squared error on training data --> 5.511471033779948\n",
      " root Mean Squared error on test data --> 3.777878273096751\n",
      "Mean absolute error on training data --> 1.92793522233518\n",
      "Mean absolute error on test data --> 1.6779834896670842\n",
      "R-Squared: 0.1087202526304013\n"
     ]
    }
   ],
   "source": [
    "print(\"Mean Squared error on training data --> {}\\nMean Squared error on test data --> {}\".format(mse(y_trainr, lmstrain), mse(y_testr, lmstest)))\n",
    "\n",
    "print(\"root Mean Squared error on training data --> {}\\n root Mean Squared error on test data --> {}\".format(sqrt(mse(y_trainr, lmstrain)), sqrt( mse(y_testr, lmstest)) ))\n",
    "\n",
    "print(\"Mean absolute error on training data --> {}\\nMean absolute error on test data --> {}\".format(mae(y_trainr, lmstrain), mae(y_testr, lmstest)))\n",
    "\n",
    "r1_sk = metrics.r2_score(y_trainr,lmstrain)\n",
    "r2_sk = metrics.r2_score(y_testr,lmstest)\n",
    "print(\"R-Squared:\", r1_sk)"
   ]
  },
  {
   "cell_type": "code",
   "execution_count": 77,
   "metadata": {},
   "outputs": [
    {
     "name": "stdout",
     "output_type": "stream",
     "text": [
      "[5.96811918]\n"
     ]
    }
   ],
   "source": [
    "today = X_testr[60].reshape(1,-1)\n",
    "todayrain = lms.predict(today)\n",
    "print(todayrain)"
   ]
  },
  {
   "cell_type": "markdown",
   "metadata": {},
   "source": [
    "# # Random forest regressor"
   ]
  },
  {
   "cell_type": "code",
   "execution_count": 78,
   "metadata": {},
   "outputs": [],
   "source": [
    "from sklearn.ensemble import RandomForestRegressor as rfr\n",
    "regr = rfr(max_depth=2, random_state=0)\n",
    "regrn = regr.fit(X_trainr, y_trainr)"
   ]
  },
  {
   "cell_type": "code",
   "execution_count": 79,
   "metadata": {},
   "outputs": [],
   "source": [
    "rfrtrain = regrn.predict(X_trainr)\n",
    "rfrtest = regrn.predict(X_testr)"
   ]
  },
  {
   "cell_type": "code",
   "execution_count": 80,
   "metadata": {},
   "outputs": [
    {
     "name": "stdout",
     "output_type": "stream",
     "text": [
      "Mean Squared error on training data --> 23.270340898315293\n",
      "Mean Squared error on test data --> 13.4138398166862\n",
      "root Mean Squared error on training data --> 4.823934172261816\n",
      " root Mean Squared error on test data --> 3.6624909305943953\n",
      "Mean absolute error on training data --> 1.5396224323757484\n",
      "Mean absolute error on test data --> 1.3794031400518922\n",
      "R-Squared: 0.3172185318552696\n"
     ]
    }
   ],
   "source": [
    "print(\"Mean Squared error on training data --> {}\\nMean Squared error on test data --> {}\".format(mse(y_trainr, rfrtrain), mse(y_testr, rfrtest)))\n",
    "\n",
    "print(\"root Mean Squared error on training data --> {}\\n root Mean Squared error on test data --> {}\".format(sqrt(mse(y_trainr, rfrtrain)), sqrt( mse(y_testr, rfrtest)) ))\n",
    "\n",
    "print(\"Mean absolute error on training data --> {}\\nMean absolute error on test data --> {}\".format(mae(y_trainr, rfrtrain), mae(y_testr, rfrtest)))\n",
    "\n",
    "r1_sk = metrics.r2_score(y_trainr,rfrtrain)\n",
    "r2_sk = metrics.r2_score(y_testr,rfrtest)\n",
    "print(\"R-Squared:\", r1_sk)\n"
   ]
  },
  {
   "cell_type": "code",
   "execution_count": 81,
   "metadata": {},
   "outputs": [
    {
     "name": "stdout",
     "output_type": "stream",
     "text": [
      "[7.6650313]\n"
     ]
    }
   ],
   "source": [
    "today = X_testr[60].reshape(1,-1)\n",
    "todayrain = regrn.predict(today)\n",
    "print(todayrain)"
   ]
  },
  {
   "cell_type": "markdown",
   "metadata": {},
   "source": [
    "# # KNeighborsRegressor"
   ]
  },
  {
   "cell_type": "code",
   "execution_count": 82,
   "metadata": {},
   "outputs": [],
   "source": [
    "from sklearn.neighbors import KNeighborsRegressor as knr\n",
    "neigh = knr(n_neighbors=2)\n",
    "knrn = neigh.fit(X_trainr, y_trainr)"
   ]
  },
  {
   "cell_type": "code",
   "execution_count": 83,
   "metadata": {},
   "outputs": [],
   "source": [
    "knrtrain = knrn.predict(X_trainr)\n",
    "knrtest = knrn.predict(X_testr)"
   ]
  },
  {
   "cell_type": "code",
   "execution_count": 84,
   "metadata": {},
   "outputs": [
    {
     "name": "stdout",
     "output_type": "stream",
     "text": [
      "Mean Squared error on training data --> 9.61922794117647\n",
      "Mean Squared error on test data --> 24.80193181818182\n",
      "root Mean Squared error on training data --> 3.101488020479278\n",
      " root Mean Squared error on test data --> 4.980153794631429\n",
      "Mean absolute error on training data --> 0.7803498985801216\n",
      "Mean absolute error on test data --> 1.394090909090909\n",
      "R-Squared: 0.7177595891355947\n"
     ]
    }
   ],
   "source": [
    "print(\"Mean Squared error on training data --> {}\\nMean Squared error on test data --> {}\".format(mse(y_trainr, knrtrain), mse(y_testr, knrtest)))\n",
    "\n",
    "print(\"root Mean Squared error on training data --> {}\\n root Mean Squared error on test data --> {}\".format(sqrt(mse(y_trainr, knrtrain)), sqrt( mse(y_testr, knrtest)) ))\n",
    "\n",
    "print(\"Mean absolute error on training data --> {}\\nMean absolute error on test data --> {}\".format(mae(y_trainr, knrtrain), mae(y_testr, knrtest)))\n",
    "\n",
    "r1_sk = metrics.r2_score(y_trainr, knrtrain)\n",
    "r2_sk = metrics.r2_score(y_testr, knrtest)\n",
    "print(\"R-Squared:\", r1_sk)\n"
   ]
  },
  {
   "cell_type": "code",
   "execution_count": 85,
   "metadata": {},
   "outputs": [
    {
     "name": "stdout",
     "output_type": "stream",
     "text": [
      "[0.]\n"
     ]
    }
   ],
   "source": [
    "today = X_testr[60].reshape(1,-1)\n",
    "todayrain = knrn.predict(today)\n",
    "print(todayrain)"
   ]
  },
  {
   "cell_type": "markdown",
   "metadata": {},
   "source": [
    "# # adaboost regressor"
   ]
  },
  {
   "cell_type": "code",
   "execution_count": 86,
   "metadata": {},
   "outputs": [],
   "source": [
    "from sklearn.ensemble import AdaBoostRegressor\n",
    "regr = AdaBoostRegressor(random_state=0, n_estimators=100)\n",
    "regrn = regr.fit(X_trainr, y_trainr)"
   ]
  },
  {
   "cell_type": "code",
   "execution_count": 87,
   "metadata": {},
   "outputs": [],
   "source": [
    "regrtrain = regrn.predict(X_trainr)\n",
    "regrtest = regrn.predict(X_testr)"
   ]
  },
  {
   "cell_type": "code",
   "execution_count": 88,
   "metadata": {},
   "outputs": [
    {
     "name": "stdout",
     "output_type": "stream",
     "text": [
      "Mean Squared error on training data --> 27.347828632148303\n",
      "Mean Squared error on test data --> 27.72438285889121\n",
      "root Mean Squared error on training data --> 5.229515143122573\n",
      " root Mean Squared error on test data --> 5.26539484358877\n",
      "Mean absolute error on training data --> 2.7259841081431593\n",
      "Mean absolute error on test data --> 2.8620831155141735\n",
      "R-Squared: 0.7177595891355947\n"
     ]
    }
   ],
   "source": [
    "print(\"Mean Squared error on training data --> {}\\nMean Squared error on test data --> {}\".format(mse(y_trainr, regrtrain), mse(y_testr, regrtest)))\n",
    "\n",
    "print(\"root Mean Squared error on training data --> {}\\n root Mean Squared error on test data --> {}\".format(sqrt(mse(y_trainr, regrtrain)), sqrt( mse(y_testr, regrtest)) ))\n",
    "\n",
    "print(\"Mean absolute error on training data --> {}\\nMean absolute error on test data --> {}\".format(mae(y_trainr, regrtrain), mae(y_testr, regrtest)))\n",
    "\n",
    "r1_sk = metrics.r2_score(y_trainr, knrtrain)\n",
    "r2_sk = metrics.r2_score(y_testr, knrtest)\n",
    "print(\"R-Squared:\", r1_sk)\n"
   ]
  },
  {
   "cell_type": "code",
   "execution_count": 89,
   "metadata": {},
   "outputs": [
    {
     "name": "stdout",
     "output_type": "stream",
     "text": [
      "[9.68191126]\n"
     ]
    }
   ],
   "source": [
    "today = X_testr[60].reshape(1,-1)\n",
    "todayrain = regrn.predict(today)\n",
    "print(todayrain)"
   ]
  },
  {
   "cell_type": "markdown",
   "metadata": {},
   "source": [
    "#  SVM linear regression"
   ]
  },
  {
   "cell_type": "code",
   "execution_count": 90,
   "metadata": {},
   "outputs": [
    {
     "name": "stderr",
     "output_type": "stream",
     "text": [
      "C:\\ProgramData\\Anaconda3\\lib\\site-packages\\sklearn\\svm\\_base.py:1206: ConvergenceWarning: Liblinear failed to converge, increase the number of iterations.\n",
      "  warnings.warn(\n"
     ]
    }
   ],
   "source": [
    "from sklearn.svm import LinearSVR as svm\n",
    "from sklearn.pipeline import make_pipeline as mp\n",
    "from sklearn.preprocessing import StandardScaler\n",
    "regr = mp(StandardScaler(), svm(random_state=0, tol=2e-5))\n",
    "svmn = regr.fit(X_trainr, y_trainr) "
   ]
  },
  {
   "cell_type": "code",
   "execution_count": 91,
   "metadata": {},
   "outputs": [],
   "source": [
    "svmtrain = svmn.predict(X_trainr) \n",
    "svmtest = svmn.predict(X_testr) "
   ]
  },
  {
   "cell_type": "code",
   "execution_count": 92,
   "metadata": {},
   "outputs": [
    {
     "name": "stdout",
     "output_type": "stream",
     "text": [
      "Mean Squared error on training data --> 34.86845942585663\n",
      "Mean Squared error on test data --> 16.820913043947645\n",
      "root Mean Squared error on training data --> 5.904952110377918\n",
      " root Mean Squared error on test data --> 4.101330643089831\n",
      "Mean absolute error on training data --> 1.3161193244612919\n",
      "Mean absolute error on test data --> 1.0855069798615458\n",
      "R-Squared: -0.023085051601240192\n"
     ]
    }
   ],
   "source": [
    "print(\"Mean Squared error on training data --> {}\\nMean Squared error on test data --> {}\".format(mse(y_trainr, svmtrain), mse(y_testr, svmtest)))\n",
    "\n",
    "print(\"root Mean Squared error on training data --> {}\\n root Mean Squared error on test data --> {}\".format(sqrt(mse(y_trainr, svmtrain)), sqrt( mse(y_testr, svmtest)) ))\n",
    "\n",
    "print(\"Mean absolute error on training data --> {}\\nMean absolute error on test data --> {}\".format(mae(y_trainr, svmtrain), mae(y_testr, svmtest)))\n",
    "\n",
    "r1_sk = metrics.r2_score(y_trainr,svmtrain)\n",
    "r2_sk = metrics.r2_score(y_testr,svmtest)\n",
    "print(\"R-Squared:\", r1_sk)\n"
   ]
  },
  {
   "cell_type": "code",
   "execution_count": 93,
   "metadata": {},
   "outputs": [
    {
     "name": "stdout",
     "output_type": "stream",
     "text": [
      "[0.14643153]\n"
     ]
    }
   ],
   "source": [
    "today = X_test[60].reshape(1,-1)\n",
    "todaytemp = svmn.predict(today)\n",
    "print(todaytemp)"
   ]
  },
  {
   "cell_type": "code",
   "execution_count": null,
   "metadata": {},
   "outputs": [],
   "source": []
  }
 ],
 "metadata": {
  "accelerator": "GPU",
  "colab": {
   "collapsed_sections": [],
   "provenance": []
  },
  "kernelspec": {
   "display_name": "Python 3 (ipykernel)",
   "language": "python",
   "name": "python3"
  },
  "language_info": {
   "codemirror_mode": {
    "name": "ipython",
    "version": 3
   },
   "file_extension": ".py",
   "mimetype": "text/x-python",
   "name": "python",
   "nbconvert_exporter": "python",
   "pygments_lexer": "ipython3",
   "version": "3.9.12"
  }
 },
 "nbformat": 4,
 "nbformat_minor": 1
}
